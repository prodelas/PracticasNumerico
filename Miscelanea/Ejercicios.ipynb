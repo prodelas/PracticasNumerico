{
 "cells": [
  {
   "cell_type": "markdown",
   "id": "aa433b75",
   "metadata": {},
   "source": [
    "# Ejercicios sobre cálculo de valores y vectores propios"
   ]
  },
  {
   "cell_type": "markdown",
   "id": "e9b91a16",
   "metadata": {},
   "source": [
    "1.- Se considera la matriz\n",
    "\n",
    "$$A = \\begin{pmatrix}\n",
    "8.1 &\t1. & 0. &\t0. \\\\\n",
    "1. &\t-5. &\t1. &\t0. \\\\\n",
    "0.\t& 1. &\t0. &\t1. \\\\\n",
    "0. &\t0. &\t1. &\t-1.5 \n",
    "\\end{pmatrix}.$$\n",
    "\n",
    "a) Calcule diez aproximaciones, partiendo del vector $\\mathbf{X}\\equiv (1.,1.,1.,1.)^\\top$, con el método de las potencias normalizado para obtener una aproximación del valor propio dominante y de un vector propio asociado.\n",
    "\n",
    "b) Igualmente calcule diez aproximaciones, partiendo del vector $\\mathbf{X}\\equiv (1.,1.,1.,1.)^\\top$, con el método de las potencias inversas para obtener una aproximación del valor propio de menor valor absoluto y de un vector propio asociado.\n",
    "\n",
    "c) Obtenga ahora los valores y vectores propios de la matriz $A$ con las órdenes directas correspondientes de Python, y observe las diferencias entre el valor propio dominante y el de valor absoluto mínimo y las aproximaciones obtenidas en los apartados a) y b). \n",
    "\n",
    "d) Aplique finalmente el método de las potencias desplazadas para terminar de aproximar el resto de valores propios de dicha matriz."
   ]
  },
  {
   "cell_type": "markdown",
   "id": "ae3220b1",
   "metadata": {},
   "source": [
    "2.- A partir de la matriz $A$ del ejercicio 1 y del valor propio dominante obtenido en ese ejercicio, que podemos denotar $\\mathbf{v}_1$, calcule una matriz  $B = A-\\mathbf{v}_1 I$, siendo $I$ la matriz identidad de orden 4. Aplique el método de las potencias a $B$ y deshaga el desplazamiento. Observará que ha aproximado el  valor propio dominante de entre los de signo opuesto al primero."
   ]
  },
  {
   "cell_type": "markdown",
   "id": "caf5b6be",
   "metadata": {},
   "source": [
    "3.- Repita los mismos apartados del ejercicio 1 para la matriz\n",
    "\n",
    "$$A = \\begin{pmatrix}\n",
    "-34.5 &\t9. &\t7. \\\\\n",
    " 1. &\t0. &\t1. \\\\\n",
    "0.75 &\t0.2 &\t4.5\n",
    "\\end{pmatrix}.$$"
   ]
  },
  {
   "cell_type": "markdown",
   "id": "43ff93f9",
   "metadata": {},
   "source": [
    "4.- Supongamos que queremos construir una matriz cuyos valores y vectores propios conocemos de antemano. Concretamente, queremos que los valores propios sean $\\lambda = 7, 5, -1$ y que los vectores propios sean las filas de la siguiente matriz\n",
    "\n",
    "$$C = \\begin{pmatrix}\n",
    "0 &\t1 &\t1 \\\\\n",
    "1 &\t0 &\t1 \\\\\n",
    "-2 & 3 &\t0\n",
    "\\end{pmatrix}$$\n",
    "\n",
    "¿Sería capaz de construir dicha matriz buscada, usando las reglas habituales del álgebra matricial? Ayúdese si quiere de la posibilidad de Python de operar tanto con matrices simbólicas como con arrays de NumPy, para realizar dichos cálculos. También se podrían realizar a mano, pero en todo caso, compruebe luego con las órdenes específicas de Python que los valores y vectores propios de la matriz obtenida son los correctos."
   ]
  },
  {
   "cell_type": "markdown",
   "id": "ea2da3c9",
   "metadata": {},
   "source": [
    "5.- Como en prácticas anteriores, intente confeccionar un notebook equivalente a los vistos para este tema o bien un fichero de RMarkdown implementando la mayoría de códigos y ejemplos vistos con Python."
   ]
  },
  {
   "cell_type": "markdown",
   "id": "6d0472c2",
   "metadata": {},
   "source": [
    "<!--NAVIGATION-->\n",
    "< [Álgebra Lineal Numérica](Prac_AlgebraMatricialNumerica.ipynb) | [Planteamiento del problema y motivación](Planteamiento-del-problema-Motivacion.ipynb)| [Método de las potencias](Metodo-Potencias.ipynb) | [Valores y Vectores Propios con Python](Valores-y-Vectores-propios-con-Python.ipynb) >"
   ]
  }
 ],
 "metadata": {
  "kernelspec": {
   "display_name": "Python 3 (ipykernel)",
   "language": "python",
   "name": "python3"
  },
  "language_info": {
   "codemirror_mode": {
    "name": "ipython",
    "version": 3
   },
   "file_extension": ".py",
   "mimetype": "text/x-python",
   "name": "python",
   "nbconvert_exporter": "python",
   "pygments_lexer": "ipython3",
   "version": "3.9.7"
  }
 },
 "nbformat": 4,
 "nbformat_minor": 5
}
