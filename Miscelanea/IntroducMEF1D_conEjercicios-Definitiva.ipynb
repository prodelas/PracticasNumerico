{
 "cells": [
  {
   "cell_type": "markdown",
   "metadata": {},
   "source": [
    "# Introducción al MEF en una dimensión"
   ]
  },
  {
   "cell_type": "markdown",
   "metadata": {},
   "source": [
    "Autor: Pedro González Rodelas\n",
    "\n",
    "Fecha de la primera versión: 06/10/1017\n",
    "\n",
    "Sucesivas revisiones: 08,15 y 22/05/2018\n",
    "\n",
    "Fecha de la última revisión: 04/05/2020"
   ]
  },
  {
   "cell_type": "code",
   "execution_count": 1,
   "metadata": {},
   "outputs": [
    {
     "name": "stdout",
     "output_type": "stream",
     "text": [
      " El volumen de la unidad C es Local Disk\n",
      " El número de serie del volumen es: 6C57-0013\n",
      "\n",
      " Directorio de C:\\Users\\prode\\Dropbox (DropBox Básico)\\Docencia\\Matemáticas\\AnNumEDPs\\Archivos_PracticasPython\n",
      "\n",
      "21/05/2018  16:27             5.765 MEFLagrange1D_Dirichlet.py\n",
      "07/05/2020  21:37             3.840 MEFLagrange1D_Interpol.py\n",
      "21/05/2018  16:27             5.809 MEFLagrange1D_Neumann.py\n",
      "06/03/2020  20:52             5.898 version_information.py\n",
      "               4 archivos         21.312 bytes\n",
      "               0 dirs  12.273.917.952 bytes libres\n"
     ]
    }
   ],
   "source": [
    "%ls *.py"
   ]
  },
  {
   "cell_type": "code",
   "execution_count": 2,
   "metadata": {},
   "outputs": [
    {
     "data": {
      "application/json": {
       "Software versions": [
        {
         "module": "Python",
         "version": "3.7.7 64bit [MSC v.1916 64 bit (AMD64)]"
        },
        {
         "module": "IPython",
         "version": "7.13.0"
        },
        {
         "module": "OS",
         "version": "Windows 10 10.0.17763 SP0"
        },
        {
         "module": "numpy",
         "version": "1.18.1"
        },
        {
         "module": "matplotlib",
         "version": "3.2.1"
        },
        {
         "module": "sympy",
         "version": "1.5.1"
        },
        {
         "module": "scipy",
         "version": "1.4.1"
        }
       ]
      },
      "text/html": [
       "<table><tr><th>Software</th><th>Version</th></tr><tr><td>Python</td><td>3.7.7 64bit [MSC v.1916 64 bit (AMD64)]</td></tr><tr><td>IPython</td><td>7.13.0</td></tr><tr><td>OS</td><td>Windows 10 10.0.17763 SP0</td></tr><tr><td>numpy</td><td>1.18.1</td></tr><tr><td>matplotlib</td><td>3.2.1</td></tr><tr><td>sympy</td><td>1.5.1</td></tr><tr><td>scipy</td><td>1.4.1</td></tr><tr><td colspan='2'>Mon May 18 11:57:15 2020 Hora de verano romance</td></tr></table>"
      ],
      "text/latex": [
       "\\begin{tabular}{|l|l|}\\hline\n",
       "{\\bf Software} & {\\bf Version} \\\\ \\hline\\hline\n",
       "Python & 3.7.7 64bit [MSC v.1916 64 bit (AMD64)] \\\\ \\hline\n",
       "IPython & 7.13.0 \\\\ \\hline\n",
       "OS & Windows 10 10.0.17763 SP0 \\\\ \\hline\n",
       "numpy & 1.18.1 \\\\ \\hline\n",
       "matplotlib & 3.2.1 \\\\ \\hline\n",
       "sympy & 1.5.1 \\\\ \\hline\n",
       "scipy & 1.4.1 \\\\ \\hline\n",
       "\\hline \\multicolumn{2}{|l|}{Mon May 18 11:57:15 2020 Hora de verano romance} \\\\ \\hline\n",
       "\\end{tabular}\n"
      ],
      "text/plain": [
       "Software versions\n",
       "Python 3.7.7 64bit [MSC v.1916 64 bit (AMD64)]\n",
       "IPython 7.13.0\n",
       "OS Windows 10 10.0.17763 SP0\n",
       "numpy 1.18.1\n",
       "matplotlib 3.2.1\n",
       "sympy 1.5.1\n",
       "scipy 1.4.1\n",
       "Mon May 18 11:57:15 2020 Hora de verano romance"
      ]
     },
     "execution_count": 2,
     "metadata": {},
     "output_type": "execute_result"
    }
   ],
   "source": [
    "# Cargando el fichero version_information.py\n",
    "# alojado el directorio de trabajo actual\n",
    "# podremos comprobar las versiones concretas\n",
    "# tanto del intérprete de Python, como de los\n",
    "# módulos que tenemos instalados en nuestro ordenador.\n",
    "\n",
    "%reload_ext version_information\n",
    "\n",
    "%version_information numpy, matplotlib, sympy, scipy"
   ]
  },
  {
   "cell_type": "markdown",
   "metadata": {},
   "source": [
    "En esta práctica intentaremos mostrar las ideas y técnicas básicas en las que se basa el conocido como Método de los Elementos Finitos en una variable. \n",
    "\n",
    "Con el objeto de incidir sólo en las técnicas esenciales y evitar mayores complicaciones de tipo meramente algorítmico, resolveremos un simple problema de contorno de segundo orden, empleando el E.F. de Lagrange lineal. \n",
    "\n",
    "No obstante, sí que plantearemos la interesante cuestión de las distintas condiciones de frontera que podríamos considerar, ya sean de tipo Dirichlet, de tipo Neumann o de tipo Robin, homogéneas o no, y cómo se deberían tratar en cada caso."
   ]
  },
  {
   "cell_type": "markdown",
   "metadata": {},
   "source": [
    "## Carga de los módulos y Definición de ciertas funciones empleadas"
   ]
  },
  {
   "cell_type": "markdown",
   "metadata": {},
   "source": [
    "Antes de empezar a realizar cualquier cálculo numérico o simbólico debemos de cargar los correspondientes módulos de Python que implementan la mayoría de funciones y procedimientos necesarios para ello: `NumPy` y `SymPy`, que serán cargados con los pseudónimos np y sp, respectivamente. Además cargaremos el módulo `Matplotlib` que nos permitirá realizar todas las gráficas que los necesitemos."
   ]
  },
  {
   "cell_type": "code",
   "execution_count": 3,
   "metadata": {},
   "outputs": [],
   "source": [
    "import numpy as np # Importamos el módulo NumPy con el pseudónimo np\n",
    "import sympy as sp # Importamos el módulo SymPy con el pseudónimo sp\n",
    "# sp.init_printing() # con esta opción obtendremos bonitas fórmulas\n",
    "# pero ha dejado de ser necesaria en la últimas versiones de Python"
   ]
  },
  {
   "cell_type": "code",
   "execution_count": 4,
   "metadata": {},
   "outputs": [],
   "source": [
    "# Importaremos el módulo matplotlib usando una opción concreta que \n",
    "# nos permita poder visualizar los gráficos incrustados \n",
    "# en línea dentro de este mismo notebook\n",
    "%matplotlib inline \n",
    "import matplotlib.pyplot as plt  # plt será el pseudónimo correspondiente"
   ]
  },
  {
   "cell_type": "markdown",
   "metadata": {},
   "source": [
    "También definiremos cierta función propia, `mychop`, que nos permitirá cambiar por $0$ cualquier valor que obtengamos, después de ciertos cálculos que involucren errores de redondeo, propios del cálculo con números en coma flotante. "
   ]
  },
  {
   "cell_type": "code",
   "execution_count": 5,
   "metadata": {},
   "outputs": [],
   "source": [
    "def mychop(expr, *, max=10**(-16)): \n",
    "    if abs(expr) > max:\n",
    "      return expr \n",
    "    else:\n",
    "      return 0"
   ]
  },
  {
   "cell_type": "markdown",
   "metadata": {},
   "source": [
    "A su vez usaremos una versión vectorizada de la misma, que podremos aplicar a cualquier lista, tupla o array con valores numéricos en coma flotante."
   ]
  },
  {
   "cell_type": "code",
   "execution_count": 6,
   "metadata": {},
   "outputs": [],
   "source": [
    "chop_vec = np.vectorize(mychop)"
   ]
  },
  {
   "cell_type": "markdown",
   "metadata": {},
   "source": [
    "# Definición de las funciones de base del E.F."
   ]
  },
  {
   "cell_type": "code",
   "execution_count": 7,
   "metadata": {},
   "outputs": [],
   "source": [
    "t,z,xL,xR,yL,yR = sp.symbols('t,z,xL,xR,yL,yR')\n",
    "def linea(z,xL,yL,xR,yR):\n",
    "    \"\"\"linea que pasa por los puntos (xL,yL) y (xR,yR)\"\"\"\n",
    "    return yL+(z-xL)*(yL-yR)/(xL-xR)"
   ]
  },
  {
   "cell_type": "code",
   "execution_count": 8,
   "metadata": {},
   "outputs": [],
   "source": [
    "def l1(t):\n",
    "    \"\"\"primera func. de base del E.F. de Lagrange P1 en 1D\"\"\"\n",
    "    return 1-t\n",
    "\n",
    "def l2(t):\n",
    "    \"\"\"segunda func. de base del E.F. de Lagrange P1 en 1D\"\"\"\n",
    "    return t"
   ]
  },
  {
   "cell_type": "code",
   "execution_count": 9,
   "metadata": {},
   "outputs": [],
   "source": [
    "def dl1(t):\n",
    "    \"\"\"derivada de la primera func. de base del E.F. de Lagrange P1 en 1D\"\"\"\n",
    "    return -1\n",
    "\n",
    "def dl2(t):\n",
    "    \"\"\"derivada de la segunda func. de base del E.F. de Lagrange P1 en 1D\"\"\"\n",
    "    return 1"
   ]
  },
  {
   "cell_type": "code",
   "execution_count": 10,
   "metadata": {},
   "outputs": [],
   "source": [
    "def Finv(z,a,b):\n",
    "    \"\"\"afinidad entre cada subintervalo de la partición \n",
    "        y el intervalo unidad\"\"\"\n",
    "    return (z-a)/(b-a)\n",
    "\n",
    "def dFinv(z,a,b):\n",
    "    \"\"\" derivada de la afinidad Finv\"\"\"\n",
    "    return 1/(b-a)"
   ]
  },
  {
   "cell_type": "code",
   "execution_count": 11,
   "metadata": {},
   "outputs": [
    {
     "data": {
      "text/latex": [
       "$\\displaystyle yL + \\frac{\\left(- xL + z\\right) \\left(yL - yR\\right)}{xL - xR}$"
      ],
      "text/plain": [
       "yL + (-xL + z)*(yL - yR)/(xL - xR)"
      ]
     },
     "execution_count": 11,
     "metadata": {},
     "output_type": "execute_result"
    }
   ],
   "source": [
    "linea(z,xL,yL,xR,yR)  # línea que pasa por dos puntos dados del plano"
   ]
  },
  {
   "cell_type": "code",
   "execution_count": 12,
   "metadata": {},
   "outputs": [
    {
     "data": {
      "text/latex": [
       "$\\displaystyle \\frac{yL \\left(- xR + z\\right) + yR \\left(xL - z\\right)}{xL - xR}$"
      ],
      "text/plain": [
       "(yL*(-xR + z) + yR*(xL - z))/(xL - xR)"
      ]
     },
     "execution_count": 12,
     "metadata": {},
     "output_type": "execute_result"
    }
   ],
   "source": [
    "sp.simplify(yL*l1(Finv(z,xL,xR))+yR*l2(Finv(z,xL,xR))) # otra forma\n",
    "# de resolver este pbma. de interpolación lineal a partir de las \n",
    "# funciones de base del E.F. de Lagrange. Comprobación justo abajo"
   ]
  },
  {
   "cell_type": "code",
   "execution_count": 13,
   "metadata": {},
   "outputs": [
    {
     "data": {
      "text/latex": [
       "$\\displaystyle 0$"
      ],
      "text/plain": [
       "0"
      ]
     },
     "execution_count": 13,
     "metadata": {},
     "output_type": "execute_result"
    }
   ],
   "source": [
    "sp.simplify(yL*l1(Finv(z,xL,xR))+yR*l2(Finv(z,xL,xR))\n",
    "            -linea(z,xL,yL,xR,yR))"
   ]
  },
  {
   "cell_type": "code",
   "execution_count": 14,
   "metadata": {},
   "outputs": [],
   "source": [
    "nx= 10;  # número de subintervalos de igual longitud a considerar\n",
    "a = 0; b = 10; # intervalo de trabajo\n",
    "# definición de las funciones de base del espacio de E.F.\n",
    "x = np.linspace(a,b,nx+1)  # para esta partición concreta\n",
    "\n",
    "def wi(z,x,i):  # en los nodos interiores\n",
    "    \"\"\"funciones de base del E.F. de Lagrange P1 unidimensional\"\"\"\n",
    "    if (x[i-1]<=z)*(z<=x[i]):\n",
    "        valor = l2(Finv(z,x[i-1],x[i]))\n",
    "    elif (x[i]<=z)*(z<=x[i+1]):  \n",
    "        valor = l1(Finv(z,x[i],x[i+1]))\n",
    "    else:\n",
    "        valor = 0\n",
    "    return valor\n",
    "\n",
    "def w0(z,x):  # en el extremo izquierdo del intervalo\n",
    "    \"\"\"funcion de base del E.F. de Lagrange P1 unidimensional \n",
    "    en el extremo izquierdo\"\"\"\n",
    "    if (x[0]<=z)*(z<=x[1]):\n",
    "        valor = l1(Finv(z,x[0],x[1]))\n",
    "    else:\n",
    "        valor = 0\n",
    "    return valor\n",
    "\n",
    "def wn(z,x):  # en el extremo derecho del intervalo\n",
    "    \"\"\"funcion de base del E.F. de Lagrange P1 unidimensional \n",
    "    en el extremo derecho\"\"\"\n",
    "    # recuérdese que x[-1] y x[-2] indican respectivamente el último y penúltimo nodos\n",
    "    if (x[-2]<=z)*(z<=x[-1]):  \n",
    "        valor = l2(Finv(z,x[-2],x[-1])) \n",
    "    else:\n",
    "        valor = 0\n",
    "    return valor"
   ]
  },
  {
   "cell_type": "code",
   "execution_count": 15,
   "metadata": {},
   "outputs": [
    {
     "data": {
      "text/plain": [
       "array([ 0.,  1.,  2.,  3.,  4.,  5.,  6.,  7.,  8.,  9., 10.])"
      ]
     },
     "execution_count": 15,
     "metadata": {},
     "output_type": "execute_result"
    }
   ],
   "source": [
    "x"
   ]
  },
  {
   "cell_type": "code",
   "execution_count": 16,
   "metadata": {},
   "outputs": [
    {
     "data": {
      "text/plain": [
       "9.0"
      ]
     },
     "execution_count": 16,
     "metadata": {},
     "output_type": "execute_result"
    }
   ],
   "source": [
    "x[-2]"
   ]
  },
  {
   "cell_type": "code",
   "execution_count": 17,
   "metadata": {},
   "outputs": [],
   "source": [
    "def dwi(z,x,i):  # en los nodos interiores\n",
    "    \"\"\"derivadas de las funcs. de base del E.F. de Lagrange P1 1D\"\"\"\n",
    "    if (x[i-1]<=z)*(z<=x[i]):\n",
    "        valor = dFinv(z,x[i-1],x[i])  #  dl2 = +1\n",
    "    elif (x[i]<=z)*(z<=x[i+1]):  \n",
    "        valor = -dFinv(z,x[i],x[i+1]) #  dl1 = -1\n",
    "    else:\n",
    "        valor = 0\n",
    "    return valor\n",
    "\n",
    "def dw0(z,x):  # en el extremo izquierdo del intervalo\n",
    "    \"\"\"derivada de la func. de base del E.F. de Lagrange P1 1D\n",
    "    en el extremo izquierdo\"\"\"\n",
    "    if (x[0]<=z)*(z<=x[1]):\n",
    "        valor = -dFinv(z,x[0],x[1])  #  dl1 = -1\n",
    "    else:\n",
    "        valor = 0\n",
    "    return valor\n",
    "\n",
    "def dwn(z,x):  # en el extremo derecho del intervalo\n",
    "    \"\"\"derivada de la func. de base del E.F. de Lagrange P1 1D \n",
    "    en el extremo derecho\"\"\"\n",
    "    if (x[-2]<=z)*(z<=x[-1]):         # x[-2]=x[n-1], x[-1]=x[n]\n",
    "        valor = dFinv(z,x[-2],x[-1])  #  dl2 = +1\n",
    "    else:\n",
    "        valor = 0\n",
    "    return valor"
   ]
  },
  {
   "cell_type": "code",
   "execution_count": 18,
   "metadata": {},
   "outputs": [
    {
     "data": {
      "image/png": "[encoded data removed]",
      "text/plain": [
       "<Figure size 432x288 with 1 Axes>"
      ]
     },
     "metadata": {
      "needs_background": "light"
     },
     "output_type": "display_data"
    }
   ],
   "source": [
    "a = 0; b = 10; nxx = 1000;  # Esta segunda partición del intervalo \n",
    "xx = np.linspace(a,b,nxx)   # mucho más fina que la anterior                \n",
    "yy = [w0(z,x) for z in xx]  # tan sólo se usará para poder realizar\n",
    "plt.plot(xx,yy);            # representaciones gráficas."
   ]
  },
  {
   "cell_type": "code",
   "execution_count": 19,
   "metadata": {},
   "outputs": [
    {
     "data": {
      "image/png": "[encoded data removed]",
      "text/plain": [
       "<Figure size 432x288 with 1 Axes>"
      ]
     },
     "metadata": {
      "needs_background": "light"
     },
     "output_type": "display_data"
    }
   ],
   "source": [
    "i = nx//2;  # nodo intermedio\n",
    "xx = np.linspace(a,b,nxx)\n",
    "yy = [wi(z,x,i) for z in xx]\n",
    "plt.plot(xx,yy);"
   ]
  },
  {
   "cell_type": "code",
   "execution_count": 20,
   "metadata": {},
   "outputs": [
    {
     "data": {
      "image/png": "[encoded data removed]",
      "text/plain": [
       "<Figure size 432x288 with 1 Axes>"
      ]
     },
     "metadata": {
      "needs_background": "light"
     },
     "output_type": "display_data"
    }
   ],
   "source": [
    "xx = np.linspace(a,b,nxx)    # función de base\n",
    "yy = [wn(z,x) for z in xx]   # en el nodo derecho\n",
    "plt.plot(xx,yy);"
   ]
  },
  {
   "cell_type": "code",
   "execution_count": 21,
   "metadata": {},
   "outputs": [
    {
     "data": {
      "image/png": "[encoded data removed]",
      "text/plain": [
       "<Figure size 576x576 with 1 Axes>"
      ]
     },
     "metadata": {
      "needs_background": "light"
     },
     "output_type": "display_data"
    }
   ],
   "source": [
    "fig,ax = plt.subplots(figsize=(8,8))\n",
    "\n",
    "for i in range(1,nx):\n",
    "    yy = [wi(z,x,i) for z in xx]\n",
    "    plt.plot(xx,yy);\n",
    "yy = [w0(z,x) for z in xx]\n",
    "plt.plot(xx,yy);\n",
    "yy = [wn(z,x) for z in xx]\n",
    "plt.plot(xx,yy);\n",
    "\n",
    "ax.set_xlabel('$x$',fontsize=18)\n",
    "ax.set_ylabel('$y$',fontsize=18)\n",
    "ax.set_title('Funciones de base del E.F. de Lagrange P1 en 1D');"
   ]
  },
  {
   "cell_type": "code",
   "execution_count": 22,
   "metadata": {},
   "outputs": [
    {
     "data": {
      "image/png": "[encoded data removed]",
      "text/plain": [
       "<Figure size 432x288 with 1 Axes>"
      ]
     },
     "metadata": {
      "needs_background": "light"
     },
     "output_type": "display_data"
    }
   ],
   "source": [
    "xx = np.linspace(a,b,nxx)    # Función derivada\n",
    "yy = [dw0(z,x) for z in xx]  # de la función de base\n",
    "plt.plot(xx,yy);             # en el extremo izqdo."
   ]
  },
  {
   "cell_type": "code",
   "execution_count": 23,
   "metadata": {},
   "outputs": [
    {
     "data": {
      "image/png": "[encoded data removed]",
      "text/plain": [
       "<Figure size 432x288 with 1 Axes>"
      ]
     },
     "metadata": {
      "needs_background": "light"
     },
     "output_type": "display_data"
    }
   ],
   "source": [
    "xx = np.linspace(a,b,nxx)      # Función derivada  \n",
    "yy = [dwn(z,x) for z in xx]    # de la función de base\n",
    "plt.plot(xx,yy);               # en el extremo dcho."
   ]
  },
  {
   "cell_type": "code",
   "execution_count": 24,
   "metadata": {},
   "outputs": [
    {
     "data": {
      "image/png": "[encoded data removed]",
      "text/plain": [
       "<Figure size 576x576 with 1 Axes>"
      ]
     },
     "metadata": {
      "needs_background": "light"
     },
     "output_type": "display_data"
    }
   ],
   "source": [
    "a = 0; b = 10; nxx = 1000;\n",
    "xx = np.linspace(a,b,nxx)\n",
    "\n",
    "fig,ax = plt.subplots(figsize=(8,8))\n",
    "\n",
    "for i in range(1,nx):\n",
    "    yy = [dwi(z,x,i) for z in xx]\n",
    "    plt.plot(xx,yy);\n",
    "yy = [dw0(z,x) for z in xx]\n",
    "plt.plot(xx,yy);\n",
    "yy = [dwn(z,x) for z in xx]\n",
    "plt.plot(xx,yy);\n",
    "\n",
    "ax.set_xlabel('$x$',fontsize=18)\n",
    "ax.set_ylabel('$y$',fontsize=18)\n",
    "ax.set_title('Derivadas de las funciones de base del E.F. de Lagrange P1 en 1D');"
   ]
  },
  {
   "cell_type": "code",
   "execution_count": 25,
   "metadata": {},
   "outputs": [
    {
     "data": {
      "image/png": "[encoded data removed]",
      "text/plain": [
       "<Figure size 576x576 with 1 Axes>"
      ]
     },
     "metadata": {
      "needs_background": "light"
     },
     "output_type": "display_data"
    }
   ],
   "source": [
    "a = 0; b = 10; nxx = 1000;\n",
    "xx = np.linspace(a,b,nxx)\n",
    "\n",
    "fig,ax = plt.subplots(figsize=(8,8))\n",
    "\n",
    "i=nx//2;  # nodo intermedio\n",
    "yy = [wi(z,x,i) for z in xx]\n",
    "plt.plot(xx,yy);\n",
    "yy = [w0(z,x) for z in xx]\n",
    "plt.plot(xx,yy);\n",
    "yy = [wn(z,x) for z in xx]\n",
    "plt.plot(xx,yy);\n",
    "\n",
    "ax.set_xlabel('$x$',fontsize=18)\n",
    "ax.set_ylabel('$y$',fontsize=18)\n",
    "ax.set_title('Funciones de base del E.F. de Lagrange P1 en 1D');"
   ]
  },
  {
   "cell_type": "code",
   "execution_count": 26,
   "metadata": {},
   "outputs": [
    {
     "data": {
      "image/png": "[encoded data removed]",
      "text/plain": [
       "<Figure size 576x576 with 1 Axes>"
      ]
     },
     "metadata": {
      "needs_background": "light"
     },
     "output_type": "display_data"
    }
   ],
   "source": [
    "nxx = 1000;\n",
    "xx = np.linspace(a,b,nxx)\n",
    "\n",
    "fig,ax = plt.subplots(figsize=(8,8))\n",
    "\n",
    "i=nx//2; # nodo intermedio\n",
    "yy = [dwi(z,x,i) for z in xx]\n",
    "plt.plot(xx,yy);\n",
    "yy = [dw0(z,x) for z in xx]\n",
    "plt.plot(xx,yy);\n",
    "yy = [dwn(z,x) for z in xx]\n",
    "plt.plot(xx,yy);\n",
    "\n",
    "ax.set_xlabel('$x$',fontsize=18)\n",
    "ax.set_ylabel('$y$',fontsize=18)\n",
    "ax.set_title('Derivadas de las funciones de base del E.F. de Lagrange P1 en 1D');"
   ]
  },
  {
   "cell_type": "markdown",
   "metadata": {},
   "source": [
    "Veámos ahora cómo influye el valor del paso uniforme de la partición $h$ en los valores de la derivada constante a trozos."
   ]
  },
  {
   "cell_type": "code",
   "execution_count": 27,
   "metadata": {},
   "outputs": [
    {
     "name": "stdout",
     "output_type": "stream",
     "text": [
      "h = 1.0\n"
     ]
    },
    {
     "data": {
      "image/png": "[encoded data removed]",
      "text/plain": [
       "<Figure size 576x576 with 1 Axes>"
      ]
     },
     "metadata": {
      "needs_background": "light"
     },
     "output_type": "display_data"
    }
   ],
   "source": [
    "# bastará probar con distintos valores de nx\n",
    "nx = 10; print('h =',(b-a)/nx) \n",
    "x = np.linspace(a,b,nx+1)\n",
    "nxx = 1000;\n",
    "xx = np.linspace(a,b,nxx)\n",
    "\n",
    "fig,ax = plt.subplots(figsize=(8,8))\n",
    "\n",
    "i=nx//2;\n",
    "yy = [dwi(z,x,i) for z in xx]\n",
    "plt.plot(xx,yy);\n",
    "yy = [dw0(z,x) for z in xx]\n",
    "plt.plot(xx,yy);\n",
    "yy = [dwn(z,x) for z in xx]\n",
    "plt.plot(xx,yy);\n",
    "\n",
    "ax.set_xlabel('$x$',fontsize=18)\n",
    "ax.set_ylabel('$y$',fontsize=18)\n",
    "ax.set_title('Derivadas de las funciones de base del E.F. de Lagrange P1 en 1D');"
   ]
  },
  {
   "cell_type": "markdown",
   "metadata": {},
   "source": [
    "# Recordatorio sobre los splines lineales"
   ]
  },
  {
   "cell_type": "markdown",
   "metadata": {},
   "source": [
    "Antes de continuar con el empleo de la técnica de los elementos finitos para la resolución numérica de ciertas ecuaciones diferenciales, vamos a recordar brevemente cómo estas mismas funciones de base del E.F. de Lagrange lineal se podían usar como base de los correspondientes splines lineales $S_1(a,x_1,\\ldots,x_{n-1},b)$ y por lo tanto se podrán usar para resolver cualquier problema de interpolación de Lagrange con datos dados sobre los nodos de dicha partición. "
   ]
  },
  {
   "cell_type": "code",
   "execution_count": 28,
   "metadata": {},
   "outputs": [
    {
     "name": "stdout",
     "output_type": "stream",
     "text": [
      "h = 1.0\n"
     ]
    },
    {
     "data": {
      "image/png": "[encoded data removed]",
      "text/plain": [
       "<Figure size 576x576 with 1 Axes>"
      ]
     },
     "metadata": {
      "needs_background": "light"
     },
     "output_type": "display_data"
    }
   ],
   "source": [
    "a = 0; b = 10;\n",
    "nx = 10; nxx = 1000;\n",
    "print('h =',(b-a)/nx) \n",
    "x = np.linspace(a,b,nx+1)\n",
    "xx = np.linspace(a,b,nxx)\n",
    "\n",
    "fig,ax = plt.subplots(figsize=(8,8))\n",
    "\n",
    "i=nx//2;  # nodo intermedio\n",
    "yy = [wi(z,x,i-1) for z in xx]\n",
    "plt.plot(xx,yy,label='$w_{i-1}(x)$');\n",
    "yy = [wi(z,x,i) for z in xx]\n",
    "plt.plot(xx,yy,label='$w_i(x)$');\n",
    "yy = [wi(z,x,i+1) for z in xx]\n",
    "plt.plot(xx,yy,label='$w_{i+1}(x)$');\n",
    "\n",
    "ax.set_xticks([x[i-2],x[i-1], x[i], x[i+1], x[i+2]])\n",
    "ax.set_xticklabels(['$x_{i-2}$','$x_{i-1}$','$x_{i}$','$x_{i+1}$','$x_{i+2}$'], fontsize=18)\n",
    "ax.spines['bottom'].set_position(('data',0)) \n",
    "ax.spines['left'].set_position(('data',0))\n",
    "\n",
    "ym = 3; yi = -1; yp =-2; # cambie estos valores para ver el efecto final\n",
    "yy = [ym*wi(z,x,i-1)+yi*wi(z,x,i)+yp*wi(z,x,i+1) for z in xx]\n",
    "plt.plot(xx,yy,label='$y_{i-1}w_{i-1}(x)+y_{i}w_{i}(x)+y_{i+1}w_{i+1}(x)$');\n",
    "ax.set_xlabel('$x$',fontsize=18)\n",
    "ax.set_ylabel('$y$',fontsize=18)\n",
    "ax.legend(loc=4)\n",
    "ax.set_title('Combinación de varias funciones de base del E.F. de Lagrange P1 en 1D');"
   ]
  },
  {
   "cell_type": "code",
   "execution_count": 29,
   "metadata": {},
   "outputs": [],
   "source": [
    "fig.savefig(\"CombBaseEF.pdf\")"
   ]
  },
  {
   "cell_type": "code",
   "execution_count": 30,
   "metadata": {},
   "outputs": [
    {
     "name": "stdout",
     "output_type": "stream",
     "text": [
      " El volumen de la unidad C es Local Disk\n",
      " El número de serie del volumen es: 6C57-0013\n",
      "\n",
      " Directorio de C:\\Users\\prode\\Dropbox (DropBox Básico)\\Docencia\\Matemáticas\\AnNumEDPs\\Archivos_PracticasPython\n",
      "\n",
      "18/05/2020  11:57            16.151 CombBaseEF.pdf\n",
      "               1 archivos         16.151 bytes\n",
      "               0 dirs  12.273.901.568 bytes libres\n"
     ]
    }
   ],
   "source": [
    "%ls CombBaseEF.*"
   ]
  },
  {
   "cell_type": "code",
   "execution_count": 31,
   "metadata": {},
   "outputs": [
    {
     "data": {
      "image/png": "[encoded data removed]",
      "text/plain": [
       "<Figure size 576x576 with 1 Axes>"
      ]
     },
     "metadata": {
      "needs_background": "light"
     },
     "output_type": "display_data"
    }
   ],
   "source": [
    "a = 0; b = 10; nxx = 1000;\n",
    "\n",
    "fig,ax = plt.subplots(figsize=(8,8))\n",
    "\n",
    "i=nx//2;  # nodo intermedio\n",
    "\n",
    "xx = np.linspace(x[i-2],x[i-1],nxx)\n",
    "yy = [l2(Finv(z,x[i-2],x[i-1])) for z in xx]\n",
    "plt.plot(xx,yy,label=r'$l_2^{(i-1)}(x)\\equiv l_2(\\frac{x-x_{i-2}}{x_{i-1}-x_{i-2}})$');\n",
    "\n",
    "xx = np.linspace(x[i-1],x[i],nxx)\n",
    "\n",
    "yy = [l1(Finv(z,x[i-1],x[i])) for z in xx]\n",
    "plt.plot(xx,yy,label=r'$l_1^{(i)}(x)\\equiv l_1(\\frac{x-x_{i-1}}{x_{i}-x_{i-1}})$');\n",
    "\n",
    "yy = [l2(Finv(z,x[i-1],x[i])) for z in xx]\n",
    "plt.plot(xx,yy,label=r'$l_2^{(i)}(x)\\equiv l_2(\\frac{x-x_{i-1}}{x_{i}-x_{i-1}})$');\n",
    "\n",
    "xx = np.linspace(x[i],x[i+1],nxx)\n",
    "yy = [l1(Finv(z,x[i],x[i+1])) for z in xx]\n",
    "plt.plot(xx,yy,label=r'$l_1^{(i+1)}(x)\\equiv l_1(\\frac{x-x_{i}}{x_{i+1}-x_{i}})$');\n",
    "\n",
    "ax.set_xticks([x[i-2],x[i-1], x[i], x[i+1]])\n",
    "ax.set_xticklabels(['$x_{i-2}$','$x_{i-1}$', '$x_{i}$', '$x_{i+1}$'], fontsize=18)\n",
    "ax.spines['bottom'].set_position(('data',0)) \n",
    "ax.spines['left'].set_position(('data',0))   \n",
    "\n",
    "xx = np.linspace(a,b,nxx)\n",
    "yy = np.zeros(nxx)\n",
    "ax.plot(xx,yy)\n",
    "\n",
    "ax.set_xlabel('$x$',fontsize=18)\n",
    "ax.set_ylabel('$y$',fontsize=18)\n",
    "ax.legend(loc=1)\n",
    "\n",
    "ax.text(1.35, 0.85, r\"$l_2^{(i-1)}(x), x\\in I_{i-1}$\")\n",
    "ax.text(1.35, 0.8, r\"$l_1^{(i)}(x), x\\in I_{i}$\")\n",
    "ax.text(1.35, 0.75, r\"$0,\\quad x\\notin I_{i-1}\\cup I_{i}$\")\n",
    "ax.text(.25, 0.8, r\"$w_{i-1}(x)=  $\")\n",
    "\n",
    "ax.text(1.15, 0.55, r\"$l_2^{(i)}(x), x\\in I_{i}$\")\n",
    "ax.text(1.15, 0.5, r\"$l_1^{(i+1)}(x), x\\in I_{i+1}$\")\n",
    "ax.text(1.15, 0.45, r\"$0,\\quad x\\notin I_{i}\\cup I_{i+1}$\")\n",
    "ax.text(.25, 0.5, r\"$w_{i}(x)=  $\")\n",
    "\n",
    "\n",
    "ax.set_title('Varias funciones de base del E.F. a partir de sus componentes elementales');"
   ]
  },
  {
   "cell_type": "code",
   "execution_count": 32,
   "metadata": {},
   "outputs": [],
   "source": [
    "fig.savefig(\"FuncBaseEF.pdf\")"
   ]
  },
  {
   "cell_type": "code",
   "execution_count": 33,
   "metadata": {},
   "outputs": [
    {
     "name": "stdout",
     "output_type": "stream",
     "text": [
      " El volumen de la unidad C es Local Disk\n",
      " El número de serie del volumen es: 6C57-0013\n",
      "\n",
      " Directorio de C:\\Users\\prode\\Dropbox (DropBox Básico)\\Docencia\\Matemáticas\\AnNumEDPs\\Archivos_PracticasPython\n",
      "\n",
      "18/05/2020  11:57            18.408 FuncBaseEF.pdf\n",
      "               1 archivos         18.408 bytes\n",
      "               0 dirs  12.273.897.472 bytes libres\n"
     ]
    }
   ],
   "source": [
    "ls FuncBaseEF.*"
   ]
  },
  {
   "cell_type": "code",
   "execution_count": 34,
   "metadata": {},
   "outputs": [
    {
     "data": {
      "image/png": "[encoded data removed]",
      "text/plain": [
       "<Figure size 864x432 with 3 Axes>"
      ]
     },
     "metadata": {
      "needs_background": "light"
     },
     "output_type": "display_data"
    }
   ],
   "source": [
    "a = 0; b = 10; nxx = 1000;\n",
    "\n",
    "fig,ax = plt.subplots(figsize=(12,6))\n",
    "\n",
    "ax1 = fig.add_axes([0.1, 0.1, 0.8, 0.8]) # ejes principales\n",
    "ax2 = fig.add_axes([0.6, 0.35, 0.25, 0.25]) # ejes añadidos\n",
    "\n",
    "# figura insertada\n",
    "xx = np.linspace(0,1,nxx)\n",
    "ax2.plot(xx, 1-xx, 'g',label='$l_1(t)$')\n",
    "ax2.plot(xx, xx, 'r',label='$l_2(t)$')\n",
    "ax2.set_xlabel('t')\n",
    "ax2.set_ylabel('y')\n",
    "ax2.legend(loc=9)\n",
    "ax2.set_title('Funciones de base en el intervalo $[0,1]$');\n",
    "\n",
    "i=nx//2;  # nodo intermedio\n",
    "\n",
    "xx = np.linspace(x[i-2],x[i-1],nxx)\n",
    "yy = [l2(Finv(z,x[i-2],x[i-1])) for z in xx]\n",
    "ax1.plot(xx,yy,'r',label=r'$l_2^{i-1}(x)\\equiv l_2(\\frac{x-x_{i-2}}{x_{i-1}-x_{i-2}})$');\n",
    "\n",
    "xx = np.linspace(x[i-1],x[i],nxx)\n",
    "\n",
    "yy = [l1(Finv(z,x[i-1],x[i])) for z in xx]\n",
    "ax1.plot(xx,yy,'g',label=r'$l_1^{(i)}(x)\\equiv l_1(\\frac{x-x_{i-1}}{x_{i}-x_{i-1}})$');\n",
    "\n",
    "yy = [l2(Finv(z,x[i-1],x[i])) for z in xx]\n",
    "ax1.plot(xx,yy,'r',label=r'$l_2^{(i)}(x)\\equiv l_2(\\frac{x-x_{i-1}}{x_{i}-x_{i-1}})$');\n",
    "\n",
    "xx = np.linspace(x[i],x[i+1],nxx)\n",
    "yy = [l1(Finv(z,x[i],x[i+1])) for z in xx]\n",
    "ax1.plot(xx,yy,'g',label=r'$l_1^{(i+1)}(x)\\equiv l_1(\\frac{x-x_{i}}{x_{i+1}-x_{i}})$');\n",
    "\n",
    "ax1.set_xticks([x[i-2], x[i-1], x[i], x[i+1]])\n",
    "ax1.set_xticklabels(['$x_{i-2}$', '$x_{i-1}$', '$x_{i}$', '$x_{i+1}$'], fontsize=18)\n",
    "ax1.spines['bottom'].set_position(('data',0)) \n",
    "ax1.spines['left'].set_position(('data',0))   \n",
    "\n",
    "xx = np.linspace(a,b,nxx)\n",
    "yy = np.zeros(nxx)\n",
    "ax1.plot(xx,yy)\n",
    "\n",
    "ax1.set_xlabel('$x$',fontsize=18)\n",
    "ax1.set_ylabel('$y$',fontsize=18)\n",
    "ax1.legend(loc=1)\n",
    "\n",
    "ax1.text(1.15, 0.85, r\"$l_2^{(i-1)}(x), x\\in I_{i-1}$\")\n",
    "ax1.text(1.15, 0.8, r\"$l_1^{(i)}(x), x\\in I_{i}$\")\n",
    "ax1.text(1.15, 0.75, r\"$0,\\quad x\\notin I_{i-1}\\cup I_{i}$\")\n",
    "ax1.text(.25, 0.8, r\"$w_{i-1}(x)=  $\")\n",
    "\n",
    "ax1.text(1.15, 0.45, r\"$l_2^{(i)}(x), x\\in I_{i}$\")\n",
    "ax1.text(1.15, 0.4, r\"$l_1^{(i+1)}(x), x\\in I_{i+1}$\")\n",
    "ax1.text(1.15, 0.35, r\"$0,\\quad x\\notin I_{i}\\cup I_{i+1}$\")\n",
    "ax1.text(.25, 0.4, r\"$w_{i}(x)=  $\")\n",
    "\n",
    "\n",
    "ax.set_title('Varias funciones de base del E.F. a partir de sus componenentes elementales');"
   ]
  },
  {
   "cell_type": "code",
   "execution_count": 35,
   "metadata": {},
   "outputs": [],
   "source": [
    "fig.savefig(\"FuncBaseEFbis.pdf\")"
   ]
  },
  {
   "cell_type": "code",
   "execution_count": 36,
   "metadata": {},
   "outputs": [
    {
     "name": "stdout",
     "output_type": "stream",
     "text": [
      " El volumen de la unidad C es Local Disk\n",
      " El número de serie del volumen es: 6C57-0013\n",
      "\n",
      " Directorio de C:\\Users\\prode\\Dropbox (DropBox Básico)\\Docencia\\Matemáticas\\AnNumEDPs\\Archivos_PracticasPython\n",
      "\n",
      "18/05/2020  11:57            21.050 FuncBaseEFbis.pdf\n",
      "               1 archivos         21.050 bytes\n",
      "               0 dirs  12.273.889.280 bytes libres\n"
     ]
    }
   ],
   "source": [
    "ls FuncBaseEFbis.*"
   ]
  },
  {
   "cell_type": "code",
   "execution_count": 37,
   "metadata": {},
   "outputs": [],
   "source": [
    "def f(z):\n",
    "    return np.sin(z)"
   ]
  },
  {
   "cell_type": "code",
   "execution_count": 38,
   "metadata": {},
   "outputs": [
    {
     "name": "stdout",
     "output_type": "stream",
     "text": [
      "h = 1.0\n"
     ]
    }
   ],
   "source": [
    "nx = 10; print('h =',(b-a)/nx) \n",
    "x = np.linspace(a,b,nx+1)\n",
    "y = [f(z) for z in x]"
   ]
  },
  {
   "cell_type": "code",
   "execution_count": 39,
   "metadata": {},
   "outputs": [
    {
     "data": {
      "text/plain": [
       "array([ 0.,  1.,  2.,  3.,  4.,  5.,  6.,  7.,  8.,  9., 10.])"
      ]
     },
     "execution_count": 39,
     "metadata": {},
     "output_type": "execute_result"
    }
   ],
   "source": [
    "x"
   ]
  },
  {
   "cell_type": "code",
   "execution_count": 40,
   "metadata": {},
   "outputs": [
    {
     "data": {
      "text/plain": [
       "[0.0,\n",
       " 0.8414709848078965,\n",
       " 0.9092974268256817,\n",
       " 0.1411200080598672,\n",
       " -0.7568024953079282,\n",
       " -0.9589242746631385,\n",
       " -0.27941549819892586,\n",
       " 0.6569865987187891,\n",
       " 0.9893582466233818,\n",
       " 0.4121184852417566,\n",
       " -0.5440211108893698]"
      ]
     },
     "execution_count": 40,
     "metadata": {},
     "output_type": "execute_result"
    }
   ],
   "source": [
    "y"
   ]
  },
  {
   "cell_type": "code",
   "execution_count": 41,
   "metadata": {},
   "outputs": [],
   "source": [
    "xx = np.linspace(a,b,nxx)\n",
    "yf = f(xx)"
   ]
  },
  {
   "cell_type": "code",
   "execution_count": 42,
   "metadata": {},
   "outputs": [
    {
     "data": {
      "text/plain": [
       "array([ 0.        ,  0.01000984,  0.02001868,  0.03002552,  0.04002934,\n",
       "        0.05002916,  0.06002396,  0.07001275,  0.07999452,  0.08996827,\n",
       "        0.09993302,  0.10988774,  0.11983146,  0.12976317,  0.13968188,\n",
       "        0.14958659,  0.15947632,  0.16935006,  0.17920684,  0.18904566,\n",
       "        0.19886554,  0.20866549,  0.21844453,  0.22820168,  0.23793597,\n",
       "        0.24764642,  0.25733206,  0.26699191,  0.276625  ,  0.28623038,\n",
       "        0.29580708,  0.30535414,  0.3148706 ,  0.32435552,  0.33380793,\n",
       "        0.3432269 ,  0.35261147,  0.36196071,  0.37127369,  0.38054946,\n",
       "        0.3897871 ,  0.39898569,  0.4081443 ,  0.41726201,  0.42633791,\n",
       "        0.4353711 ,  0.44436066,  0.45330569,  0.46220531,  0.47105861,\n",
       "        0.47986471,  0.48862273,  0.49733179,  0.50599102,  0.51459954,\n",
       "        0.52315651,  0.53166105,  0.54011232,  0.54850948,  0.55685167,\n",
       "        0.56513807,  0.57336784,  0.58154016,  0.58965421,  0.59770917,\n",
       "        0.60570425,  0.61363863,  0.62151153,  0.62932216,  0.63706972,\n",
       "        0.64475345,  0.65237258,  0.65992634,  0.66741398,  0.67483474,\n",
       "        0.68218788,  0.68947267,  0.69668838,  0.70383427,  0.71090964,\n",
       "        0.71791378,  0.72484599,  0.73170556,  0.73849182,  0.74520409,\n",
       "        0.75184168,  0.75840394,  0.76489021,  0.77129983,  0.77763218,\n",
       "        0.7838866 ,  0.79006248,  0.7961592 ,  0.80217614,  0.8081127 ,\n",
       "        0.81396829,  0.81974232,  0.82543421,  0.8310434 ,  0.83656931,\n",
       "        0.84201141,  0.84736913,  0.85264195,  0.85782933,  0.86293076,\n",
       "        0.86794572,  0.87287371,  0.87771425,  0.88246684,  0.887131  ,\n",
       "        0.89170627,  0.8961922 ,  0.90058833,  0.90489422,  0.90910944,\n",
       "        0.91323357,  0.91726619,  0.9212069 ,  0.92505531,  0.92881103,\n",
       "        0.93247368,  0.9360429 ,  0.93951832,  0.94289961,  0.94618642,\n",
       "        0.94937842,  0.9524753 ,  0.95547674,  0.95838244,  0.96119211,\n",
       "        0.96390547,  0.96652224,  0.96904217,  0.97146501,  0.9737905 ,\n",
       "        0.97601842,  0.97814855,  0.98018066,  0.98211456,  0.98395005,\n",
       "        0.98568695,  0.98732509,  0.9888643 ,  0.99030442,  0.99164532,\n",
       "        0.99288685,  0.9940289 ,  0.99507134,  0.99601408,  0.99685702,\n",
       "        0.99760007,  0.99824317,  0.99878624,  0.99922924,  0.99957211,\n",
       "        0.99981483,  0.99995736,  0.9999997 ,  0.99994184,  0.99978379,\n",
       "        0.99952556,  0.99916717,  0.99870867,  0.9981501 ,  0.99749152,\n",
       "        0.99673299,  0.99587459,  0.9949164 ,  0.99385852,  0.99270105,\n",
       "        0.99144412,  0.99008785,  0.98863237,  0.98707782,  0.98542438,\n",
       "        0.98367219,  0.98182145,  0.97987232,  0.97782501,  0.97567973,\n",
       "        0.97343668,  0.97109609,  0.9686582 ,  0.96612325,  0.9634915 ,\n",
       "        0.9607632 ,  0.95793864,  0.95501809,  0.95200185,  0.94889022,\n",
       "        0.94568351,  0.94238205,  0.93898615,  0.93549618,  0.93191246,\n",
       "        0.92823537,  0.92446527,  0.92060254,  0.91664757,  0.91260074,\n",
       "        0.90846248,  0.90423319,  0.89991329,  0.89550322,  0.89100343,\n",
       "        0.88641436,  0.88173646,  0.87697022,  0.87211611,  0.86717461,\n",
       "        0.86214622,  0.85703145,  0.8518308 ,  0.84654479,  0.84117397,\n",
       "        0.83571886,  0.83018001,  0.82455797,  0.81885332,  0.81306662,\n",
       "        0.80719845,  0.80124939,  0.79522006,  0.78911104,  0.78292295,\n",
       "        0.77665642,  0.77031206,  0.76389052,  0.75739244,  0.75081847,\n",
       "        0.74416927,  0.7374455 ,  0.73064784,  0.72377697,  0.71683358,\n",
       "        0.70981836,  0.70273201,  0.69557526,  0.68834881,  0.68105338,\n",
       "        0.67368972,  0.66625855,  0.65876062,  0.65119668,  0.6435675 ,\n",
       "        0.63587383,  0.62811645,  0.62029613,  0.61241365,  0.60446981,\n",
       "        0.59646541,  0.58840124,  0.58027811,  0.57209684,  0.56385824,\n",
       "        0.55556315,  0.54721239,  0.5388068 ,  0.53034722,  0.5218345 ,\n",
       "        0.51326949,  0.50465305,  0.49598605,  0.48726935,  0.47850382,\n",
       "        0.46969035,  0.46082982,  0.45192311,  0.44297112,  0.43397474,\n",
       "        0.42493488,  0.41585245,  0.40672834,  0.39756348,  0.38835878,\n",
       "        0.37911517,  0.36983358,  0.36051492,  0.35116015,  0.34177018,\n",
       "        0.33234597,  0.32288847,  0.3133986 ,  0.30387734,  0.29432562,\n",
       "        0.28474442,  0.27513468,  0.26549738,  0.25583347,  0.24614393,\n",
       "        0.23642973,  0.22669183,  0.21693122,  0.20714888,  0.19734578,\n",
       "        0.1875229 ,  0.17768124,  0.16782177,  0.15794548,  0.14805337,\n",
       "        0.13814643,  0.12822564,  0.118292  ,  0.10834651,  0.09839017,\n",
       "        0.08842397,  0.0784489 ,  0.06846598,  0.05847619,  0.04848055,\n",
       "        0.03848005,  0.02847569,  0.01846848,  0.00845942, -0.00155049,\n",
       "       -0.01156024, -0.02156884, -0.03157527, -0.04157854, -0.05157764,\n",
       "       -0.06157158, -0.07155935, -0.08153994, -0.09151237, -0.10147562,\n",
       "       -0.11142871, -0.12137064, -0.1313004 , -0.141217  , -0.15111946,\n",
       "       -0.16100677, -0.17087795, -0.18073201, -0.19056796, -0.20038482,\n",
       "       -0.21018159, -0.21995731, -0.22971099, -0.23944165, -0.24914832,\n",
       "       -0.25883002, -0.26848579, -0.27811466, -0.28771566, -0.29728783,\n",
       "       -0.30683021, -0.31634185, -0.32582179, -0.33526908, -0.34468278,\n",
       "       -0.35406195, -0.36340563, -0.37271291, -0.38198284, -0.39121449,\n",
       "       -0.40040694, -0.40955928, -0.41867057, -0.42773992, -0.4367664 ,\n",
       "       -0.44574912, -0.45468718, -0.46357968, -0.47242573, -0.48122444,\n",
       "       -0.48997494, -0.49867633, -0.50732776, -0.51592836, -0.52447726,\n",
       "       -0.53297361, -0.54141656, -0.54980525, -0.55813886, -0.56641654,\n",
       "       -0.57463746, -0.58280081, -0.59090576, -0.5989515 , -0.60693723,\n",
       "       -0.61486214, -0.62272545, -0.63052635, -0.63826408, -0.64593786,\n",
       "       -0.65354691, -0.66109048, -0.66856781, -0.67597814, -0.68332075,\n",
       "       -0.69059488, -0.69779982, -0.70493484, -0.71199922, -0.71899227,\n",
       "       -0.72591327, -0.73276153, -0.73953637, -0.74623711, -0.75286308,\n",
       "       -0.75941361, -0.76588805, -0.77228575, -0.77860606, -0.78484836,\n",
       "       -0.79101202, -0.79709642, -0.80310095, -0.80902501, -0.814868  ,\n",
       "       -0.82062935, -0.82630847, -0.83190479, -0.83741776, -0.84284682,\n",
       "       -0.84819143, -0.85345104, -0.85862515, -0.86371322, -0.86871474,\n",
       "       -0.87362922, -0.87845616, -0.88319509, -0.88784551, -0.89240698,\n",
       "       -0.89687902, -0.9012612 , -0.90555308, -0.90975421, -0.91386419,\n",
       "       -0.91788261, -0.92180905, -0.92564312, -0.92938445, -0.93303265,\n",
       "       -0.93658737, -0.94004823, -0.94341491, -0.94668706, -0.94986435,\n",
       "       -0.95294646, -0.95593309, -0.95882393, -0.9616187 , -0.96431712,\n",
       "       -0.96691891, -0.96942382, -0.97183159, -0.97414198, -0.97635477,\n",
       "       -0.97846973, -0.98048664, -0.98240531, -0.98422555, -0.98594716,\n",
       "       -0.98756998, -0.98909385, -0.99051862, -0.99184413, -0.99307026,\n",
       "       -0.99419689, -0.99522389, -0.99615118, -0.99697865, -0.99770623,\n",
       "       -0.99833384, -0.99886141, -0.9992889 , -0.99961626, -0.99984346,\n",
       "       -0.99997048, -0.9999973 , -0.99992392, -0.99975034, -0.9994766 ,\n",
       "       -0.9991027 , -0.9986287 , -0.99805464, -0.99738057, -0.99660656,\n",
       "       -0.9957327 , -0.99475906, -0.99368575, -0.99251287, -0.99124054,\n",
       "       -0.98986889, -0.98839806, -0.98682819, -0.98515943, -0.98339197,\n",
       "       -0.98152597, -0.97956163, -0.97749913, -0.97533868, -0.97308051,\n",
       "       -0.97072484, -0.9682719 , -0.96572194, -0.96307521, -0.96033199,\n",
       "       -0.95749254, -0.95455715, -0.95152611, -0.94839974, -0.94517833,\n",
       "       -0.94186221, -0.93845173, -0.93494721, -0.93134901, -0.92765748,\n",
       "       -0.92387301, -0.91999597, -0.91602674, -0.91196573, -0.90781333,\n",
       "       -0.90356998, -0.89923609, -0.8948121 , -0.89029844, -0.88569558,\n",
       "       -0.88100397, -0.87622409, -0.87135641, -0.86640142, -0.86135962,\n",
       "       -0.85623151, -0.8510176 , -0.84571842, -0.84033451, -0.83486639,\n",
       "       -0.82931462, -0.82367975, -0.81796235, -0.81216299, -0.80628225,\n",
       "       -0.80032073, -0.79427901, -0.7881577 , -0.78195742, -0.77567879,\n",
       "       -0.76932244, -0.762889  , -0.75637913, -0.74979346, -0.74313266,\n",
       "       -0.7363974 , -0.72958836, -0.72270621, -0.71575164, -0.70872536,\n",
       "       -0.70162807, -0.69446047, -0.68722329, -0.67991724, -0.67254307,\n",
       "       -0.66510151, -0.65759331, -0.65001922, -0.64238   , -0.63467641,\n",
       "       -0.62690923, -0.61907923, -0.6111872 , -0.60323392, -0.59522021,\n",
       "       -0.58714685, -0.57901466, -0.57082446, -0.56257706, -0.55427329,\n",
       "       -0.54591398, -0.53749997, -0.5290321 , -0.52051123, -0.5119382 ,\n",
       "       -0.50331387, -0.49463911, -0.48591479, -0.47714179, -0.46832097,\n",
       "       -0.45945322, -0.45053944, -0.44158052, -0.43257735, -0.42353083,\n",
       "       -0.41444188, -0.4053114 , -0.39614031, -0.38692953, -0.37767997,\n",
       "       -0.36839258, -0.35906827, -0.34970798, -0.34031265, -0.33088322,\n",
       "       -0.32142064, -0.31192585, -0.3023998 , -0.29284346, -0.28325777,\n",
       "       -0.2736437 , -0.26400222, -0.25433428, -0.24464085, -0.23492291,\n",
       "       -0.22518144, -0.2154174 , -0.20563177, -0.19582554, -0.18599969,\n",
       "       -0.1761552 , -0.16629307, -0.15641427, -0.14651979, -0.13661064,\n",
       "       -0.12668779, -0.11675226, -0.10680502, -0.09684708, -0.08687944,\n",
       "       -0.0769031 , -0.06691904, -0.05692829, -0.04693183, -0.03693066,\n",
       "       -0.0269258 , -0.01691823, -0.00690898,  0.00310097,  0.01311061,\n",
       "        0.02311894,  0.03312495,  0.04312764,  0.05312601,  0.06311905,\n",
       "        0.07310577,  0.08308517,  0.09305624,  0.10301799,  0.11296941,\n",
       "        0.12290952,  0.13283731,  0.14275178,  0.15265196,  0.16253684,\n",
       "        0.17240543,  0.18225675,  0.19208981,  0.20190362,  0.2116972 ,\n",
       "        0.22146956,  0.23121974,  0.24094675,  0.25064961,  0.26032736,\n",
       "        0.26997903,  0.27960364,  0.28920024,  0.29876786,  0.30830554,\n",
       "        0.31781233,  0.32728728,  0.33672943,  0.34613784,  0.35551157,\n",
       "        0.36484968,  0.37415123,  0.38341529,  0.39264093,  0.40182723,\n",
       "        0.41097327,  0.42007813,  0.42914089,  0.43816066,  0.44713652,\n",
       "        0.45606758,  0.46495294,  0.47379172,  0.48258302,  0.49132596,\n",
       "        0.50001968,  0.50866329,  0.51725594,  0.52579676,  0.53428489,\n",
       "        0.54271949,  0.5510997 ,  0.5594247 ,  0.56769364,  0.5759057 ,\n",
       "        0.58406006,  0.59215589,  0.60019239,  0.60816875,  0.61608417,\n",
       "        0.62393786,  0.63172904,  0.63945691,  0.64712071,  0.65471967,\n",
       "        0.66225303,  0.66972002,  0.67711992,  0.68445196,  0.69171543,\n",
       "        0.69890958,  0.70603371,  0.71308709,  0.72006902,  0.7269788 ,\n",
       "        0.73381574,  0.74057914,  0.74726835,  0.75388267,  0.76042146,\n",
       "        0.76688406,  0.77326981,  0.77957808,  0.78580824,  0.79195966,\n",
       "        0.79803173,  0.80402383,  0.80993537,  0.81576576,  0.82151441,\n",
       "        0.82718074,  0.83276419,  0.8382642 ,  0.84368021,  0.84901169,\n",
       "        0.85425809,  0.8594189 ,  0.8644936 ,  0.86948167,  0.87438263,\n",
       "        0.87919597,  0.88392121,  0.88855789,  0.89310553,  0.89756369,\n",
       "        0.90193191,  0.90620976,  0.9103968 ,  0.91449263,  0.91849682,\n",
       "        0.92240898,  0.92622871,  0.92995564,  0.93358938,  0.93712958,\n",
       "        0.94057589,  0.94392794,  0.94718542,  0.95034798,  0.95341533,\n",
       "        0.95638714,  0.95926312,  0.96204298,  0.96472645,  0.96731325,\n",
       "        0.96980313,  0.97219584,  0.97449113,  0.97668877,  0.97878856,\n",
       "        0.98079027,  0.9826937 ,  0.98449867,  0.986205  ,  0.9878125 ,\n",
       "        0.98932103,  0.99073043,  0.99204056,  0.99325128,  0.99436249,\n",
       "        0.99537405,  0.99628589,  0.99709789,  0.99780999,  0.9984221 ,\n",
       "        0.99893418,  0.99934616,  0.99965801,  0.99986969,  0.99998119,\n",
       "        0.99999249,  0.99990359,  0.9997145 ,  0.99942524,  0.99903584,\n",
       "        0.99854633,  0.99795677,  0.99726722,  0.99647774,  0.99558841,\n",
       "        0.99459933,  0.99351059,  0.9923223 ,  0.99103458,  0.98964756,\n",
       "        0.98816137,  0.98657617,  0.98489212,  0.98310938,  0.98122814,\n",
       "        0.97924858,  0.97717089,  0.9749953 ,  0.97272201,  0.97035125,\n",
       "        0.96788327,  0.9653183 ,  0.96265661,  0.95989847,  0.95704414,\n",
       "        0.95409391,  0.95104809,  0.94790697,  0.94467087,  0.94134012,\n",
       "        0.93791504,  0.93439599,  0.93078331,  0.92707737,  0.92327853,\n",
       "        0.91938718,  0.91540371,  0.91132852,  0.90716201,  0.9029046 ,\n",
       "        0.89855673,  0.89411881,  0.88959131,  0.88497468,  0.88026936,\n",
       "        0.87547585,  0.87059461,  0.86562614,  0.86057094,  0.85542951,\n",
       "        0.85020236,  0.84489002,  0.83949303,  0.83401192,  0.82844724,\n",
       "        0.82279955,  0.81706941,  0.81125741,  0.80536412,  0.79939013,\n",
       "        0.79333605,  0.78720247,  0.78099002,  0.77469931,  0.76833097,\n",
       "        0.76188565,  0.75536399,  0.74876664,  0.74209427,  0.73534754,\n",
       "        0.72852712,  0.72163371,  0.71466799,  0.70763067,  0.70052243,\n",
       "        0.69334401,  0.68609611,  0.67877947,  0.67139481,  0.66394288,\n",
       "        0.65642443,  0.6488402 ,  0.64119095,  0.63347746,  0.6257005 ,\n",
       "        0.61786084,  0.60995927,  0.60199658,  0.59397358,  0.58589106,\n",
       "        0.57774983,  0.56955071,  0.56129452,  0.5529821 ,  0.54461426,\n",
       "        0.53619185,  0.52771572,  0.51918671,  0.51060568,  0.50197348,\n",
       "        0.49329099,  0.48455907,  0.4757786 ,  0.46695046,  0.45807552,\n",
       "        0.44915469,  0.44018886,  0.43117891,  0.42212577,  0.41303032,\n",
       "        0.40389349,  0.39471619,  0.38549934,  0.37624387,  0.36695069,\n",
       "        0.35762075,  0.34825497,  0.3388543 ,  0.32941967,  0.31995204,\n",
       "        0.31045234,  0.30092154,  0.29136059,  0.28177045,  0.27215207,\n",
       "        0.26250642,  0.25283447,  0.24313718,  0.23341553,  0.2236705 ,\n",
       "        0.21390305,  0.20411417,  0.19430484,  0.18447604,  0.17462875,\n",
       "        0.16476397,  0.15488267,  0.14498586,  0.13507452,  0.12514965,\n",
       "        0.11521223,  0.10526327,  0.09530377,  0.08533471,  0.07535711,\n",
       "        0.06537195,  0.05538024,  0.04538299,  0.03538119,  0.02537584,\n",
       "        0.01536795,  0.00535852, -0.00465145, -0.01466095, -0.02466899,\n",
       "       -0.03467455, -0.04467663, -0.05467424, -0.06466637, -0.07465203,\n",
       "       -0.0846302 , -0.09459989, -0.1045601 , -0.11450984, -0.1244481 ,\n",
       "       -0.13437389, -0.14428622, -0.15418409, -0.16406652, -0.1739325 ,\n",
       "       -0.18378105, -0.19361119, -0.20342193, -0.21321229, -0.22298128,\n",
       "       -0.23272793, -0.24245127, -0.2521503 , -0.26182408, -0.27147162,\n",
       "       -0.28109195, -0.29068412, -0.30024717, -0.30978013, -0.31928205,\n",
       "       -0.32875198, -0.33818897, -0.34759207, -0.35696034, -0.36629285,\n",
       "       -0.37558865, -0.38484682, -0.39406643, -0.40324656, -0.41238627,\n",
       "       -0.42148467, -0.43054084, -0.43955386, -0.44852284, -0.45744688,\n",
       "       -0.46632509, -0.47515657, -0.48394043, -0.49267581, -0.50136182,\n",
       "       -0.5099976 , -0.51858227, -0.52711499, -0.53559488, -0.54402111])"
      ]
     },
     "execution_count": 42,
     "metadata": {},
     "output_type": "execute_result"
    }
   ],
   "source": [
    "yf"
   ]
  },
  {
   "cell_type": "code",
   "execution_count": 43,
   "metadata": {},
   "outputs": [
    {
     "data": {
      "text/plain": [
       "[<matplotlib.lines.Line2D at 0x1dfd83ddf08>]"
      ]
     },
     "execution_count": 43,
     "metadata": {},
     "output_type": "execute_result"
    },
    {
     "data": {
      "image/png": "[encoded data removed]",
      "text/plain": [
       "<Figure size 432x288 with 1 Axes>"
      ]
     },
     "metadata": {
      "needs_background": "light"
     },
     "output_type": "display_data"
    }
   ],
   "source": [
    "plt.plot(xx,yf)"
   ]
  },
  {
   "cell_type": "code",
   "execution_count": 44,
   "metadata": {},
   "outputs": [
    {
     "data": {
      "text/plain": [
       "[<matplotlib.lines.Line2D at 0x1dfd833e748>]"
      ]
     },
     "execution_count": 44,
     "metadata": {},
     "output_type": "execute_result"
    },
    {
     "data": {
      "image/png": "[encoded data removed]",
      "text/plain": [
       "<Figure size 432x288 with 1 Axes>"
      ]
     },
     "metadata": {
      "needs_background": "light"
     },
     "output_type": "display_data"
    }
   ],
   "source": [
    "plt.plot(x,y)"
   ]
  },
  {
   "cell_type": "code",
   "execution_count": 45,
   "metadata": {},
   "outputs": [
    {
     "data": {
      "text/plain": [
       "(11, 11)"
      ]
     },
     "execution_count": 45,
     "metadata": {},
     "output_type": "execute_result"
    }
   ],
   "source": [
    "len(x),len(y)"
   ]
  },
  {
   "cell_type": "code",
   "execution_count": 46,
   "metadata": {},
   "outputs": [
    {
     "data": {
      "text/plain": [
       "[0.0,\n",
       " 0.8414709848078965,\n",
       " 0.9092974268256817,\n",
       " 0.1411200080598672,\n",
       " -0.7568024953079282,\n",
       " -0.9589242746631385,\n",
       " -0.27941549819892586,\n",
       " 0.6569865987187891,\n",
       " 0.9893582466233818,\n",
       " 0.4121184852417566,\n",
       " -0.5440211108893698]"
      ]
     },
     "execution_count": 46,
     "metadata": {},
     "output_type": "execute_result"
    }
   ],
   "source": [
    "y"
   ]
  },
  {
   "cell_type": "code",
   "execution_count": 47,
   "metadata": {},
   "outputs": [
    {
     "data": {
      "image/png": "[encoded data removed]",
      "text/plain": [
       "<Figure size 432x288 with 1 Axes>"
      ]
     },
     "metadata": {
      "needs_background": "light"
     },
     "output_type": "display_data"
    }
   ],
   "source": [
    "yy = [[wi(z,x,i)*y[i] for i in range(1,nx)] for z in xx]\n",
    "plt.plot(xx,yy);\n",
    "plt.title('Funciones de base $w_i(x)$ multiplicadas por $y_i$, con $i=1,\\ldots,n-1$');"
   ]
  },
  {
   "cell_type": "code",
   "execution_count": 48,
   "metadata": {},
   "outputs": [
    {
     "data": {
      "image/png": "[encoded data removed]",
      "text/plain": [
       "<Figure size 432x288 with 1 Axes>"
      ]
     },
     "metadata": {
      "needs_background": "light"
     },
     "output_type": "display_data"
    }
   ],
   "source": [
    "yy = np.array([sum([wi(z,x,i)*y[i] for i in range(1,nx)]) for z in xx])\n",
    "plt.plot(xx,yy);  # ¡nótese lo que ocurre en el extremo derecho!\n",
    "yf = [f(z) for z in xx]\n",
    "plt.plot(xx,yf);"
   ]
  },
  {
   "cell_type": "code",
   "execution_count": 49,
   "metadata": {},
   "outputs": [
    {
     "data": {
      "image/png": "[encoded data removed]",
      "text/plain": [
       "<Figure size 432x288 with 1 Axes>"
      ]
     },
     "metadata": {
      "needs_background": "light"
     },
     "output_type": "display_data"
    }
   ],
   "source": [
    "# al no ser nulo el valor en dicho extremo, tendremos que añadir un \n",
    "# sumando más, con wn(z,x) multiplicada por el valor correspondiente\n",
    "yy = yy + np.array([wn(z,x)*y[-1] for z in xx])\n",
    "plt.plot(xx,yy); # ahora ya si se tiene resuelto el problema de\n",
    "plt.plot(xx,yf); # interpolación lagrangiana con el spline lineal"
   ]
  },
  {
   "cell_type": "markdown",
   "metadata": {},
   "source": [
    "# Planteamiento del problema diferencial de 2º orden a resolver"
   ]
  },
  {
   "cell_type": "markdown",
   "metadata": {},
   "source": [
    "Supongamos que queremos resolver un problema de contorno de segundo orden muy sencillo, con condiciones de tipo Dirichlet en los extremos de cierto intervalo $[a,b]$; pongamos por ejemplo\n",
    "\n",
    "$$-y''(x) = f(x), \\; x\\in [a,b]\\\\\n",
    "y(a) = y_a,\\quad y(b)=y_b$$\n",
    "\n",
    "para cierta función $f(x)$ contínua en dicho intervalo. Tomemos por ejemplo $f(x)=\\sin(x),\\; x\\in[0,10]$ para empezar."
   ]
  },
  {
   "cell_type": "code",
   "execution_count": 50,
   "metadata": {},
   "outputs": [
    {
     "data": {
      "text/latex": [
       "$\\displaystyle - \\frac{d^{2}}{d z^{2}} y{\\left(z \\right)}$"
      ],
      "text/plain": [
       "-Derivative(y(z), (z, 2))"
      ]
     },
     "execution_count": 50,
     "metadata": {},
     "output_type": "execute_result"
    }
   ],
   "source": [
    "z = sp.Symbol('z')\n",
    "y   = sp.Function('y')\n",
    "def L(y,z): # usaremos la variable z como variable independiente\n",
    "    \"\"\"operador diferencial que define la ec. dif.\"\"\"\n",
    "    return -sp.diff(y(z),z,2)\n",
    "L(y,z)  "
   ]
  },
  {
   "cell_type": "code",
   "execution_count": 51,
   "metadata": {},
   "outputs": [
    {
     "data": {
      "text/latex": [
       "$\\displaystyle - \\frac{d^{2}}{d z^{2}} y{\\left(z \\right)} = \\sin{\\left(z \\right)}$"
      ],
      "text/plain": [
       "Eq(-Derivative(y(z), (z, 2)), sin(z))"
      ]
     },
     "execution_count": 51,
     "metadata": {},
     "output_type": "execute_result"
    }
   ],
   "source": [
    "# z = sp.Symbol('z')\n",
    "def f(z):\n",
    "    \"\"\"función del segundo término de la ec. diferencial\"\"\"\n",
    "    return sp.sin(z)\n",
    "\n",
    "sp.Eq(L(y,z),f(z)) #  ec. diferencial que estamos considerando "
   ]
  },
  {
   "cell_type": "code",
   "execution_count": 52,
   "metadata": {},
   "outputs": [
    {
     "data": {
      "text/latex": [
       "$\\displaystyle 0.119712207288919$"
      ],
      "text/plain": [
       "0.119712207288919"
      ]
     },
     "execution_count": 52,
     "metadata": {},
     "output_type": "execute_result"
    }
   ],
   "source": [
    "f(0.12)"
   ]
  },
  {
   "cell_type": "code",
   "execution_count": 53,
   "metadata": {},
   "outputs": [
    {
     "data": {
      "image/png": "[encoded data removed]",
      "text/plain": [
       "<Figure size 432x288 with 1 Axes>"
      ]
     },
     "metadata": {
      "needs_background": "light"
     },
     "output_type": "display_data"
    }
   ],
   "source": [
    "a = 0; b = 10; nxx = 1000;\n",
    "xx = np.linspace(a,b,nxx+1)\n",
    "yf = [f(z) for z in xx]\n",
    "plt.plot(xx,yf);"
   ]
  },
  {
   "cell_type": "markdown",
   "metadata": {},
   "source": [
    "Empezaremos resolviendo esta ecuación diferencial usando las herramientas de cálculo simbólico de las que dispone Python, incluidas en el módulo SymPy, concretamente en este caso `dsolve`."
   ]
  },
  {
   "cell_type": "code",
   "execution_count": 54,
   "metadata": {},
   "outputs": [],
   "source": [
    "?sp.dsolve"
   ]
  },
  {
   "cell_type": "code",
   "execution_count": 55,
   "metadata": {},
   "outputs": [
    {
     "data": {
      "text/latex": [
       "$\\displaystyle y{\\left(z \\right)} = C_{1} + C_{2} z + \\sin{\\left(z \\right)}$"
      ],
      "text/plain": [
       "Eq(y(z), C1 + C2*z + sin(z))"
      ]
     },
     "execution_count": 55,
     "metadata": {},
     "output_type": "execute_result"
    }
   ],
   "source": [
    "g = f(z)\n",
    "solgen = sp.dsolve(sp.Eq(-y(z).diff(z,2), g))\n",
    "solgen"
   ]
  },
  {
   "cell_type": "code",
   "execution_count": 56,
   "metadata": {},
   "outputs": [
    {
     "data": {
      "text/plain": [
       "(Eq(y(0), C1), Eq(y(10), C1 + 10*C2 + sin(10)))"
      ]
     },
     "execution_count": 56,
     "metadata": {},
     "output_type": "execute_result"
    }
   ],
   "source": [
    "ecs= solgen.subs({z:a}),solgen.subs({z:b})\n",
    "ecs"
   ]
  },
  {
   "cell_type": "code",
   "execution_count": 57,
   "metadata": {},
   "outputs": [
    {
     "data": {
      "text/plain": [
       "{C1: y(0), C2: -y(0)/10 + y(10)/10 - sin(10)/10}"
      ]
     },
     "execution_count": 57,
     "metadata": {},
     "output_type": "execute_result"
    }
   ],
   "source": [
    "C1,C2 = sp.symbols('C1,C2')\n",
    "sp.solve(ecs,[C1,C2])"
   ]
  },
  {
   "cell_type": "code",
   "execution_count": 58,
   "metadata": {},
   "outputs": [
    {
     "name": "stdout",
     "output_type": "stream",
     "text": [
      "Eq(y(z), C1 + C2*z + sin(z))\n"
     ]
    }
   ],
   "source": [
    "print(solgen)"
   ]
  },
  {
   "cell_type": "code",
   "execution_count": 59,
   "metadata": {},
   "outputs": [
    {
     "data": {
      "text/plain": [
       "(C1 - ya, C1 + 10*C2 - yb + sin(10))"
      ]
     },
     "execution_count": 59,
     "metadata": {},
     "output_type": "execute_result"
    }
   ],
   "source": [
    "ya,yb = sp.symbols('ya,yb')\n",
    "ecsbis = (C1 + C2*z + sp.sin(z)).subs({z:a})-ya,(C1 + C2*z + sp.sin(z)).subs({z:b})-yb\n",
    "ecsbis"
   ]
  },
  {
   "cell_type": "code",
   "execution_count": 60,
   "metadata": {},
   "outputs": [
    {
     "data": {
      "text/plain": [
       "{C1: ya, C2: -ya/10 + yb/10 - sin(10)/10}"
      ]
     },
     "execution_count": 60,
     "metadata": {},
     "output_type": "execute_result"
    }
   ],
   "source": [
    "sp.solve(ecsbis,[C1,C2])"
   ]
  },
  {
   "cell_type": "code",
   "execution_count": 61,
   "metadata": {},
   "outputs": [
    {
     "name": "stdout",
     "output_type": "stream",
     "text": [
      "{C1: ya, C2: -ya/10 + yb/10 - sin(10)/10}\n"
     ]
    }
   ],
   "source": [
    "print(_)"
   ]
  },
  {
   "cell_type": "code",
   "execution_count": 62,
   "metadata": {},
   "outputs": [
    {
     "data": {
      "text/latex": [
       "$\\displaystyle y{\\left(z \\right)} = ya + z \\left(- \\frac{ya}{10} + \\frac{yb}{10} - \\frac{\\sin{\\left(10 \\right)}}{10}\\right) + \\sin{\\left(z \\right)}$"
      ],
      "text/plain": [
       "Eq(y(z), ya + z*(-ya/10 + yb/10 - sin(10)/10) + sin(z))"
      ]
     },
     "execution_count": 62,
     "metadata": {},
     "output_type": "execute_result"
    }
   ],
   "source": [
    "solgen.subs({C1:ya,C2:-ya/10 + yb/10 - sp.sin(10)/10})"
   ]
  },
  {
   "cell_type": "code",
   "execution_count": 63,
   "metadata": {},
   "outputs": [],
   "source": [
    "def yexacta(z,ya,yb):\n",
    "    \"\"\"solución exacta del problema tomado como ejemplo\"\"\"\n",
    "    return ya + 1/b*(yb-ya-sp.sin(b))*z+sp.sin(z)"
   ]
  },
  {
   "cell_type": "code",
   "execution_count": 64,
   "metadata": {},
   "outputs": [
    {
     "data": {
      "text/latex": [
       "$\\displaystyle z \\left(0.1 - 0.1 \\sin{\\left(10 \\right)}\\right) + \\sin{\\left(z \\right)}$"
      ],
      "text/plain": [
       "z*(0.1 - 0.1*sin(10)) + sin(z)"
      ]
     },
     "execution_count": 64,
     "metadata": {},
     "output_type": "execute_result"
    }
   ],
   "source": [
    "ya = 0; yb = 1;  # para estas condiciones dadas\n",
    "yexacta(z,ya,yb) # esta sería pues la solución exacta del problema"
   ]
  },
  {
   "cell_type": "code",
   "execution_count": 65,
   "metadata": {},
   "outputs": [
    {
     "data": {
      "text/plain": [
       "(-sin(z), 0, 1.00000000000000)"
      ]
     },
     "execution_count": 65,
     "metadata": {},
     "output_type": "execute_result"
    }
   ],
   "source": [
    "# comprobación\n",
    "sp.diff(yexacta(z,ya,yb),z,2),yexacta(a,ya,yb),yexacta(b,ya,yb)"
   ]
  },
  {
   "cell_type": "code",
   "execution_count": 66,
   "metadata": {},
   "outputs": [
    {
     "data": {
      "image/png": "[encoded data removed]",
      "text/plain": [
       "<Figure size 432x288 with 1 Axes>"
      ]
     },
     "metadata": {
      "needs_background": "light"
     },
     "output_type": "display_data"
    }
   ],
   "source": [
    "yyexacta = [yexacta(z,ya,yb) for z in xx] \n",
    "plt.plot(xx,yyexacta); # gráfica de la solución exacta"
   ]
  },
  {
   "cell_type": "markdown",
   "metadata": {},
   "source": [
    "Así pues, vemos perfectamente que una vez conocidas las condiciones de contorno de tipo Dirichlet en ambos extremos, $y(a)=y_a$ e $y(b)=y_b$, tendremos perfectamente resuelto, analíticamente en este caso, nuestro problema de contorno. Pero no siempre es posible obtener analíticamente la solución exacta de uno de estos problemas y por ello conviene disponer de algún método numérico eficiente que nos permita al menos aproximar dicha solución con determinado grado de precisión. En esta práctica nos centraremos en el denominado método de los Elementos Finitos (E.F) en una sóla variable, del que introduciremos las técnicas e ideas básicas, para su posterior desarrollo más general en el caso de varias variables."
   ]
  },
  {
   "cell_type": "markdown",
   "metadata": {},
   "source": [
    "## Matriz de rígidez local en el E.F. de referencia"
   ]
  },
  {
   "cell_type": "code",
   "execution_count": 67,
   "metadata": {},
   "outputs": [
    {
     "data": {
      "text/plain": [
       "(1 - t, t)"
      ]
     },
     "execution_count": 67,
     "metadata": {},
     "output_type": "execute_result"
    }
   ],
   "source": [
    "l1(t),l2(t)  # funciones de base del E.F. de Lagrange lineal en [0,1]"
   ]
  },
  {
   "cell_type": "code",
   "execution_count": 68,
   "metadata": {},
   "outputs": [],
   "source": [
    "# calculamos ahora las correspondientes integrales en el intervalo\n",
    "a00 = sp.integrate(dl1(t)**2,[t,0,1])        # de referencia [0,1]\n",
    "a01 = sp.integrate(dl1(t)*dl2(t),[t,0,1])\n",
    "a11 = sp.integrate(dl2(t)**2,[t,0,1])"
   ]
  },
  {
   "cell_type": "code",
   "execution_count": 69,
   "metadata": {},
   "outputs": [
    {
     "data": {
      "text/latex": [
       "$\\displaystyle \\left[\\begin{matrix}1 & -1\\\\-1 & 1\\end{matrix}\\right]$"
      ],
      "text/plain": [
       "Matrix([\n",
       "[ 1, -1],\n",
       "[-1,  1]])"
      ]
     },
     "execution_count": 69,
     "metadata": {},
     "output_type": "execute_result"
    }
   ],
   "source": [
    "Aref = sp.Matrix([[a00,a01],[a01,a11]]) # esta sería la matriz de rigidez local \n",
    "Aref  # en el intervalo de referencia [0,1]"
   ]
  },
  {
   "cell_type": "code",
   "execution_count": 70,
   "metadata": {},
   "outputs": [],
   "source": [
    "a00 = sp.integrate((dl1(Finv(z,xL,xR))*dFinv(z,xL,xR))**2,[z,xL,xR])\n",
    "a01 = sp.integrate(dl1(Finv(z,xL,xR))*dl2(Finv(z,xL,xR))*dFinv(z,xL,xR)**2,[z,xL,xR])\n",
    "a11 = sp.integrate((dl2(Finv(z,xL,xR))*dFinv(z,xL,xR))**2,[z,xL,xR])"
   ]
  },
  {
   "cell_type": "code",
   "execution_count": 71,
   "metadata": {},
   "outputs": [
    {
     "data": {
      "text/latex": [
       "$\\displaystyle \\left[\\begin{matrix}\\frac{1}{- xL + xR} & \\frac{1}{xL - xR}\\\\\\frac{1}{xL - xR} & \\frac{1}{- xL + xR}\\end{matrix}\\right]$"
      ],
      "text/plain": [
       "Matrix([\n",
       "[1/(-xL + xR),  1/(xL - xR)],\n",
       "[ 1/(xL - xR), 1/(-xL + xR)]])"
      ]
     },
     "execution_count": 71,
     "metadata": {},
     "output_type": "execute_result"
    }
   ],
   "source": [
    "Agen = sp.Matrix([[a00,a01],[a01,a11]])\n",
    "Agen = sp.simplify(Agen) # y esta sería la correspondiente matriz\n",
    "Agen # de rigidez local en un intervalo genérico [xL,xR]"
   ]
  },
  {
   "cell_type": "code",
   "execution_count": 72,
   "metadata": {},
   "outputs": [
    {
     "data": {
      "text/latex": [
       "$\\displaystyle \\left[\\begin{matrix}\\frac{1}{h_{e}} & - \\frac{1}{h_{e}}\\\\- \\frac{1}{h_{e}} & \\frac{1}{h_{e}}\\end{matrix}\\right]$"
      ],
      "text/plain": [
       "Matrix([\n",
       "[ 1/h_e, -1/h_e],\n",
       "[-1/h_e,  1/h_e]])"
      ]
     },
     "execution_count": 72,
     "metadata": {},
     "output_type": "execute_result"
    }
   ],
   "source": [
    "h_e = sp.Symbol('h_e') # ahora sustituiremos xR-xL por he, una\n",
    "Agen = Agen.subs({xL-xR:-h_e,-xL+xR:h_e}) # longitud genérica\n",
    "Agen"
   ]
  },
  {
   "cell_type": "code",
   "execution_count": 73,
   "metadata": {},
   "outputs": [
    {
     "data": {
      "text/latex": [
       "$\\displaystyle \\frac{1}{h_{e}}$"
      ],
      "text/plain": [
       "1/h_e"
      ]
     },
     "execution_count": 73,
     "metadata": {},
     "output_type": "execute_result"
    }
   ],
   "source": [
    "Agen[1,1]"
   ]
  },
  {
   "cell_type": "markdown",
   "metadata": {},
   "source": [
    "## Ensamblaje de la matriz de rígidez  global"
   ]
  },
  {
   "cell_type": "code",
   "execution_count": 74,
   "metadata": {},
   "outputs": [],
   "source": [
    "nx = 10;  # ahora nos planteamos el cálculo de \n",
    "x = np.linspace(a,b,nx+1)  # la matriz de rigidez global"
   ]
  },
  {
   "cell_type": "code",
   "execution_count": 75,
   "metadata": {},
   "outputs": [
    {
     "data": {
      "text/plain": [
       "(9, 9)"
      ]
     },
     "execution_count": 75,
     "metadata": {},
     "output_type": "execute_result"
    }
   ],
   "source": [
    "A = np.zeros((nx-1,nx-1),dtype=float)\n",
    "np.shape(A)\n",
    "# print(A)"
   ]
  },
  {
   "cell_type": "code",
   "execution_count": 76,
   "metadata": {},
   "outputs": [
    {
     "data": {
      "text/latex": [
       "$\\displaystyle \\left[\\begin{matrix}1.0 & -1.0\\\\-1.0 & 1.0\\end{matrix}\\right]$"
      ],
      "text/plain": [
       "Matrix([\n",
       "[ 1.0, -1.0],\n",
       "[-1.0,  1.0]])"
      ]
     },
     "execution_count": 76,
     "metadata": {},
     "output_type": "execute_result"
    }
   ],
   "source": [
    "i=1; Agen.subs({h_e:x[i]-x[i-1]})"
   ]
  },
  {
   "cell_type": "code",
   "execution_count": 77,
   "metadata": {},
   "outputs": [
    {
     "data": {
      "text/plain": [
       "[1, 2, 3, 4, 5, 6, 7, 8, 9]"
      ]
     },
     "execution_count": 77,
     "metadata": {},
     "output_type": "execute_result"
    }
   ],
   "source": [
    "[i for i in range(1,nx)]"
   ]
  },
  {
   "cell_type": "code",
   "execution_count": 78,
   "metadata": {},
   "outputs": [],
   "source": [
    "# primero calcularemos los elementos de la diagonal principal\n",
    "for i in range(1,nx): \n",
    "    A[i-1,i-1] = Agen[1,1].subs({h_e:x[i]-x[i-1]})+Agen[0,0].subs({h_e:x[i+1]-x[i]})"
   ]
  },
  {
   "cell_type": "code",
   "execution_count": 79,
   "metadata": {},
   "outputs": [],
   "source": [
    "for i in range(1,nx-1): # y ahora la diagonal inferior adyacente\n",
    "    A[i-1,i] = Agen[0,1].subs({h_e:x[i+1]-x[i]})\n",
    "    A[i,i-1] = A[i-1,i] # aprovechando la simetría de la matriz"
   ]
  },
  {
   "cell_type": "code",
   "execution_count": 80,
   "metadata": {},
   "outputs": [
    {
     "name": "stdout",
     "output_type": "stream",
     "text": [
      "[[ 2. -1.  0.  0.  0.  0.  0.  0.  0.]\n",
      " [-1.  2. -1.  0.  0.  0.  0.  0.  0.]\n",
      " [ 0. -1.  2. -1.  0.  0.  0.  0.  0.]\n",
      " [ 0.  0. -1.  2. -1.  0.  0.  0.  0.]\n",
      " [ 0.  0.  0. -1.  2. -1.  0.  0.  0.]\n",
      " [ 0.  0.  0.  0. -1.  2. -1.  0.  0.]\n",
      " [ 0.  0.  0.  0.  0. -1.  2. -1.  0.]\n",
      " [ 0.  0.  0.  0.  0.  0. -1.  2. -1.]\n",
      " [ 0.  0.  0.  0.  0.  0.  0. -1.  2.]]\n"
     ]
    }
   ],
   "source": [
    "print(A) # esta sería la matriz de rigidez global en este caso"
   ]
  },
  {
   "cell_type": "markdown",
   "metadata": {},
   "source": [
    "## Ensamblaje del vector de cargas"
   ]
  },
  {
   "cell_type": "code",
   "execution_count": 81,
   "metadata": {},
   "outputs": [],
   "source": [
    "# cargaremos previamente la orden de integración numérica 'quad' \n",
    "# de la que dispone Python dentro del submódulo 'integrate' de SciPy \n",
    "from scipy.integrate import quad  # "
   ]
  },
  {
   "cell_type": "code",
   "execution_count": 82,
   "metadata": {},
   "outputs": [
    {
     "data": {
      "text/plain": [
       "(1.8390715290764525, 9.921183292055904e-12)"
      ]
     },
     "execution_count": 82,
     "metadata": {},
     "output_type": "execute_result"
    }
   ],
   "source": [
    "quad(f, a, b) # el primer término es la aproximación numérica de la\n",
    "# integral, mientras que el segundo una estimación del error cometido"
   ]
  },
  {
   "cell_type": "code",
   "execution_count": 83,
   "metadata": {},
   "outputs": [
    {
     "data": {
      "text/plain": [
       "0.3011686789397568"
      ]
     },
     "execution_count": 83,
     "metadata": {},
     "output_type": "execute_result"
    }
   ],
   "source": [
    "i=1; # pequeña prueba de cómo usar funciones lambda\n",
    "g = lambda z: f(z)*l2(Finv(z,x[i-1],x[i])) # dentro de 'quad'\n",
    "quad(g,x[i-1],x[i])[0]"
   ]
  },
  {
   "cell_type": "code",
   "execution_count": 84,
   "metadata": {},
   "outputs": [],
   "source": [
    "p1  = ya+(yb-ya)/(b-a)*(z-a)  # este cambio permitiría homogeneizar\n",
    "p1 # las dos condiciones de contorno de tipo Dirichlet impuestas\n",
    "yyp1 = np.array([p1.subs({z:x}) for x in xx])"
   ]
  },
  {
   "cell_type": "code",
   "execution_count": 85,
   "metadata": {},
   "outputs": [],
   "source": [
    "# esta nueva función en el segundo miembro de la ec. diferencial\n",
    "def fbis(z): # permite considerar condiciones de frontera homogéneas\n",
    "    return (f(t)-L(lambda t:p1,t)).subs({t:z})"
   ]
  },
  {
   "cell_type": "markdown",
   "metadata": {},
   "source": [
    "Pero vemos que al ser $p_1(x)$ una función lineal, su derivada segunda siempre será nula, por lo que en este caso particular no cambiará para nada la función del segundo miembro de nuestra ec. diferencial. No obstante, cuando se consideren otros operadores autoadjuntos más generales, de la forma  (con funciones $p\\in\\mathcal{C}^1$ y $q\\in\\mathcal{C}^0$)\n",
    "$$\\mathcal{L}(y)\\equiv -(p(x)y')'+q(x)y$$\n",
    "entonces sí que tendríamos que \n",
    "$$\\mathcal{L}(p_1) = -(p'(x)p_1'+p(x)p_1'')+q(x)p_1=-p'(x)p_1'+q(x)p_1$$ pero para nuestra ecuación diferencial del ejemplo que estamos considerando, resulta que $p(x)\\equiv 1$ y $q(x)\\equiv 0$ y por eso nos ha salido $\\mathcal{L}(p_1) = 0$ en este caso particular."
   ]
  },
  {
   "cell_type": "code",
   "execution_count": 86,
   "metadata": {},
   "outputs": [
    {
     "data": {
      "text/plain": [
       "9"
      ]
     },
     "execution_count": 86,
     "metadata": {},
     "output_type": "execute_result"
    }
   ],
   "source": [
    "B = np.zeros(nx-1)\n",
    "len(B)\n",
    "# B"
   ]
  },
  {
   "cell_type": "code",
   "execution_count": 87,
   "metadata": {},
   "outputs": [
    {
     "name": "stdout",
     "output_type": "stream",
     "text": [
      "[ 0.77364454  0.83600386  0.12974508 -0.69580072 -0.88163056 -0.25689332\n",
      "  0.60403045  0.90961141  0.37889983]\n"
     ]
    }
   ],
   "source": [
    "for i in range(1,nx):  # Atención: ¡cuidado con los índices en Python!\n",
    "    intizda = quad(lambda z:fbis(z)*l2(Finv(z,x[i-1],x[i])),x[i-1],x[i])\n",
    "    intdcha = quad(lambda z:fbis(z)*l1(Finv(z,x[i],x[i+1])),x[i],x[i+1])\n",
    "    B[i-1] = intizda[0] + intdcha[0]\n",
    "print(B)"
   ]
  },
  {
   "cell_type": "code",
   "execution_count": 88,
   "metadata": {},
   "outputs": [],
   "source": [
    "# descartamos la integración simbólica de estos términos porque\n",
    "# tardaría muchísimo más en calcularse\n",
    "#for i in range(1,nx):  \n",
    "#    intizda = sp.integrate(f(z)*l2(Finv(z,x[i-1],x[i])),[z,x[i-1],x[i]])\n",
    "#    intdcha = sp.integrate(f(z)*l1(Finv(z,x[i],x[i+1])),[z,x[i],x[i+1]])\n",
    "#    B[i-1] = intizda + intdcha"
   ]
  },
  {
   "cell_type": "markdown",
   "metadata": {},
   "source": [
    "## Resolución del sistema lineal y construcción de la solución aproximada del problema"
   ]
  },
  {
   "cell_type": "code",
   "execution_count": 89,
   "metadata": {},
   "outputs": [
    {
     "data": {
      "text/plain": [
       "(9, 9)"
      ]
     },
     "execution_count": 89,
     "metadata": {},
     "output_type": "execute_result"
    }
   ],
   "source": [
    "# comprobación de las dimensiones de la matriz A y del vector B\n",
    "len(A),len(B)"
   ]
  },
  {
   "cell_type": "code",
   "execution_count": 90,
   "metadata": {},
   "outputs": [],
   "source": [
    "C = np.linalg.solve(A,B) # resolución del sistema lineal asociado"
   ]
  },
  {
   "cell_type": "code",
   "execution_count": 91,
   "metadata": {},
   "outputs": [
    {
     "data": {
      "text/plain": [
       "array([ 0.8958731 ,  1.01810165,  0.30432634, -0.53919405, -0.68691372,\n",
       "        0.04699717,  1.03780138,  1.42457514,  0.90173749])"
      ]
     },
     "execution_count": 91,
     "metadata": {},
     "output_type": "execute_result"
    }
   ],
   "source": [
    "C  # esta sería la solución de dicho sistema"
   ]
  },
  {
   "cell_type": "code",
   "execution_count": 92,
   "metadata": {},
   "outputs": [
    {
     "data": {
      "image/png": "[encoded data removed]",
      "text/plain": [
       "<Figure size 432x288 with 1 Axes>"
      ]
     },
     "metadata": {
      "needs_background": "light"
     },
     "output_type": "display_data"
    }
   ],
   "source": [
    "yy = np.array([sum([wi(z,x,i)*C[i-1] for i in range(1,nx)]) for z in xx])\n",
    "# yy = yy +    ya*np.array([w0(z,x) for z in xx]) \n",
    "# yy = yy +    yb*np.array([wn(z,x) for z in xx])\n",
    "# plt.plot(xx,yy); # nótese que habrá que sumar p1(z) para que se \n",
    "plt.plot(xx,yy + yyp1); # satisfagan las condiciones de contorno\n",
    "yyexacta = [yexacta(z,ya,yb) for z in xx] \n",
    "plt.plot(xx,yyexacta);  # y aproximar la solución exacta del pbma."
   ]
  },
  {
   "cell_type": "markdown",
   "metadata": {},
   "source": [
    "# Caso de condiciones de tipo Neumann"
   ]
  },
  {
   "cell_type": "markdown",
   "metadata": {},
   "source": [
    "Resolveremos ahora otro problema de contorno de segundo orden como el anterior, pero con alguna de las condiciones de tipo Neumann, aunque la otra siga siendo de tipo Dirichlet en alguno de los dos extremos de cierto intervalo $[a,b]$, con lo cuál el problema sigue teniendo solución única; pongamos por ejemplo\n",
    "\n",
    "$$-y''(x) = f(x), \\; x\\in [a,b]\\\\\n",
    "y(a) = y_a,\\quad y'(b)=y_b^1$$\n",
    "\n",
    "para cierta función $f(x)$ contínua en dicho intervalo. Seguiremos tomando $f(x)=\\sin(x),\\; x\\in[0,10]$ como antes."
   ]
  },
  {
   "cell_type": "code",
   "execution_count": 93,
   "metadata": {},
   "outputs": [
    {
     "data": {
      "text/latex": [
       "$\\displaystyle y{\\left(z \\right)} = C_{1} + C_{2} z + \\sin{\\left(z \\right)}$"
      ],
      "text/plain": [
       "Eq(y(z), C1 + C2*z + sin(z))"
      ]
     },
     "execution_count": 93,
     "metadata": {},
     "output_type": "execute_result"
    }
   ],
   "source": [
    "solgen  # la solución general de la ec. diferencial era"
   ]
  },
  {
   "cell_type": "code",
   "execution_count": 94,
   "metadata": {},
   "outputs": [
    {
     "name": "stdout",
     "output_type": "stream",
     "text": [
      "Eq(y(z), C1 + C2*z + sin(z))\n"
     ]
    }
   ],
   "source": [
    "print(solgen)"
   ]
  },
  {
   "cell_type": "code",
   "execution_count": 95,
   "metadata": {},
   "outputs": [
    {
     "name": "stdout",
     "output_type": "stream",
     "text": [
      "C2 + cos(z)\n"
     ]
    }
   ],
   "source": [
    "print(sp.diff(C1 + C2*z + sp.sin(z),z)) # usaremos la variable z\n",
    "# que ya la teníamos definida como simbólica, y x era un array"
   ]
  },
  {
   "cell_type": "code",
   "execution_count": 96,
   "metadata": {},
   "outputs": [
    {
     "data": {
      "text/plain": [
       "(C1 - ya, C2 - dyb + cos(10))"
      ]
     },
     "execution_count": 96,
     "metadata": {},
     "output_type": "execute_result"
    }
   ],
   "source": [
    "ya,dyb = sp.symbols('ya,dyb')\n",
    "ecs = (C1 + C2*z + sp.sin(z)).subs({z:a})-ya,(C2 + sp.cos(z)).subs({z:b})-dyb\n",
    "ecs"
   ]
  },
  {
   "cell_type": "code",
   "execution_count": 97,
   "metadata": {},
   "outputs": [
    {
     "data": {
      "text/latex": [
       "$\\displaystyle y{\\left(z \\right)} = ya + z \\left(dyb - \\cos{\\left(10 \\right)}\\right) + \\sin{\\left(z \\right)}$"
      ],
      "text/plain": [
       "Eq(y(z), ya + z*(dyb - cos(10)) + sin(z))"
      ]
     },
     "execution_count": 97,
     "metadata": {},
     "output_type": "execute_result"
    }
   ],
   "source": [
    "solgen.subs({C1:ya,C2:dyb-sp.cos(b)})"
   ]
  },
  {
   "cell_type": "code",
   "execution_count": 98,
   "metadata": {},
   "outputs": [
    {
     "name": "stdout",
     "output_type": "stream",
     "text": [
      "Eq(y(z), ya + z*(dyb - cos(10)) + sin(z))\n"
     ]
    }
   ],
   "source": [
    "print(_)"
   ]
  },
  {
   "cell_type": "code",
   "execution_count": 99,
   "metadata": {},
   "outputs": [],
   "source": [
    "def yexacta(z,ya,dyb):\n",
    "    \"\"\"solución exacta del problema tomado como ejemplo\"\"\"\n",
    "    return ya + z*(dyb - sp.cos(10)) + sp.sin(z)"
   ]
  },
  {
   "cell_type": "code",
   "execution_count": 100,
   "metadata": {},
   "outputs": [
    {
     "data": {
      "text/latex": [
       "$\\displaystyle z \\left(1 - \\cos{\\left(10 \\right)}\\right) + \\sin{\\left(z \\right)} - 1$"
      ],
      "text/plain": [
       "z*(1 - cos(10)) + sin(z) - 1"
      ]
     },
     "execution_count": 100,
     "metadata": {},
     "output_type": "execute_result"
    }
   ],
   "source": [
    "ya = -1; dyb = 1\n",
    "yexacta(z,ya,dyb)"
   ]
  },
  {
   "cell_type": "code",
   "execution_count": 101,
   "metadata": {},
   "outputs": [
    {
     "data": {
      "text/latex": [
       "$\\displaystyle \\sin{\\left(z \\right)}$"
      ],
      "text/plain": [
       "sin(z)"
      ]
     },
     "execution_count": 101,
     "metadata": {},
     "output_type": "execute_result"
    }
   ],
   "source": [
    "-sp.diff(yexacta(z,ya,dyb),z,2) # comprobando si se satisface la E.D.O."
   ]
  },
  {
   "cell_type": "code",
   "execution_count": 102,
   "metadata": {},
   "outputs": [
    {
     "data": {
      "text/latex": [
       "$\\displaystyle -1$"
      ],
      "text/plain": [
       "-1"
      ]
     },
     "execution_count": 102,
     "metadata": {},
     "output_type": "execute_result"
    }
   ],
   "source": [
    "yexacta(z,ya,dyb).subs({z:a})  # comprobando la condición de contorno\n",
    "# de tipo Dirichlet en el extremo izquierdo del intervalo"
   ]
  },
  {
   "cell_type": "code",
   "execution_count": 103,
   "metadata": {},
   "outputs": [
    {
     "data": {
      "text/latex": [
       "$\\displaystyle 1$"
      ],
      "text/plain": [
       "1"
      ]
     },
     "execution_count": 103,
     "metadata": {},
     "output_type": "execute_result"
    }
   ],
   "source": [
    "sp.diff(yexacta(z,ya,dyb),z).subs({z:b})  # comprobando la condición \n",
    "# de contorno de tipo Neumann en el extremo derecho del intervalo"
   ]
  },
  {
   "cell_type": "code",
   "execution_count": 104,
   "metadata": {},
   "outputs": [
    {
     "data": {
      "text/plain": [
       "(-1, 1)"
      ]
     },
     "execution_count": 104,
     "metadata": {},
     "output_type": "execute_result"
    }
   ],
   "source": [
    "yexacta(a,ya,dyb),sp.diff(yexacta(z,ya,dyb),z).subs({z:b})"
   ]
  },
  {
   "cell_type": "code",
   "execution_count": 105,
   "metadata": {},
   "outputs": [
    {
     "data": {
      "text/latex": [
       "$\\displaystyle z - 1$"
      ],
      "text/plain": [
       "z - 1"
      ]
     },
     "execution_count": 105,
     "metadata": {},
     "output_type": "execute_result"
    }
   ],
   "source": [
    "p1  = ya+dyb*(z-a)  # este cambio permitiría homogeneizar\n",
    "p1                  # ambas condiciones de contorno impuestas"
   ]
  },
  {
   "cell_type": "code",
   "execution_count": 106,
   "metadata": {},
   "outputs": [
    {
     "data": {
      "image/png": "[encoded data removed]",
      "text/plain": [
       "<Figure size 432x288 with 1 Axes>"
      ]
     },
     "metadata": {
      "needs_background": "light"
     },
     "output_type": "display_data"
    }
   ],
   "source": [
    "yyexacta = [yexacta(z,ya,dyb) for z in xx] \n",
    "yyp1     = [p1.subs({z:zz}) for zz in xx] \n",
    "plt.plot(xx,yyexacta);\n",
    "plt.plot(xx,yyp1); # la condición de la derecha involucra sólo a la\n",
    "# derivada primera, por lo que los valores de y(b) y p1(b) no tienen \n",
    "# porque coincidir, sólo tienen que tener la misma pendiente en x =b\n",
    "# de manera que y(z)-p1(z) satisfará el mismo tipo de condiciones de \n",
    "# contorno, pero con datos homogéneos (es decir, nulos)."
   ]
  },
  {
   "cell_type": "markdown",
   "metadata": {},
   "source": [
    "Si escribimos la posible solución \n",
    "$$\\widetilde{y}_h(x) \\equiv p_1(x)+\\widehat{z}_h(x)\n",
    "    \\equiv y_a+(x-a)y_b^1+\\sum_{j=1}^n c_j w_j(x)$$\n",
    "   \n",
    "al introducir esta expresión en la formulación variacional del problema con condiciones de tipo Neumann, se deberá satisfacer, para cualquier función test en el espacio \n",
    "$$\\mathcal{D}_h\\equiv\\left\\{ v\\in S_1(a,x_1,\\ldots,x_n),\\; : v(a)=0 \\right\\}$$\n",
    "\n",
    "$$\\mathcal{A}(\\widetilde{y}_h,v)=\\mathcal{B}_f(v)+v(b)y_b^1$$\n",
    "\n",
    "o considerando sólo funciones de la base del espacio discreto $\\mathcal{D}_h = gen\\left\\{ w_i,\\; i=1,\\ldots,n\\right\\}$ \n",
    "\n",
    "$$\\mathcal{A}(\\widehat{z}_h,w_i)=\\mathcal{B}_f(w_i)+w_i(b)y_b^1-\\mathcal{A}(p_1,w_i)$$\n",
    "\n",
    "pero, como se puede comprobar fácilmente, para todo $i=1,\\ldots,n-1$, $w_i(b)=0$, y \n",
    "$$\\mathcal{A}(p_1,w_i)=\\int_{x_{i-1}}^{x_{i}}\\frac{y_b^1}{x_i-x_{i-1}}\\,dx +\\int_{x_{i}}^{x_{i+1}} \\frac{-y_b^1}{x_{i+1}-x_{i}}\\,dx=y_b^1\\left(1-1\\right)=0$$\n",
    "mientras que para $i=n$ se tiene también que \n",
    "\n",
    "$$w_n(b)y_b^1-\\mathcal{A}(p_1,w_n)=y_b^1-\\int_{x_{n-1}}^{x_{n}}\\frac{y_b^1}{x_n-x_{n-1}}\\,dx = y_b^1\\left(1-1\\right)=0$$\n",
    "\n",
    "Así pues, bastaría con resolver aproximadamente el problema con condiciones homogéneas \n",
    "\n",
    "$$-z''(x) = f(x), \\; x\\in [a,b]\\\\\n",
    "z(a) = 0,\\quad z'(b)= 0$$\n",
    "\n",
    "y a la aproximación obtenida, $\\widehat{z}_h(x)$ sumarle simplemente $p_1(x)$ para obtener la aproximación buscada del problema original\n",
    "$\\widetilde{y}_h(x) \\equiv p_1(x)+\\widehat{z}_h(x)$.\n",
    "\n",
    "Nótese sin embargo que, en caso de que el operador diferencial hubiese sido un operador diferencial autoadjunto general, con $q(x)\\neq 0$ o bien con  $p(x)$ no constante, entonces sí que habría que haber modificado ligeramente el vector de términos independientes del sistema lineal."
   ]
  },
  {
   "cell_type": "code",
   "execution_count": 107,
   "metadata": {},
   "outputs": [
    {
     "data": {
      "text/latex": [
       "$\\displaystyle \\sin{\\left(z \\right)}$"
      ],
      "text/plain": [
       "sin(z)"
      ]
     },
     "execution_count": 107,
     "metadata": {},
     "output_type": "execute_result"
    }
   ],
   "source": [
    "fbis = f(z)-L(lambda z:p1,z) # esta nueva función en el segundo \n",
    "fbis # miembro de la ec. dif. permite considerar condiciones de \n",
    "# frontera del mismo tipo que de partida, pero homogéneas"
   ]
  },
  {
   "cell_type": "code",
   "execution_count": 108,
   "metadata": {},
   "outputs": [],
   "source": [
    "# esta nueva función en el segundo miembro de la ec. diferencial\n",
    "def fbis(z): # permite considerar condiciones de frontera homogéneas\n",
    "    return (f(t)-L(lambda t:p1,t)).subs({t:z})"
   ]
  },
  {
   "cell_type": "markdown",
   "metadata": {},
   "source": [
    "## Ensamblaje de la matriz de rigidez"
   ]
  },
  {
   "cell_type": "code",
   "execution_count": 109,
   "metadata": {},
   "outputs": [
    {
     "data": {
      "text/plain": [
       "array([ 0.,  1.,  2.,  3.,  4.,  5.,  6.,  7.,  8.,  9., 10.])"
      ]
     },
     "execution_count": 109,
     "metadata": {},
     "output_type": "execute_result"
    }
   ],
   "source": [
    "nx = 10; x = np.linspace(a,b,nx+1)\n",
    "x"
   ]
  },
  {
   "cell_type": "code",
   "execution_count": 110,
   "metadata": {},
   "outputs": [
    {
     "data": {
      "text/plain": [
       "(10, 10)"
      ]
     },
     "execution_count": 110,
     "metadata": {},
     "output_type": "execute_result"
    }
   ],
   "source": [
    "A = np.zeros((nx,nx),dtype=float)\n",
    "np.shape(A)\n",
    "# print(A)"
   ]
  },
  {
   "cell_type": "code",
   "execution_count": 111,
   "metadata": {},
   "outputs": [],
   "source": [
    "for i in range(1,nx): # ¡Atención con los índices en Python!\n",
    "# hemos empezado con los elementos de la diagonal principal de la \n",
    "# matriz de rigidez, con índices desde 0 hasta nx-2.   \n",
    "    A[i-1,i-1] = Agen[1,1].subs({h_e:x[i]-x[i-1]})+Agen[0,0].subs({h_e:x[i+1]-x[i]})\n",
    "A[nx-1,nx-1]   = Agen[1,1].subs({h_e:x[nx]-x[nx-1]})  \n",
    "# pero el caso nx-1 es especial y hay que definirlo aparte"
   ]
  },
  {
   "cell_type": "code",
   "execution_count": 112,
   "metadata": {},
   "outputs": [
    {
     "name": "stdout",
     "output_type": "stream",
     "text": [
      "[[ 2. -1.  0.  0.  0.  0.  0.  0.  0.  0.]\n",
      " [-1.  2. -1.  0.  0.  0.  0.  0.  0.  0.]\n",
      " [ 0. -1.  2. -1.  0.  0.  0.  0.  0.  0.]\n",
      " [ 0.  0. -1.  2. -1.  0.  0.  0.  0.  0.]\n",
      " [ 0.  0.  0. -1.  2. -1.  0.  0.  0.  0.]\n",
      " [ 0.  0.  0.  0. -1.  2. -1.  0.  0.  0.]\n",
      " [ 0.  0.  0.  0.  0. -1.  2. -1.  0.  0.]\n",
      " [ 0.  0.  0.  0.  0.  0. -1.  2. -1.  0.]\n",
      " [ 0.  0.  0.  0.  0.  0.  0. -1.  2. -1.]\n",
      " [ 0.  0.  0.  0.  0.  0.  0.  0. -1.  1.]]\n"
     ]
    }
   ],
   "source": [
    "for i in range(1,nx): # ahora nos encargamos de la diagonal inferior\n",
    "    A[i-1,i] = Agen[0,1].subs({h_e:x[i+1]-x[i]})\n",
    "    A[i,i-1] = A[i-1,i] # y de la superior por simetría\n",
    "print(A)    "
   ]
  },
  {
   "cell_type": "code",
   "execution_count": 113,
   "metadata": {},
   "outputs": [
    {
     "name": "stdout",
     "output_type": "stream",
     "text": [
      "[0. 0. 0. 0. 0. 0. 0. 0. 0. 0.]\n"
     ]
    }
   ],
   "source": [
    "B = np.zeros(nx) # Ahora empezamos a construir el array correspondiente\n",
    "print(B)         # al vector de términos independientes del sist. lineal\n",
    "                 # con valores nulos en un primer momento."
   ]
  },
  {
   "cell_type": "code",
   "execution_count": 114,
   "metadata": {},
   "outputs": [
    {
     "data": {
      "text/plain": [
       "10"
      ]
     },
     "execution_count": 114,
     "metadata": {},
     "output_type": "execute_result"
    }
   ],
   "source": [
    "len(B)         # comprobamos que efectivamente tendremos nx incógnitas"
   ]
  },
  {
   "cell_type": "code",
   "execution_count": 115,
   "metadata": {},
   "outputs": [
    {
     "data": {
      "text/plain": [
       "(0.0, 0.0)"
      ]
     },
     "execution_count": 115,
     "metadata": {},
     "output_type": "execute_result"
    }
   ],
   "source": [
    "B[0],B[nx-1]    # ¡recuérde que en Python el primer índice es el 0!"
   ]
  },
  {
   "cell_type": "code",
   "execution_count": 116,
   "metadata": {},
   "outputs": [
    {
     "data": {
      "text/plain": [
       "(0.0, 10.0)"
      ]
     },
     "execution_count": 116,
     "metadata": {},
     "output_type": "execute_result"
    }
   ],
   "source": [
    "x[0],x[nx]      # estos deberán ser los extremos del intervalo [a,b]"
   ]
  },
  {
   "cell_type": "code",
   "execution_count": 117,
   "metadata": {},
   "outputs": [
    {
     "name": "stdout",
     "output_type": "stream",
     "text": [
      "[ 0.77364454  0.83600386  0.12974508 -0.69580072 -0.88163056 -0.25689332\n",
      "  0.60403045  0.90961141  0.37889983 -0.11706807]\n"
     ]
    }
   ],
   "source": [
    "for i in range(1,nx):  # Atención: ¡cuidado con los índices en Python!\n",
    "    intizda = quad(lambda z:fbis(z)*l2(Finv(z,x[i-1],x[i])),x[i-1],x[i])\n",
    "    intdcha = quad(lambda z:fbis(z)*l1(Finv(z,x[i],x[i+1])),x[i],x[i+1])\n",
    "    B[i-1] = intizda[0] + intdcha[0]\n",
    "B[nx-1] = quad(lambda z:fbis(z)*l2(Finv(z,x[nx-1],x[nx])),x[nx-1],x[nx])[0]  \n",
    "print(B)"
   ]
  },
  {
   "cell_type": "markdown",
   "metadata": {},
   "source": [
    "## Resolución del sistema lineal y construcción de la solución aproximada del problema"
   ]
  },
  {
   "cell_type": "code",
   "execution_count": 118,
   "metadata": {},
   "outputs": [],
   "source": [
    "C = np.linalg.solve(A,B)"
   ]
  },
  {
   "cell_type": "code",
   "execution_count": 119,
   "metadata": {},
   "outputs": [
    {
     "data": {
      "text/plain": [
       "array([1.68054251, 2.58744048, 2.6583346 , 2.59948362, 3.23643337,\n",
       "       4.75501368, 6.5304873 , 7.70193048, 7.96376225, 7.84669418])"
      ]
     },
     "execution_count": 119,
     "metadata": {},
     "output_type": "execute_result"
    }
   ],
   "source": [
    "C"
   ]
  },
  {
   "cell_type": "code",
   "execution_count": 120,
   "metadata": {},
   "outputs": [
    {
     "data": {
      "image/png": "[encoded data removed]",
      "text/plain": [
       "<Figure size 432x288 with 1 Axes>"
      ]
     },
     "metadata": {
      "needs_background": "light"
     },
     "output_type": "display_data"
    }
   ],
   "source": [
    "yy = np.array([sum([wi(z,x,i)*C[i-1] for i in range(1,nx)]) for z in xx])\n",
    "yy = yy + C[-1]*np.array([wn(z,x) for z in xx])\n",
    "# plt.plot(xx,yy); # Nótese que aún faltará por sumarle p1(z)\n",
    "plt.plot(xx,yyexacta); # para poder recuperar las condiciones\n",
    "plt.plot(xx,yy + yyp1); # de contorno del problema de partida"
   ]
  },
  {
   "cell_type": "markdown",
   "metadata": {},
   "source": [
    "Veámos qué hubiese ocurrido si en vez de realizar el cambio $y(x) = z(x)+p_1(x)$, con $p_1(x)=y_b^1(x-a)+y_a$, hubiésemos simplemente considerado que $$\\widetilde{y}_h(x) = y_a w_0(x)+ \\sum_{j=1}^{n}y_j w_j(x)\\equiv y_a w_0(x)+\\widetilde{z}_h(x),$$ con el valor $y_n$ totalmente libre, y usando las funciones de base habituales para este E.F. de Lagrange lineal.\n",
    "\n",
    "En este caso pues, también se deberá satisfacer la correspondiente formulación variacional del problema correspondiente a una condición de tipo Neumann en el extremo derecho del intervalo $[a,b]$, a saber\n",
    "\n",
    "$$\\mathcal{A}(\\widetilde{y}_h,w_i)=\\widetilde{\\mathcal{B}}_{f}(w_i),\\; \\forall i =1,\\ldots,n$$\n",
    "\n",
    "donde ahora $\\widetilde{\\mathcal{B}}_{f}(w_i)=\\int_a^b f(x)w_i(x)\\,dx + y_b^1w_i(b)$, pero este nuevo segundo sumando sólo afectará cuando $w_i(b)$ no se anule, es decir para $i=n$.\n",
    "\n",
    "Usando además la bilinealidad de la forma cuadrática $\\mathcal{A}$ nos quedaría $\\forall i =1,\\ldots,n$ que\n",
    "\n",
    "$$\\widetilde{\\mathcal{B}}_{f}(w_i)=\\mathcal{A}(y_a w_0+ \\sum_{j=1}^{n}y_j w_j,w_i) = y_a \\mathcal{A}(w_0,w_i)+\\sum_{j=1}^{n}y_j \\mathcal{A}(w_j,w_i)$$\n",
    "\n",
    "pero claramente todos los elementos $\\mathcal{A}(w_0,w_i)$ serán nulos salvo en todo caso el correspondiente a $i=1$\n",
    "$$\\mathcal{A}(w_0,w_1)=\\int_{x_0}^{x_1} w_0'(x)\\ w_1'(x)\\, dx \n",
    "=\\int_{x_0}^{x_1} -(F_1^{-1})'(x))^2\\, dx \\\\\n",
    "= -\\frac{x_1-x_0}{(x_1-x_0)^2}=-\\frac{1}{x_1-x_0}$$\n",
    "ya que al aplicar la regla de la cadena al derivar $l_{1,2}(F_1^{-1})$, resulta que $l_1'(x)=-1$ y $l_2'(x)=1$, y claramente la derivada de $F_1^{-1}(x)=\\frac{x-x_{0}}{x_1-x_0}$ es $\\frac{1}{x_1-x_0}$.\n",
    "\n",
    "Así pues, tan sólo tendríamos que modificar el primer elemento del vector de cargas, sumándole el siguiente término:\n",
    "\n",
    "$$-y_a\\mathcal{A}(w_0,w_1) = +\\frac{y_a}{x_1-x_0}$$\n"
   ]
  },
  {
   "cell_type": "code",
   "execution_count": 121,
   "metadata": {},
   "outputs": [
    {
     "data": {
      "text/plain": [
       "(-0.2263554572098887, 0.882931932945326)"
      ]
     },
     "execution_count": 121,
     "metadata": {},
     "output_type": "execute_result"
    }
   ],
   "source": [
    "B[0]  = B[0]  + ya/(x[1]-x[0]) # modificamos el primer elemento\n",
    "B[-1] = B[-1] + dyb # así como el último del vector de cargas B\n",
    "B[0],B[-1]"
   ]
  },
  {
   "cell_type": "code",
   "execution_count": 122,
   "metadata": {},
   "outputs": [],
   "source": [
    "Y = np.linalg.solve(A,B) # y ya podemos resolver el nuevo sistema"
   ]
  },
  {
   "cell_type": "code",
   "execution_count": 123,
   "metadata": {},
   "outputs": [
    {
     "data": {
      "text/plain": [
       "array([ 1.68054251,  3.58744048,  4.6583346 ,  5.59948362,  7.23643337,\n",
       "        9.75501368, 12.5304873 , 14.70193048, 15.96376225, 16.84669418])"
      ]
     },
     "execution_count": 123,
     "metadata": {},
     "output_type": "execute_result"
    }
   ],
   "source": [
    "Y  # cuya solución nos aportará los coeficientes que necesitábamos"
   ]
  },
  {
   "cell_type": "code",
   "execution_count": 124,
   "metadata": {},
   "outputs": [
    {
     "data": {
      "image/png": "[encoded data removed]",
      "text/plain": [
       "<Figure size 432x288 with 1 Axes>"
      ]
     },
     "metadata": {
      "needs_background": "light"
     },
     "output_type": "display_data"
    }
   ],
   "source": [
    "yy = np.zeros(len(xx)) # con estos valores ya podemos construir la\n",
    "yy = np.array([sum([wi(z,x,i)*Y[i-1] for i in range(1,nx)]) for z in xx])\n",
    "# sumatoria, a la que añadimos las dos func. de base de los extremos\n",
    "yy = yy +    ya*np.array([w0(z,x) for z in xx]) # izquierdo y\n",
    "yy = yy + Y[-1]*np.array([wn(z,x) for z in xx]) # derecho\n",
    "# multiplicadas por los coeficientes apropiados\n",
    "plt.plot(xx,yyexacta); # para poder recuperar las condiciones\n",
    "plt.plot(xx,yy); # de contorno del problema de partida"
   ]
  },
  {
   "cell_type": "markdown",
   "metadata": {},
   "source": [
    "# Caso de condiciones mixtas (de tipo Robin)"
   ]
  },
  {
   "cell_type": "markdown",
   "metadata": {},
   "source": [
    "#### Posibilidad de proponer como ejercicio este caso"
   ]
  },
  {
   "cell_type": "markdown",
   "metadata": {},
   "source": [
    "Resolveremos finalmente la misma ecuación diferencial anterior, pero con alguna de las condiciones de tipo Robin (o mixto), aunque la otra siga siendo de tipo Dirichlet en alguno de los dos extremos de cierto intervalo $[a,b]$, con lo cuál seguimos teniendo asegurada la unicidad de la correspondiente solución; pongamos por ejemplo (con $|\\alpha_b|+|\\beta_b|\\neq 0$)\n",
    "\n",
    "$$-y''(x) = f(x), \\; x\\in [a,b]\\\\\n",
    "y(a) = y_a,\\quad \\alpha_b y(b)+\\beta_b y'(b)=\\widehat{y}_b$$\n",
    "\n",
    "para cierta función $f(x)$ continua en dicho intervalo. Seguiremos tomando $f(x)=\\sin(x),\\; x\\in[0,10]$ como antes.\n",
    "\n",
    "**Comentario:** Nótese que si $\\beta_b = 0$ entonces la condición de tipo Robin se reduciría a una condición de tipo Dirichlet estandard ($y(b)=\\frac{\\widehat{y}_b}{\\alpha_b}$), mientras que si por el contrario $\\alpha_b = 0$ entonces dicha condición se convierte en una condición de tipo Neumann ($y'(b)=\\frac{\\widehat{y}_b}{\\beta_b}$); así pues, consideraremos $\\alpha_b, \\beta_b\\neq 0$ a partir de ahora."
   ]
  },
  {
   "cell_type": "code",
   "execution_count": 125,
   "metadata": {},
   "outputs": [],
   "source": [
    "a,b = sp.symbols('a,b')"
   ]
  },
  {
   "cell_type": "code",
   "execution_count": 126,
   "metadata": {},
   "outputs": [],
   "source": [
    "alpha_b = 1; beta_b =1;"
   ]
  },
  {
   "cell_type": "code",
   "execution_count": 127,
   "metadata": {},
   "outputs": [],
   "source": [
    "C1,C2 = sp.symbols('C1,C2')"
   ]
  },
  {
   "cell_type": "code",
   "execution_count": 128,
   "metadata": {},
   "outputs": [
    {
     "data": {
      "text/latex": [
       "$\\displaystyle y{\\left(z \\right)} = C_{1} + C_{2} z + \\sin{\\left(z \\right)}$"
      ],
      "text/plain": [
       "Eq(y(z), C1 + C2*z + sin(z))"
      ]
     },
     "execution_count": 128,
     "metadata": {},
     "output_type": "execute_result"
    }
   ],
   "source": [
    "solgen  # la solución general de la ec. diferencial era"
   ]
  },
  {
   "cell_type": "code",
   "execution_count": 129,
   "metadata": {},
   "outputs": [
    {
     "name": "stdout",
     "output_type": "stream",
     "text": [
      "Eq(y(z), C1 + C2*z + sin(z))\n"
     ]
    }
   ],
   "source": [
    "print(solgen)"
   ]
  },
  {
   "cell_type": "code",
   "execution_count": 130,
   "metadata": {},
   "outputs": [
    {
     "name": "stdout",
     "output_type": "stream",
     "text": [
      "C2 + cos(z)\n"
     ]
    }
   ],
   "source": [
    "print(sp.diff(C1 + C2*z + sp.sin(z),z)) # usaremos la variable z\n",
    "# que ya la teníamos definida como simbólica, ya que x era un array"
   ]
  },
  {
   "cell_type": "code",
   "execution_count": 131,
   "metadata": {},
   "outputs": [
    {
     "data": {
      "text/plain": [
       "(C1 + C2*a - ya + sin(a), C1 + C2*b + C2 - yb + sin(b) + cos(b))"
      ]
     },
     "execution_count": 131,
     "metadata": {},
     "output_type": "execute_result"
    }
   ],
   "source": [
    "ya,yb = sp.symbols('ya,yb')\n",
    "ecs = (C1 + C2*z + sp.sin(z)).subs({z:a})-ya,(alpha_b*(C1 + C2*z + sp.sin(z)).subs({z:b})+beta_b*(C2 + sp.cos(z)).subs({z:b}))-yb\n",
    "ecs  # continuar a partir de aquí"
   ]
  },
  {
   "cell_type": "code",
   "execution_count": 132,
   "metadata": {},
   "outputs": [
    {
     "data": {
      "text/latex": [
       "$\\displaystyle y{\\left(z \\right)} = C_{2} z + ya + \\sin{\\left(z \\right)}$"
      ],
      "text/plain": [
       "Eq(y(z), C2*z + ya + sin(z))"
      ]
     },
     "execution_count": 132,
     "metadata": {},
     "output_type": "execute_result"
    }
   ],
   "source": [
    "solgen = solgen.subs({C1:ya})\n",
    "solgen"
   ]
  },
  {
   "cell_type": "code",
   "execution_count": 133,
   "metadata": {},
   "outputs": [
    {
     "data": {
      "text/latex": [
       "$\\displaystyle C_{2} b + C_{2} - yb + \\sin{\\left(b \\right)} + \\cos{\\left(b \\right)}$"
      ],
      "text/plain": [
       "C2*b + C2 - yb + sin(b) + cos(b)"
      ]
     },
     "execution_count": 133,
     "metadata": {},
     "output_type": "execute_result"
    }
   ],
   "source": [
    "(alpha_b*(C2*z + sp.sin(z)).subs({z:b})+beta_b*(C2 + sp.cos(z)).subs({z:b}))-yb"
   ]
  },
  {
   "cell_type": "code",
   "execution_count": 134,
   "metadata": {},
   "outputs": [
    {
     "name": "stdout",
     "output_type": "stream",
     "text": [
      "C2*b + C2 - yb + sin(b) + cos(b)\n"
     ]
    }
   ],
   "source": [
    "print(_)"
   ]
  },
  {
   "cell_type": "code",
   "execution_count": 135,
   "metadata": {},
   "outputs": [],
   "source": [
    "def yexacta(z,ya,yb):\n",
    "    \"\"\"solución exacta del problema tomado como ejemplo\"\"\"\n",
    "    return ya + z*(yb - sp.cos(10)) + sp.sin(z)"
   ]
  },
  {
   "cell_type": "code",
   "execution_count": 136,
   "metadata": {},
   "outputs": [
    {
     "data": {
      "text/latex": [
       "$\\displaystyle z \\left(1 - \\cos{\\left(10 \\right)}\\right) + \\sin{\\left(z \\right)} - 1$"
      ],
      "text/plain": [
       "z*(1 - cos(10)) + sin(z) - 1"
      ]
     },
     "execution_count": 136,
     "metadata": {},
     "output_type": "execute_result"
    }
   ],
   "source": [
    "a = 0; b = 10;\n",
    "ya = -1; yb = 1\n",
    "yexacta(z,ya,yb)"
   ]
  },
  {
   "cell_type": "code",
   "execution_count": 137,
   "metadata": {},
   "outputs": [
    {
     "data": {
      "text/latex": [
       "$\\displaystyle - \\sin{\\left(z \\right)}$"
      ],
      "text/plain": [
       "-sin(z)"
      ]
     },
     "execution_count": 137,
     "metadata": {},
     "output_type": "execute_result"
    }
   ],
   "source": [
    "sp.diff(yexacta(z,ya,dyb),z,2)"
   ]
  },
  {
   "cell_type": "code",
   "execution_count": 138,
   "metadata": {},
   "outputs": [
    {
     "data": {
      "text/latex": [
       "$\\displaystyle 1$"
      ],
      "text/plain": [
       "1"
      ]
     },
     "execution_count": 138,
     "metadata": {},
     "output_type": "execute_result"
    }
   ],
   "source": [
    "sp.diff(yexacta(z,ya,dyb),z).subs({z:b})"
   ]
  },
  {
   "cell_type": "code",
   "execution_count": 139,
   "metadata": {},
   "outputs": [
    {
     "data": {
      "text/latex": [
       "$\\displaystyle - \\sin{\\left(z \\right)}$"
      ],
      "text/plain": [
       "-sin(z)"
      ]
     },
     "execution_count": 139,
     "metadata": {},
     "output_type": "execute_result"
    }
   ],
   "source": [
    "# comprobación\n",
    "sp.diff(yexacta(z,ya,dyb),z,2)"
   ]
  },
  {
   "cell_type": "code",
   "execution_count": 140,
   "metadata": {},
   "outputs": [
    {
     "data": {
      "text/plain": [
       "(-1, 1)"
      ]
     },
     "execution_count": 140,
     "metadata": {},
     "output_type": "execute_result"
    }
   ],
   "source": [
    "yexacta(a,ya,dyb),sp.diff(yexacta(z,ya,dyb),z).subs({z:b})"
   ]
  },
  {
   "cell_type": "markdown",
   "metadata": {},
   "source": [
    "Buscaremos soluciones aproximadas de la siguiente forma  \n",
    "$$\\widetilde{y}_h(x) = y_0 w_0(x)+ \\sum_{j=1}^{n}y_j w_j(x)\\equiv y_a w_0(x)+\\widetilde{z}_h(x),$$ con el valor $y_0=y_a$ fijado a partir de la condición de tipo Dirichlet dada en ese extremo izquierdo del intervalo, mientras que tendremos que dejar $y_n$ libre, por la condición de tipo mixto impuesta en el otro extremo del intervalo.  Como es habitual, usaremos las funciones de base $w_i(x),\\, i=0,1,\\ldots, n$ para este E.F. de Lagrange lineal.\n",
    "\n",
    "En este caso pues, también se deberá satisfacer la correspondiente formulación variacional del problema correspondiente a una condición de tipo Robin: $\\alpha_b y(b)+\\beta_b y'(b)=\\widehat{y}_b$ en el extremo derecho del intervalo $[a,b]$ (con $\\beta_b\\neq 0$), a saber\n",
    "\n",
    "$$\\mathcal{A}(\\widetilde{y}_h,w_i)\n",
    "+w_i(b)\\widetilde{y}_h(b)\\frac{\\alpha_b}{\\beta_b}\n",
    "=\\mathcal{B}_{f}(w_i)+w_i(b)\\frac{\\widehat{y}_b}{\\beta_b},\\; \\forall i =1,\\ldots,n$$\n",
    "\n",
    "donde ahora podríamos escribir $\\widetilde{\\mathcal{A}}(w_i,w_j)\\equiv\\mathcal{A}(w_i,w_j)\n",
    "+w_i(b)\\, w_j(b)\\,\\frac{\\alpha_b}{\\beta_b}$  y\n",
    "$\\widetilde{\\mathcal{B}}_{f}(w_i)\\equiv\\mathcal{B}_{f}(w_i)+ w_i(b)\\frac{\\widehat{y}_b}{\\beta_b}$; pero claramente estos nuevos  sumandos sólo cambiarán algo cuando ni $w_i(b)$ ni $w_j(b)$ se anule; es decir para los índices $i=j=n$.\n",
    "\n",
    "Usando además la bilinealidad de la forma cuadrática $\\mathcal{A}$ nos quedaría $\\forall i =1,\\ldots,n$ que\n",
    "\n",
    "$$\\widetilde{\\mathcal{B}}_{f}(w_i)= \\int_a^b f(x)w_i(x)\\,dx + w_i(b)\\frac{\\widehat{y}_b}{\\beta_b}\\\\\n",
    "= \\widetilde{\\mathcal{A}}(y_a w_0+ \\sum_{j=1}^{n}y_j w_j,w_i) \\\\\n",
    "=y_a \\mathcal{A}(w_0,w_i)+w_0(b)\\,w_i(b)\\,\\frac{\\alpha_b}{\\beta_b}\\\\\n",
    "+\\sum_{j=1}^{n}y_j \\mathcal{A}(w_j,w_i)\n",
    "+w_i(b)\\,w_j(b)\\, \\frac{\\alpha_b}{\\beta_b}$$\n",
    "\n",
    "pero claramente todos los elementos $w_i(b)=w_j(b)=0,\\; \\forall i=1,\\ldots,n-1$ y $\\mathcal{A}(w_0,w_i)$ también serán nulos salvo en todo caso el correspondiente a $i=1$\n",
    "$$\\mathcal{A}(w_0,w_1)=-\\frac{1}{x_1-x_0}.$$\n",
    "\n",
    "Así pues, tan sólo tendríamos que modificar el primer elemento del vector de cargas, sumándole el siguiente término:\n",
    "\n",
    "$$-y_a\\mathcal{A}(w_0,w_1) = +\\frac{y_a}{x_1-x_0}$$\n",
    "\n",
    "En cuanto a los términos $w_i(b)\\,w_j(b)\\,\\frac{\\alpha_b}{\\beta_b}$, nótese que todos se anularían también, salvo el caso $i=j=n$; por lo tanto esto provocaría que cambie tan sólo el último elemento de la diagonal de la matriz de rígidez: \n",
    "$\\widetilde{\\mathcal{A}}(w_n,w_n) = \\mathcal{A}(w_n,w_n) +\\,\\frac{\\alpha_b}{\\beta_b}$.\n"
   ]
  },
  {
   "cell_type": "markdown",
   "metadata": {},
   "source": [
    "**Ejercicio (obligatorio):** Terminar de implementar el código correspondiente a la resolución numérica aproximada de un problema como este con condiciones de contorno de tipo Robin, en uno de los extremos del intervalo y resuelva el correspondiente problema con $a=0$, $b=M=\\max{d_i}$, $y_a=d_2$, $\\alpha_b = \\max{(d_3,1)}$, $\\beta_b = \\max{(d_4,1)}$ e $\\widehat{y}_b = d_5$, si el último dígito de su DNI es par, o bien $a=0$, $b=M$, $y_b=d_2$, $\\alpha_a = \\max{ (d_3,1)}$, $\\beta_a =\\max{1, d_4}$ e $\\widehat{y}_a = d_5$, si el último dígito de su DNI es impar (siendo $d_i$ (con $i=1,\\ldots 8$) el dígito de su DNI o pasaporte situado en la posición i-ésima)."
   ]
  },
  {
   "cell_type": "markdown",
   "metadata": {},
   "source": [
    "**Ejercicio (optativo):** Estudiar y/o implementar también el código correspondiente a la resolución numérica aproximada de un problema autoadjunto general\n",
    "\n",
    "$$\\mathcal{L}(y)\\equiv -(p(x)y')'+q(x)y= f(x), \\; x\\in [a,b]$$\n",
    "\n",
    "para cierta función $f(x)$ continua en dicho intervalo, con funciones $p\\in\\mathcal{C}^1$ y $q\\in\\mathcal{C}^0$) y con diferentes condiciones de contorno de tipo Dirichlet, Neumann y/o Robin, en cada uno de los extremos del intervalo."
   ]
  },
  {
   "cell_type": "markdown",
   "metadata": {},
   "source": [
    "**Ejercicio (optativo):** Estudiar y/o implementar ahora el código correspondiente a la resolución numérica aproximada de un problema de cuarto orden (usando por ejempplo el E.F de Hermite de clase $\\mathcal{C}^1$)\n",
    "\n",
    "$$\\mathcal{L}(y)\\equiv (p(x)\\,y'')''-(q(x)\\,y')'+r(x)\\,y(x)= f(x), \\; x\\in [a,b]$$\n",
    "\n",
    "con funciones $p,\\,q,\\,r,\\, f$ suficientemente regulares y con diferentes condiciones de contorno de tipo Dirichlet y/o Neumann en cada uno de los extremos del intervalo, estudiando qué ocurre con las formulaciones variacionales correspondientes cuando se elimina alguna de ellas. "
   ]
  },
  {
   "cell_type": "markdown",
   "metadata": {},
   "source": [
    "**Comentario:** Esta misma técnica de Galerkin también se podría emplear en el caso de operadores diferenciales no autoadjuntos \n",
    "$$\\mathcal{L}(y)\\equiv a_0(x)y''+a_1(x)y'+a_2(x)y= c(x), \\; x\\in [a,b]$$\n",
    "aunque a priori podrían dar lugar a sistemas lineales no simétricos, salvo que $a_0(x)\\neq 0 $ en el intervalo $[a,b]$ y multipliquemos la ecuación, previamente dividiendolo todo entre $a_0(x)$, por el factor $p(x):=-e^{\\int_a^x \\frac{a_1(\\xi)}{a_0(\\xi)}\\,d\\xi}$, con $q(x)=-p'(x)=p(x)\\frac{a_1(x)}{a_0(x)}$ y $f(x)\\equiv \\frac{c(x)}{a_0(x)}\\, p(x)$, quedando finalmente en forma autoadjunta:\n",
    "\n",
    "$$\\mathcal{L}(y)\\equiv -(p(x)y')'+q(x)y= f(x), \\; x\\in [a,b]$$"
   ]
  }
 ],
 "metadata": {
  "anaconda-cloud": {},
  "kernelspec": {
   "display_name": "Python 3",
   "language": "python",
   "name": "python3"
  },
  "language_info": {
   "codemirror_mode": {
    "name": "ipython",
    "version": 3
   },
   "file_extension": ".py",
   "mimetype": "text/x-python",
   "name": "python",
   "nbconvert_exporter": "python",
   "pygments_lexer": "ipython3",
   "version": "3.7.7"
  }
 },
 "nbformat": 4,
 "nbformat_minor": 1
}
