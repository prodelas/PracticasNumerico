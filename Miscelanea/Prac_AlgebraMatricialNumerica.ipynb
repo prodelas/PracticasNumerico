{
 "cells": [
  {
   "cell_type": "markdown",
   "metadata": {},
   "source": [
    "# Álgebra Matricial con Python"
   ]
  },
  {
   "cell_type": "markdown",
   "metadata": {},
   "source": [
    "Autor: Pedro González Rodelas\n",
    "\n",
    "Fecha de la primera versión: 22,25/08/2017\n",
    "\n",
    "Fecha de la última revisión: 8,10,17/05/2022\n"
   ]
  },
  {
   "cell_type": "markdown",
   "metadata": {},
   "source": [
    "En esta práctica se introducen los conceptos básicos relacionados con las matrices de números reales, como son la traspuesta, inversa, etc. de una dada; los tipos fundamentales de matrices: simétricas, inversibles, ortogonales, etc.; así como las técnicas elementales del algebra matricial, como son la suma de matrices y el producto por un escalar, el producto de matrices, etc."
   ]
  },
  {
   "cell_type": "markdown",
   "metadata": {},
   "source": [
    "Para completar esta práctica sobre Álgebra Lineal Numérica se puede consultar alguna de las prácticas desarrolladas por Raúl López Briega en su Blog relacionadas con este tema:\n",
    "* [Álgebra Lineal con Python](https://relopezbriega.github.io/blog/2015/06/14/algebra-lineal-con-python/)\n",
    "* [Más Álgebra Lineal con Python](https://relopezbriega.github.io/blog/2016/02/10/mas-algebra-lineal-con-python/)"
   ]
  },
  {
   "cell_type": "markdown",
   "metadata": {},
   "source": [
    "## Carga de los módulos y Definición de ciertas funciones empleadas"
   ]
  },
  {
   "cell_type": "markdown",
   "metadata": {},
   "source": [
    "Antes de empezar a realizar cualquier cálculo numérico o simbólico debemos de cargar los correspondientes módulos de Python que implementan la mayoría de funciones y procedimientos necesarios para ello: NumPy y SymPy, que serán cargados con los pseudónimos np y sp, respectivamente. Además cargaremos la función del módulo random que nos permitirá generar números aleatorios, cada vez que los necesitemos."
   ]
  },
  {
   "cell_type": "code",
   "execution_count": 1,
   "metadata": {},
   "outputs": [],
   "source": [
    "import numpy as np # Importamos el módulo NumPy con el pseudónimo np\n",
    "import sympy as sp # Importamos el módulo SymPy con el pseudónimo sp"
   ]
  },
  {
   "cell_type": "code",
   "execution_count": 2,
   "metadata": {},
   "outputs": [],
   "source": [
    "from random import random \n",
    "# Importamos la función generadora de números pseudoaleatorios"
   ]
  },
  {
   "cell_type": "markdown",
   "metadata": {},
   "source": [
    "También definiremos cierta función propia, `mychop`, que nos permitirá cambiar por $0$ cualquier valor que obtengamos, después de ciertos cálculos que involucren errores de redondeo, propios del cálculo con números en coma flotante. A su vez usaremos una versión vectorizada de la misma, que podremos aplicar a cualquier lista, tupla o array con valores numéricos en coma flotante."
   ]
  },
  {
   "cell_type": "code",
   "execution_count": 3,
   "metadata": {},
   "outputs": [],
   "source": [
    "def mychop(expr, max=10**(-15)): \n",
    "    if abs(expr) > max:\n",
    "      return expr \n",
    "    else:\n",
    "      return 0"
   ]
  },
  {
   "cell_type": "code",
   "execution_count": 4,
   "metadata": {},
   "outputs": [],
   "source": [
    "chop_vec = np.vectorize(mychop)"
   ]
  },
  {
   "cell_type": "markdown",
   "metadata": {},
   "source": [
    "## Introducción"
   ]
  },
  {
   "cell_type": "markdown",
   "metadata": {},
   "source": [
    "Hay varias maneras de introducir y trabajar con *objetos* pertenecientes a *clases* concretas que nos permitirán trabajar con ellos de manera parecida a  como si fueran las *matrices* que conocemos del Álgebra Lineal. Pero habrá que tener mucho cuidado, porque no todas esas *clases de objetos* tendrán las mismas *propiedades*, ni se podrán realizar todas las *operaciones* que conocemos, ni tampoco el *resultado* final será el esperado en algunos casos; por lo tanto, más vale realizar un repaso exhaustivo de todas estas posibilidades antes de aventurarnos a trabajar con las supuestas matrices en Python."
   ]
  },
  {
   "cell_type": "code",
   "execution_count": 5,
   "metadata": {},
   "outputs": [],
   "source": [
    "u = [1,2,3,4]; v = [5,6,7,8]   # aquí tenemos simplemente dos listas \n",
    "# de números con el mismo número de elementos cada una "
   ]
  },
  {
   "cell_type": "code",
   "execution_count": 6,
   "metadata": {},
   "outputs": [
    {
     "data": {
      "text/plain": [
       "1"
      ]
     },
     "execution_count": 6,
     "metadata": {},
     "output_type": "execute_result"
    }
   ],
   "source": [
    "u[0] # podemos acceder a cada uno de los elementos de estas listas\n",
    "# con su correspondiente índice (en Python el primero será siempre 0)"
   ]
  },
  {
   "cell_type": "code",
   "execution_count": 7,
   "metadata": {},
   "outputs": [
    {
     "data": {
      "text/plain": [
       "21"
      ]
     },
     "execution_count": 7,
     "metadata": {},
     "output_type": "execute_result"
    }
   ],
   "source": [
    "u[2]*v[2] # por supuesto que también podemos operar con éstos"
   ]
  },
  {
   "cell_type": "code",
   "execution_count": 8,
   "metadata": {},
   "outputs": [
    {
     "data": {
      "text/plain": [
       "[1, 2, 3, 4, 5, 6, 7, 8]"
      ]
     },
     "execution_count": 8,
     "metadata": {},
     "output_type": "execute_result"
    }
   ],
   "source": [
    "u + v # pero fíjese qué ocurre cuando se intentan sumar"
   ]
  },
  {
   "cell_type": "code",
   "execution_count": 9,
   "metadata": {},
   "outputs": [],
   "source": [
    "# u*v # o multiplicar"
   ]
  },
  {
   "cell_type": "markdown",
   "metadata": {},
   "source": [
    "Vemos pues que cualquier operación elemento a elemento, tal y cómo estamos acostumbrados a considerar, no estaría definida por defecto en Python para las listas de elementos, a no ser que las programemos nosotros expresamente, mediante la correspondiente lista por comprensión."
   ]
  },
  {
   "cell_type": "code",
   "execution_count": 10,
   "metadata": {},
   "outputs": [
    {
     "data": {
      "text/plain": [
       "[6, 8, 10, 12]"
      ]
     },
     "execution_count": 10,
     "metadata": {},
     "output_type": "execute_result"
    }
   ],
   "source": [
    "[u[i]+v[i] for i in range(len(v))] #  suma elemento a elemento"
   ]
  },
  {
   "cell_type": "code",
   "execution_count": 11,
   "metadata": {},
   "outputs": [
    {
     "data": {
      "text/plain": [
       "[5, 12, 21, 32]"
      ]
     },
     "execution_count": 11,
     "metadata": {},
     "output_type": "execute_result"
    }
   ],
   "source": [
    "[u[i]*v[i] for i in range(len(v))] #  producto elemento a elemento"
   ]
  },
  {
   "cell_type": "code",
   "execution_count": 12,
   "metadata": {},
   "outputs": [
    {
     "data": {
      "text/plain": [
       "70"
      ]
     },
     "execution_count": 12,
     "metadata": {},
     "output_type": "execute_result"
    }
   ],
   "source": [
    "sum([u[i]*v[i] for i in range(len(v))]) # producto escalar de u y v"
   ]
  },
  {
   "cell_type": "code",
   "execution_count": 13,
   "metadata": {},
   "outputs": [],
   "source": [
    "A = [u,v]  # también podemos definir una lista formada por otras \n",
    "# nuevas sublistas, cada una de ellas con sus propios elementos."
   ]
  },
  {
   "cell_type": "code",
   "execution_count": 14,
   "metadata": {},
   "outputs": [
    {
     "data": {
      "text/plain": [
       "[1, 2, 3, 4]"
      ]
     },
     "execution_count": 14,
     "metadata": {},
     "output_type": "execute_result"
    }
   ],
   "source": [
    "A[0] # podemos acceder pues a cada una de estas sublistas completas"
   ]
  },
  {
   "cell_type": "code",
   "execution_count": 15,
   "metadata": {},
   "outputs": [
    {
     "data": {
      "text/plain": [
       "5"
      ]
     },
     "execution_count": 15,
     "metadata": {},
     "output_type": "execute_result"
    }
   ],
   "source": [
    "A[1][0] # también podremos acceder fácilmente a cada uno de\n",
    "# los elementos de estas sublistas, usando un doble índice"
   ]
  },
  {
   "cell_type": "code",
   "execution_count": 16,
   "metadata": {},
   "outputs": [
    {
     "data": {
      "text/plain": [
       "[[1, 2, 3, 4], [5, 6, 7, 8], [1, 2, 3, 4], [5, 6, 7, 8]]"
      ]
     },
     "execution_count": 16,
     "metadata": {},
     "output_type": "execute_result"
    }
   ],
   "source": [
    "2*A # pero vemos que ocurre algo raro cuando intentamos operar con\n",
    "# los elementos de esta estructura; por ejemplo al intentar \n",
    "# multiplicar por un valor entero lo que obtenemos es otra lista, \n",
    "# con copias de las anteriores."
   ]
  },
  {
   "cell_type": "code",
   "execution_count": 17,
   "metadata": {},
   "outputs": [],
   "source": [
    "# A + 2  # incluso nos da error si intentamos sumarle cualquier número"
   ]
  },
  {
   "cell_type": "code",
   "execution_count": 18,
   "metadata": {},
   "outputs": [
    {
     "data": {
      "text/plain": [
       "[[1, 2, 3, 4], [5, 6, 7, 8], 2]"
      ]
     },
     "execution_count": 18,
     "metadata": {},
     "output_type": "execute_result"
    }
   ],
   "source": [
    "A + [2]  # sin embargo lo admite cuando incluimos ese número entre []\n",
    "# pero lo que realiza es una simple concatenación"
   ]
  },
  {
   "cell_type": "code",
   "execution_count": 19,
   "metadata": {},
   "outputs": [
    {
     "data": {
      "text/plain": [
       "[[1, 2, 3, 4], [5, 6, 7, 8], [9, 10, 11, 12]]"
      ]
     },
     "execution_count": 19,
     "metadata": {},
     "output_type": "execute_result"
    }
   ],
   "source": [
    " A + [[9,10,11,12]] # de esta manera hemos conseguido incluso añadir\n",
    "# otra sublista, con el mismo número de elementos que las anteriores"
   ]
  },
  {
   "cell_type": "code",
   "execution_count": 20,
   "metadata": {},
   "outputs": [
    {
     "data": {
      "text/plain": [
       "[[1, 2, 3, 4], [5, 6, 7, 8], [9, 10, 11]]"
      ]
     },
     "execution_count": 20,
     "metadata": {},
     "output_type": "execute_result"
    }
   ],
   "source": [
    "A + [[9,10,11]] # aunque este último no es un requisito indispensable"
   ]
  },
  {
   "cell_type": "markdown",
   "metadata": {},
   "source": [
    "Llegamos pues a la conclusión de que las listas de sublistas, al contrario de lo que suele ocurrir con otros sistemas CAS como Mathematica o MATLAB por ejemplo, no es lo más adecuado en este caso para trabajar con matrices en Python y que tendremos que usar otras *clases* de *objetos* que sí nos sirvan."
   ]
  },
  {
   "cell_type": "markdown",
   "metadata": {},
   "source": [
    "No obstante, como veremos a lo largo de esta práctica, existen muchas opciones y posibilidades para trabajar eficientemente con matrices y vectores, haciendo uso de las estructuras y *clases de objetos* adecuados, incluidos en alguno de los paquetes por excelencia para el cálculo científico en Python: SymPy (cuando necesitemos trabajar de manera simbólica) y NumPy (cuando nuestros cálculos sean fundamentalmente numéricos)."
   ]
  },
  {
   "cell_type": "markdown",
   "metadata": {},
   "source": [
    "## Álgebra matricial simbólica"
   ]
  },
  {
   "cell_type": "code",
   "execution_count": 21,
   "metadata": {},
   "outputs": [],
   "source": [
    "from sympy import Matrix, symbols, solve, simplify "
   ]
  },
  {
   "cell_type": "code",
   "execution_count": 22,
   "metadata": {},
   "outputs": [],
   "source": [
    "m11, m12, m21, m22 = symbols('m11, m12, m21, m22')\n",
    "b1, b2 = symbols('b1, b2')"
   ]
  },
  {
   "cell_type": "code",
   "execution_count": 23,
   "metadata": {},
   "outputs": [
    {
     "data": {
      "text/plain": [
       "(m11, m12, m21, m22)"
      ]
     },
     "execution_count": 23,
     "metadata": {},
     "output_type": "execute_result"
    }
   ],
   "source": [
    "# También se podrían haber generado de golpe las variables simbólicas\n",
    "# de la matriz de orden 2 con la siguiente orden\n",
    "symbols('m(1:3)(1:3)')"
   ]
  },
  {
   "cell_type": "code",
   "execution_count": 24,
   "metadata": {},
   "outputs": [],
   "source": [
    "A = Matrix([[m11,m12],[m21,m22]])"
   ]
  },
  {
   "cell_type": "code",
   "execution_count": 25,
   "metadata": {},
   "outputs": [],
   "source": [
    "b = Matrix([[b1],[b2]])"
   ]
  },
  {
   "cell_type": "code",
   "execution_count": 26,
   "metadata": {},
   "outputs": [
    {
     "data": {
      "text/latex": [
       "$\\displaystyle \\left[\\begin{matrix}m_{11} & m_{12}\\\\m_{21} & m_{22}\\end{matrix}\\right]$"
      ],
      "text/plain": [
       "Matrix([\n",
       "[m11, m12],\n",
       "[m21, m22]])"
      ]
     },
     "execution_count": 26,
     "metadata": {},
     "output_type": "execute_result"
    }
   ],
   "source": [
    "A"
   ]
  },
  {
   "cell_type": "code",
   "execution_count": 27,
   "metadata": {},
   "outputs": [
    {
     "data": {
      "text/latex": [
       "$\\displaystyle \\left[\\begin{matrix}b_{1}\\\\b_{2}\\end{matrix}\\right]$"
      ],
      "text/plain": [
       "Matrix([\n",
       "[b1],\n",
       "[b2]])"
      ]
     },
     "execution_count": 27,
     "metadata": {},
     "output_type": "execute_result"
    }
   ],
   "source": [
    "b"
   ]
  },
  {
   "cell_type": "code",
   "execution_count": 28,
   "metadata": {},
   "outputs": [
    {
     "data": {
      "text/plain": [
       "(sympy.matrices.dense.MutableDenseMatrix,\n",
       " sympy.matrices.dense.MutableDenseMatrix)"
      ]
     },
     "execution_count": 28,
     "metadata": {},
     "output_type": "execute_result"
    }
   ],
   "source": [
    "type(A),type(b)  # comprobemos el tipo de estos nuevos objetos"
   ]
  },
  {
   "cell_type": "code",
   "execution_count": 29,
   "metadata": {},
   "outputs": [
    {
     "data": {
      "text/latex": [
       "$\\displaystyle \\left[\\begin{matrix}b_{1} m_{11} + b_{2} m_{12}\\\\b_{1} m_{21} + b_{2} m_{22}\\end{matrix}\\right]$"
      ],
      "text/plain": [
       "Matrix([\n",
       "[b1*m11 + b2*m12],\n",
       "[b1*m21 + b2*m22]])"
      ]
     },
     "execution_count": 29,
     "metadata": {},
     "output_type": "execute_result"
    }
   ],
   "source": [
    "A*b # Vemos que ahora con las instancias de este tipo de objetos\n",
    "# sí que podemos realizar las operaciones matriciales habituales\n",
    "# y además de manera simbólica en este caso."
   ]
  },
  {
   "cell_type": "code",
   "execution_count": 30,
   "metadata": {},
   "outputs": [
    {
     "data": {
      "text/latex": [
       "$\\displaystyle \\left[\\begin{matrix}m_{11}^{2} + m_{12} m_{21} & m_{11} m_{12} + m_{12} m_{22}\\\\m_{11} m_{21} + m_{21} m_{22} & m_{12} m_{21} + m_{22}^{2}\\end{matrix}\\right]$"
      ],
      "text/plain": [
       "Matrix([\n",
       "[ m11**2 + m12*m21, m11*m12 + m12*m22],\n",
       "[m11*m21 + m21*m22,  m12*m21 + m22**2]])"
      ]
     },
     "execution_count": 30,
     "metadata": {},
     "output_type": "execute_result"
    }
   ],
   "source": [
    "A**2 # aquí hemos obtenido el cuadrado de la matriz A"
   ]
  },
  {
   "cell_type": "code",
   "execution_count": 31,
   "metadata": {},
   "outputs": [
    {
     "data": {
      "text/latex": [
       "$\\displaystyle m_{11} m_{22} - m_{12} m_{21}$"
      ],
      "text/plain": [
       "m11*m22 - m12*m21"
      ]
     },
     "execution_count": 31,
     "metadata": {},
     "output_type": "execute_result"
    }
   ],
   "source": [
    "A.det() # este sería el determinante de la matriz cuadrada 2x2"
   ]
  },
  {
   "cell_type": "code",
   "execution_count": 32,
   "metadata": {},
   "outputs": [],
   "source": [
    "Ainv = A.inv() # incluso la inversa de ciertas matrices también podemos \n",
    "# obtenerlo de manera simbólica (haría falta que no sea singular)."
   ]
  },
  {
   "cell_type": "code",
   "execution_count": 33,
   "metadata": {},
   "outputs": [
    {
     "data": {
      "text/latex": [
       "$\\displaystyle \\left[\\begin{matrix}\\frac{b_{1} m_{22} - b_{2} m_{12}}{m_{11} m_{22} - m_{12} m_{21}}\\\\\\frac{- b_{1} m_{21} + b_{2} m_{11}}{m_{11} m_{22} - m_{12} m_{21}}\\end{matrix}\\right]$"
      ],
      "text/plain": [
       "Matrix([\n",
       "[ (b1*m22 - b2*m12)/(m11*m22 - m12*m21)],\n",
       "[(-b1*m21 + b2*m11)/(m11*m22 - m12*m21)]])"
      ]
     },
     "execution_count": 33,
     "metadata": {},
     "output_type": "execute_result"
    }
   ],
   "source": [
    "simplify(Ainv*b)   # He aquí pues la solución del correspondiente \n",
    "# sistema lineal Ax = b, despejando x = A^(-1)b"
   ]
  },
  {
   "cell_type": "markdown",
   "metadata": {},
   "source": [
    "Hagamos ahora el intento de resolver simbólicamente cualquier sistema lineal compatible determinado de orden dos mediante la orden de resolución simbólica de ecuaciones `solve`; para ello usaremos la matriz y el vector de términos independientes ya definidos previamente y definamos también un vector de incógnitas también simbólico para poder construir el sistema final de dos ecuaciones (igualado a cero), indicando así mismo las dos incógnitas del mismo, dentro de la orden de resolución simbólica de ecuaciones `solve` (que ya hemos precargado previamente dentro del módulo SymPy)."
   ]
  },
  {
   "cell_type": "code",
   "execution_count": 34,
   "metadata": {},
   "outputs": [
    {
     "name": "stdout",
     "output_type": "stream",
     "text": [
      "Object `solve   # de esta manera podemos obtener información sobre la orden` not found.\n"
     ]
    }
   ],
   "source": [
    "?solve   # de esta manera podemos obtener información sobre la orden"
   ]
  },
  {
   "cell_type": "code",
   "execution_count": 35,
   "metadata": {},
   "outputs": [],
   "source": [
    "x1, x2 = symbols('x1, x2')"
   ]
  },
  {
   "cell_type": "code",
   "execution_count": 36,
   "metadata": {},
   "outputs": [],
   "source": [
    "# Si definimos ahora una matriz simbólica\n",
    "x = Matrix([[x1], [x2]])  # de esta forma\n",
    "# nótese que se convierte en un vector columna"
   ]
  },
  {
   "cell_type": "code",
   "execution_count": 37,
   "metadata": {},
   "outputs": [
    {
     "data": {
      "text/latex": [
       "$\\displaystyle \\left[\\begin{matrix}m_{11} x_{1} + m_{12} x_{2}\\\\m_{21} x_{1} + m_{22} x_{2}\\end{matrix}\\right]$"
      ],
      "text/plain": [
       "Matrix([\n",
       "[m11*x1 + m12*x2],\n",
       "[m21*x1 + m22*x2]])"
      ]
     },
     "execution_count": 37,
     "metadata": {},
     "output_type": "execute_result"
    }
   ],
   "source": [
    "A*x"
   ]
  },
  {
   "cell_type": "code",
   "execution_count": 38,
   "metadata": {},
   "outputs": [
    {
     "data": {
      "text/latex": [
       "$\\displaystyle \\left[\\begin{matrix}- b_{1} + m_{11} x_{1} + m_{12} x_{2}\\\\- b_{2} + m_{21} x_{1} + m_{22} x_{2}\\end{matrix}\\right]$"
      ],
      "text/plain": [
       "Matrix([\n",
       "[-b1 + m11*x1 + m12*x2],\n",
       "[-b2 + m21*x1 + m22*x2]])"
      ]
     },
     "execution_count": 38,
     "metadata": {},
     "output_type": "execute_result"
    }
   ],
   "source": [
    "A*x-b"
   ]
  },
  {
   "cell_type": "code",
   "execution_count": 39,
   "metadata": {},
   "outputs": [
    {
     "data": {
      "text/plain": [
       "{x1: (b1*m22 - b2*m12)/(m11*m22 - m12*m21),\n",
       " x2: (-b1*m21 + b2*m11)/(m11*m22 - m12*m21)}"
      ]
     },
     "execution_count": 39,
     "metadata": {},
     "output_type": "execute_result"
    }
   ],
   "source": [
    "# Así es como podremos resolver el correspondiente sistema lineal,\n",
    "solve(A*x-b,[x1,x2])   #  con incógnitas x1, x2"
   ]
  },
  {
   "cell_type": "markdown",
   "metadata": {},
   "source": [
    "Vemos claramente la solución genérica (simbólica) de un sistema 2x2 que para que sea compatible y determinado bastará con que su determinante (que justo es el valor que aparece en el denominador de las soluciones) sea distinto de cero."
   ]
  },
  {
   "cell_type": "code",
   "execution_count": 40,
   "metadata": {},
   "outputs": [
    {
     "data": {
      "text/latex": [
       "$\\displaystyle \\left[\\begin{matrix}\\frac{b_{1} - \\frac{m_{12} \\left(- \\frac{b_{1} m_{21}}{m_{11}} + b_{2}\\right)}{m_{22} - \\frac{m_{12} m_{21}}{m_{11}}}}{m_{11}}\\\\\\frac{- \\frac{b_{1} m_{21}}{m_{11}} + b_{2}}{m_{22} - \\frac{m_{12} m_{21}}{m_{11}}}\\end{matrix}\\right]$"
      ],
      "text/plain": [
       "Matrix([\n",
       "[(b1 - m12*(-b1*m21/m11 + b2)/(m22 - m12*m21/m11))/m11],\n",
       "[               (-b1*m21/m11 + b2)/(m22 - m12*m21/m11)]])"
      ]
     },
     "execution_count": 40,
     "metadata": {},
     "output_type": "execute_result"
    }
   ],
   "source": [
    "A.LUsolve(b)   # Esta es otra posibilidad usando LUsolve"
   ]
  },
  {
   "cell_type": "code",
   "execution_count": 41,
   "metadata": {},
   "outputs": [
    {
     "data": {
      "text/latex": [
       "$\\displaystyle \\left[\\begin{matrix}\\frac{b_{1} m_{22} - b_{2} m_{12}}{m_{11} m_{22} - m_{12} m_{21}}\\\\\\frac{- b_{1} m_{21} + b_{2} m_{11}}{m_{11} m_{22} - m_{12} m_{21}}\\end{matrix}\\right]$"
      ],
      "text/plain": [
       "Matrix([\n",
       "[ (b1*m22 - b2*m12)/(m11*m22 - m12*m21)],\n",
       "[(-b1*m21 + b2*m11)/(m11*m22 - m12*m21)]])"
      ]
     },
     "execution_count": 41,
     "metadata": {},
     "output_type": "execute_result"
    }
   ],
   "source": [
    "simplify(_)"
   ]
  },
  {
   "cell_type": "markdown",
   "metadata": {},
   "source": [
    "**Ejercicio:** Intente repetir el mismo proceso para obtener de manera simbólica las soluciones genéricas de un sistema compatible y determinado 3x3.\n",
    "\n",
    "**Ayuda:** Con el objeto de mecanizar el proceso de creación de la matriz simbólica, se puede usar la siguiente orden que permite generar de golpe todos los símbolos necesarios\n",
    "\n",
    "    M = Matrix(3, 3, symbols('m(1:4)(1:4)'))"
   ]
  },
  {
   "cell_type": "code",
   "execution_count": 42,
   "metadata": {},
   "outputs": [
    {
     "data": {
      "text/latex": [
       "$\\displaystyle \\left[\\begin{matrix}m_{11} & m_{12} & m_{13}\\\\m_{21} & m_{22} & m_{23}\\\\m_{31} & m_{32} & m_{33}\\end{matrix}\\right]$"
      ],
      "text/plain": [
       "Matrix([\n",
       "[m11, m12, m13],\n",
       "[m21, m22, m23],\n",
       "[m31, m32, m33]])"
      ]
     },
     "execution_count": 42,
     "metadata": {},
     "output_type": "execute_result"
    }
   ],
   "source": [
    "M = Matrix(3, 3, symbols('m(1:4)(1:4)'))\n",
    "M"
   ]
  },
  {
   "cell_type": "markdown",
   "metadata": {},
   "source": [
    "También es posible generar de manera sistemática matrices de cualquier orden, siempre que tengamos la ley o función generadora, dependiendo de la fila y columna que ocupe cada elemento de la misma.\n",
    "\n",
    "Veámos como ejemplo la generación de una matriz de Toeplitz, con diagonales constantes, por ejemplo a partir de un vector de $2n-1$ datos $a_k, \\; k = 1,\\ldots, 2n-1$, a partir de la siguiente fórmula generadora:\n",
    "\n",
    "$$T_{i,j} = a_{i-j+(n-1)},\\; i,j = 0,\\ldots, n-1 $$"
   ]
  },
  {
   "cell_type": "code",
   "execution_count": 43,
   "metadata": {},
   "outputs": [],
   "source": [
    "def toeplitz(n):   # definimos una función dependiendo de 'n'\n",
    "    a = symbols('a:'+str(2*n)) # generamos los símbolos necesarios\n",
    "    f = lambda i,j: a[i-j+n-1] # función generadora (anónima)\n",
    "    return Matrix(n,n,f)       # devuelve la matriz final"
   ]
  },
  {
   "cell_type": "code",
   "execution_count": 44,
   "metadata": {},
   "outputs": [],
   "source": [
    "M = toeplitz(5) # aquí hacemos una llamada concreta a la anterior función"
   ]
  },
  {
   "cell_type": "code",
   "execution_count": 45,
   "metadata": {},
   "outputs": [
    {
     "data": {
      "text/latex": [
       "$\\displaystyle \\left[\\begin{matrix}a_{4} & a_{3} & a_{2} & a_{1} & a_{0}\\\\a_{5} & a_{4} & a_{3} & a_{2} & a_{1}\\\\a_{6} & a_{5} & a_{4} & a_{3} & a_{2}\\\\a_{7} & a_{6} & a_{5} & a_{4} & a_{3}\\\\a_{8} & a_{7} & a_{6} & a_{5} & a_{4}\\end{matrix}\\right]$"
      ],
      "text/plain": [
       "Matrix([\n",
       "[a4, a3, a2, a1, a0],\n",
       "[a5, a4, a3, a2, a1],\n",
       "[a6, a5, a4, a3, a2],\n",
       "[a7, a6, a5, a4, a3],\n",
       "[a8, a7, a6, a5, a4]])"
      ]
     },
     "execution_count": 45,
     "metadata": {},
     "output_type": "execute_result"
    }
   ],
   "source": [
    "M"
   ]
  },
  {
   "cell_type": "code",
   "execution_count": 46,
   "metadata": {},
   "outputs": [
    {
     "data": {
      "text/latex": [
       "$\\displaystyle \\left[\\begin{matrix}a_{4} & a_{3} & 0 & a_{1} & a_{0}\\\\a_{5} & a_{4} & a_{3} & 0 & a_{1}\\\\a_{6} & a_{5} & a_{4} & a_{3} & 0\\\\1 & a_{6} & a_{5} & a_{4} & a_{3}\\\\a_{8} & 1 & a_{6} & a_{5} & a_{4}\\end{matrix}\\right]$"
      ],
      "text/plain": [
       "Matrix([\n",
       "[a4, a3,  0, a1, a0],\n",
       "[a5, a4, a3,  0, a1],\n",
       "[a6, a5, a4, a3,  0],\n",
       "[ 1, a6, a5, a4, a3],\n",
       "[a8,  1, a6, a5, a4]])"
      ]
     },
     "execution_count": 46,
     "metadata": {},
     "output_type": "execute_result"
    }
   ],
   "source": [
    "a2, a7 = symbols('a2, a7')  # los usaremos de nuevo como símbolos\n",
    "M.subs(a2,0).subs(a7,1) # ahora podemos sustituirlos por algún valor \n",
    "# numérico por ejemplo."
   ]
  },
  {
   "cell_type": "code",
   "execution_count": 47,
   "metadata": {},
   "outputs": [
    {
     "data": {
      "text/latex": [
       "$\\displaystyle \\left[\\begin{matrix}a_{4} & a_{3} & 0 & a_{1} & a_{0}\\\\a_{5} & a_{4} & a_{3} & 0 & a_{1}\\\\a_{6} & a_{5} & a_{4} & a_{3} & 0\\\\1 & a_{6} & a_{5} & a_{4} & a_{3}\\\\a_{8} & 1 & a_{6} & a_{5} & a_{4}\\end{matrix}\\right]$"
      ],
      "text/plain": [
       "Matrix([\n",
       "[a4, a3,  0, a1, a0],\n",
       "[a5, a4, a3,  0, a1],\n",
       "[a6, a5, a4, a3,  0],\n",
       "[ 1, a6, a5, a4, a3],\n",
       "[a8,  1, a6, a5, a4]])"
      ]
     },
     "execution_count": 47,
     "metadata": {},
     "output_type": "execute_result"
    }
   ],
   "source": [
    "M.subs({a2:0, a7:1})  # esta sería otra manera de hacerlo"
   ]
  },
  {
   "cell_type": "markdown",
   "metadata": {},
   "source": [
    "## Álgebra matricial numérica"
   ]
  },
  {
   "cell_type": "markdown",
   "metadata": {},
   "source": [
    "No cabe la menor duda pues de que las operaciones vectoriales y/o matriciales son indispensables en la computación científica. Por ello algunos módulos de Python utilizan diferentes estructuras y clases de objetos que implementan todas las operaciones habituales relacionadas. Entre estos módulos por excelencia que se basan en este tipo de estructuras vectoriales (también denominados arrays) cabe destacar sin duda `NumPy`."
   ]
  },
  {
   "cell_type": "markdown",
   "metadata": {},
   "source": [
    "A diferencia de las variables genéricas en Python, que son de tipado dinámico y pueden llegar a almacenar sucesivamente todo tipo de datos uno tras otro, las variables y arrays definidos en NumPy van a ser de tipo estático y homogéneo (determinado desde su inicio o definición) y las operaciones posibles entre ellas estarán también predeterminadas de antemano, según el tipo de los operandos. Esto, aunque parezca que le quita cierta flexibilidad a las posibilidades de Python, hace que muchas operaciones de cómputo intensivo, tan necesarias en cálculo científico, se puedan realizar con una rapidez y eficiencia casi comparable al de los lenguajes compilados (como Fortran, C, C++ y otros), aún manteniendo la característica de lenguaje interpretado que tantas ventajas tiene de cara a interactividad y facilidad de programación."
   ]
  },
  {
   "cell_type": "code",
   "execution_count": 48,
   "metadata": {},
   "outputs": [],
   "source": [
    "import numpy as np  # para ello lo primero que debemos hacer (si no) \n",
    "# lo hubiéramos hecho ya antes, es importar dicho módulo"
   ]
  },
  {
   "cell_type": "code",
   "execution_count": 49,
   "metadata": {},
   "outputs": [],
   "source": [
    "# help(np.ndarray)  # para obtener la máxima información sobre la clase\n",
    "# de objetos ndarray que vamos a emplear."
   ]
  },
  {
   "cell_type": "code",
   "execution_count": 50,
   "metadata": {},
   "outputs": [],
   "source": [
    "datos = np.array([[1,2],[3,4],[5,6]])  # he aquí un primer ejemplo"
   ]
  },
  {
   "cell_type": "code",
   "execution_count": 51,
   "metadata": {},
   "outputs": [
    {
     "data": {
      "text/plain": [
       "numpy.ndarray"
      ]
     },
     "execution_count": 51,
     "metadata": {},
     "output_type": "execute_result"
    }
   ],
   "source": [
    "type(datos)   # comprobemos ahora el tipo de dato de que se trata"
   ]
  },
  {
   "cell_type": "code",
   "execution_count": 52,
   "metadata": {},
   "outputs": [
    {
     "data": {
      "text/plain": [
       "array([[1, 2],\n",
       "       [3, 4],\n",
       "       [5, 6]])"
      ]
     },
     "execution_count": 52,
     "metadata": {},
     "output_type": "execute_result"
    }
   ],
   "source": [
    "datos"
   ]
  },
  {
   "cell_type": "markdown",
   "metadata": {},
   "source": [
    "Ahora, para extraer alguno de los elementos de estos *arrays* debemos indicar los índices de la correspondiente fila y columna mediante corchetes; mientras que si sólo indicamos un índice, éste corresponderá a toda una fila. Veámoslo:"
   ]
  },
  {
   "cell_type": "code",
   "execution_count": 53,
   "metadata": {},
   "outputs": [
    {
     "data": {
      "text/plain": [
       "(array([1, 2]), 1)"
      ]
     },
     "execution_count": 53,
     "metadata": {},
     "output_type": "execute_result"
    }
   ],
   "source": [
    "datos[0], datos[0,0]"
   ]
  },
  {
   "cell_type": "code",
   "execution_count": 54,
   "metadata": {},
   "outputs": [
    {
     "data": {
      "text/plain": [
       "array([3, 4])"
      ]
     },
     "execution_count": 54,
     "metadata": {},
     "output_type": "execute_result"
    }
   ],
   "source": [
    "datos[1]"
   ]
  },
  {
   "cell_type": "code",
   "execution_count": 55,
   "metadata": {},
   "outputs": [
    {
     "data": {
      "text/plain": [
       "2"
      ]
     },
     "execution_count": 55,
     "metadata": {},
     "output_type": "execute_result"
    }
   ],
   "source": [
    "datos.ndim   # para obtener el número de dimensiones del array"
   ]
  },
  {
   "cell_type": "code",
   "execution_count": 56,
   "metadata": {},
   "outputs": [
    {
     "data": {
      "text/plain": [
       "((3, 2), 6)"
      ]
     },
     "execution_count": 56,
     "metadata": {},
     "output_type": "execute_result"
    }
   ],
   "source": [
    "datos.shape, datos.size # para obtener sus 'forma' y 'tamaño'"
   ]
  },
  {
   "cell_type": "markdown",
   "metadata": {},
   "source": [
    "Vemos que la salida de la sentencia 'shape' es una tupla, donde el primer elemento es el número de filas y el segundo el de columnas y así sucesivamente. Así pues, también podremos extraer cada uno de estos valores empleando corchetes, como sigue:"
   ]
  },
  {
   "cell_type": "code",
   "execution_count": 57,
   "metadata": {},
   "outputs": [
    {
     "data": {
      "text/plain": [
       "(3, 2)"
      ]
     },
     "execution_count": 57,
     "metadata": {},
     "output_type": "execute_result"
    }
   ],
   "source": [
    "datos.shape[0],datos.shape[1]"
   ]
  },
  {
   "cell_type": "code",
   "execution_count": 58,
   "metadata": {},
   "outputs": [
    {
     "data": {
      "text/plain": [
       "(dtype('int32'), 24)"
      ]
     },
     "execution_count": 58,
     "metadata": {},
     "output_type": "execute_result"
    }
   ],
   "source": [
    "datos.dtype, datos.nbytes # estas órdenes nos proporcionan tanto el \n",
    "# tipo de datos que contiene el array, así como el total de bytes"
   ]
  },
  {
   "cell_type": "code",
   "execution_count": 59,
   "metadata": {},
   "outputs": [],
   "source": [
    "datos[0,0] = 10  # así cambiaríamos el valor de un elemento concreto"
   ]
  },
  {
   "cell_type": "code",
   "execution_count": 60,
   "metadata": {},
   "outputs": [],
   "source": [
    "datos[1] = [30,40] # y así una fila completa"
   ]
  },
  {
   "cell_type": "code",
   "execution_count": 61,
   "metadata": {},
   "outputs": [
    {
     "data": {
      "text/plain": [
       "array([[10,  2],\n",
       "       [30, 40],\n",
       "       [ 5,  6]])"
      ]
     },
     "execution_count": 61,
     "metadata": {},
     "output_type": "execute_result"
    }
   ],
   "source": [
    "datos # aquí vemos como ha quedado el array después de los cambios"
   ]
  },
  {
   "cell_type": "code",
   "execution_count": 62,
   "metadata": {},
   "outputs": [],
   "source": [
    "datos[2,0] = 15.4 # veámos qué pasa ahora al intentar darle un valor\n",
    "# con decimales a una de las posiciones del array"
   ]
  },
  {
   "cell_type": "code",
   "execution_count": 63,
   "metadata": {},
   "outputs": [
    {
     "data": {
      "text/plain": [
       "array([[10,  2],\n",
       "       [30, 40],\n",
       "       [15,  6]])"
      ]
     },
     "execution_count": 63,
     "metadata": {},
     "output_type": "execute_result"
    }
   ],
   "source": [
    "datos  # vemos que se ha convertido automáticamente a tipo entero\n",
    "# al ser el tipo de datos fijo del array desde su creación"
   ]
  },
  {
   "cell_type": "code",
   "execution_count": 64,
   "metadata": {},
   "outputs": [],
   "source": [
    "datosbis = np.array([[1.,2],[3,4],[5,6]]) # véamos qué pasa ahora al \n",
    "# haber introducido un valor con el punto decimal en una posición"
   ]
  },
  {
   "cell_type": "code",
   "execution_count": 65,
   "metadata": {},
   "outputs": [
    {
     "data": {
      "text/plain": [
       "array([[1., 2.],\n",
       "       [3., 4.],\n",
       "       [5., 6.]])"
      ]
     },
     "execution_count": 65,
     "metadata": {},
     "output_type": "execute_result"
    }
   ],
   "source": [
    "datosbis # resulta que todos los datos se han reconvertido, ya que\n",
    "# todos los datos de cualquier array deben ser del mismo tipo"
   ]
  },
  {
   "cell_type": "code",
   "execution_count": 66,
   "metadata": {},
   "outputs": [
    {
     "data": {
      "text/plain": [
       "(dtype('float64'), 48)"
      ]
     },
     "execution_count": 66,
     "metadata": {},
     "output_type": "execute_result"
    }
   ],
   "source": [
    "datosbis.dtype, datosbis.nbytes # vemos que aunque ahora el tipo de \n",
    "# dato ha cambiado a float, se emplean el mismo número de bytes "
   ]
  },
  {
   "cell_type": "code",
   "execution_count": 67,
   "metadata": {},
   "outputs": [
    {
     "data": {
      "text/plain": [
       "((3, 2), 6)"
      ]
     },
     "execution_count": 67,
     "metadata": {},
     "output_type": "execute_result"
    }
   ],
   "source": [
    "datosbis.shape, datosbis.size  # coincide con el ejemplo anterior"
   ]
  },
  {
   "cell_type": "markdown",
   "metadata": {},
   "source": [
    "No obstante, como veremos, también se puede especificar el tipo concreto de dato que queremos que se considere cuando se va a definir un array de NumPy. Veánse los ejemplos siguientes:"
   ]
  },
  {
   "cell_type": "code",
   "execution_count": 68,
   "metadata": {},
   "outputs": [
    {
     "data": {
      "text/plain": [
       "array([1, 1, 1], dtype=int16)"
      ]
     },
     "execution_count": 68,
     "metadata": {},
     "output_type": "execute_result"
    }
   ],
   "source": [
    "np.array([1,1,1], dtype = np.int16)"
   ]
  },
  {
   "cell_type": "code",
   "execution_count": 69,
   "metadata": {},
   "outputs": [
    {
     "data": {
      "text/plain": [
       "6"
      ]
     },
     "execution_count": 69,
     "metadata": {},
     "output_type": "execute_result"
    }
   ],
   "source": [
    "_.nbytes"
   ]
  },
  {
   "cell_type": "code",
   "execution_count": 70,
   "metadata": {},
   "outputs": [
    {
     "data": {
      "text/plain": [
       "array([1., 1., 1.], dtype=float16)"
      ]
     },
     "execution_count": 70,
     "metadata": {},
     "output_type": "execute_result"
    }
   ],
   "source": [
    "np.array([1,1,1], dtype = np.float16)"
   ]
  },
  {
   "cell_type": "code",
   "execution_count": 71,
   "metadata": {},
   "outputs": [
    {
     "data": {
      "text/plain": [
       "6"
      ]
     },
     "execution_count": 71,
     "metadata": {},
     "output_type": "execute_result"
    }
   ],
   "source": [
    "_.nbytes"
   ]
  },
  {
   "cell_type": "code",
   "execution_count": 72,
   "metadata": {},
   "outputs": [
    {
     "data": {
      "text/plain": [
       "array([1., 1., 1.])"
      ]
     },
     "execution_count": 72,
     "metadata": {},
     "output_type": "execute_result"
    }
   ],
   "source": [
    "np.array([1,1,1], dtype = np.float64)"
   ]
  },
  {
   "cell_type": "code",
   "execution_count": 73,
   "metadata": {},
   "outputs": [
    {
     "data": {
      "text/plain": [
       "24"
      ]
     },
     "execution_count": 73,
     "metadata": {},
     "output_type": "execute_result"
    }
   ],
   "source": [
    "_.nbytes"
   ]
  },
  {
   "cell_type": "code",
   "execution_count": 74,
   "metadata": {},
   "outputs": [
    {
     "data": {
      "text/plain": [
       "array([1.+0.j, 1.+0.j, 1.+0.j])"
      ]
     },
     "execution_count": 74,
     "metadata": {},
     "output_type": "execute_result"
    }
   ],
   "source": [
    "np.array([1,1,1], dtype = complex)"
   ]
  },
  {
   "cell_type": "code",
   "execution_count": 75,
   "metadata": {},
   "outputs": [
    {
     "data": {
      "text/plain": [
       "48"
      ]
     },
     "execution_count": 75,
     "metadata": {},
     "output_type": "execute_result"
    }
   ],
   "source": [
    "_.nbytes"
   ]
  },
  {
   "cell_type": "code",
   "execution_count": 76,
   "metadata": {},
   "outputs": [
    {
     "data": {
      "text/plain": [
       "array([[1, 2],\n",
       "       [3, 4],\n",
       "       [5, 6]])"
      ]
     },
     "execution_count": 76,
     "metadata": {},
     "output_type": "execute_result"
    }
   ],
   "source": [
    "datosbis.astype(int)  # aunque también es posible cambiar el tipo\n",
    "# de datos de todo el array completo mediante este procedimiento"
   ]
  },
  {
   "cell_type": "code",
   "execution_count": 77,
   "metadata": {},
   "outputs": [
    {
     "data": {
      "text/plain": [
       "array([[10.+0.j,  2.+0.j],\n",
       "       [30.+0.j, 40.+0.j],\n",
       "       [15.+0.j,  6.+0.j]])"
      ]
     },
     "execution_count": 77,
     "metadata": {},
     "output_type": "execute_result"
    }
   ],
   "source": [
    "datos.astype(complex)"
   ]
  },
  {
   "cell_type": "code",
   "execution_count": 78,
   "metadata": {},
   "outputs": [
    {
     "data": {
      "text/plain": [
       "array([[11.,  4.],\n",
       "       [33., 44.],\n",
       "       [20., 12.]])"
      ]
     },
     "execution_count": 78,
     "metadata": {},
     "output_type": "execute_result"
    }
   ],
   "source": [
    "datos + datosbis # Nótese que ahora sí que podemos operar con arrays\n",
    "# que posean la misma estructura (número de filas y columnas)"
   ]
  },
  {
   "cell_type": "code",
   "execution_count": 79,
   "metadata": {},
   "outputs": [],
   "source": [
    "v1 = np.array([1,2,3], dtype = float)\n",
    "v2 = np.array([4,5,6]) # podemos generar arrays de distintos tipos"
   ]
  },
  {
   "cell_type": "code",
   "execution_count": 80,
   "metadata": {},
   "outputs": [
    {
     "data": {
      "text/plain": [
       "array([ 5., 10., 15.])"
      ]
     },
     "execution_count": 80,
     "metadata": {},
     "output_type": "execute_result"
    }
   ],
   "source": [
    "5*v1  # y ya sí que podemos multiplicar todos sus elementos por un escalar"
   ]
  },
  {
   "cell_type": "code",
   "execution_count": 81,
   "metadata": {},
   "outputs": [
    {
     "data": {
      "text/plain": [
       "array([5., 7., 9.])"
      ]
     },
     "execution_count": 81,
     "metadata": {},
     "output_type": "execute_result"
    }
   ],
   "source": [
    "v1 + v2 # y operar con ellos como si fueran vectores o matrices\n",
    "# siempre y cuando tengan la misma estructura (filas y columnas)"
   ]
  },
  {
   "cell_type": "code",
   "execution_count": 82,
   "metadata": {},
   "outputs": [
    {
     "data": {
      "text/plain": [
       "dtype('float64')"
      ]
     },
     "execution_count": 82,
     "metadata": {},
     "output_type": "execute_result"
    }
   ],
   "source": [
    "_.dtype  # El resultado se ha convertido en un array de tipo float64"
   ]
  },
  {
   "cell_type": "code",
   "execution_count": 83,
   "metadata": {},
   "outputs": [
    {
     "data": {
      "text/plain": [
       "dtype('int32')"
      ]
     },
     "execution_count": 83,
     "metadata": {},
     "output_type": "execute_result"
    }
   ],
   "source": [
    "v2.dtype # aunque v2 fuera un array de números enteros"
   ]
  },
  {
   "cell_type": "code",
   "execution_count": 84,
   "metadata": {},
   "outputs": [
    {
     "data": {
      "text/plain": [
       "array([2.        , 2.23606798, 2.44948974])"
      ]
     },
     "execution_count": 84,
     "metadata": {},
     "output_type": "execute_result"
    }
   ],
   "source": [
    "np.sqrt(v2) # ahora podemos aplicar también a todos los elementos \n",
    "# del array al mismo tiempo cualquier función de NumPy "
   ]
  },
  {
   "cell_type": "code",
   "execution_count": 85,
   "metadata": {},
   "outputs": [
    {
     "data": {
      "text/plain": [
       "array([16, 25, 36], dtype=int32)"
      ]
     },
     "execution_count": 85,
     "metadata": {},
     "output_type": "execute_result"
    }
   ],
   "source": [
    "v2**2  # elevar todos sus componentes al cuadrado, u otra potencia"
   ]
  },
  {
   "cell_type": "code",
   "execution_count": 86,
   "metadata": {},
   "outputs": [
    {
     "data": {
      "text/plain": [
       "array([1.38629436, 1.60943791, 1.79175947])"
      ]
     },
     "execution_count": 86,
     "metadata": {},
     "output_type": "execute_result"
    }
   ],
   "source": [
    "np.log(v2)  # o aplicarles cualquier función de NumPy, ya vectorizadas"
   ]
  },
  {
   "cell_type": "code",
   "execution_count": 87,
   "metadata": {},
   "outputs": [
    {
     "data": {
      "text/plain": [
       "array([0.84147098, 0.90929743, 0.14112001])"
      ]
     },
     "execution_count": 87,
     "metadata": {},
     "output_type": "execute_result"
    }
   ],
   "source": [
    "np.sin(v1)  # para poder actuar en todas las componentes a la vez  "
   ]
  },
  {
   "cell_type": "markdown",
   "metadata": {},
   "source": [
    "### Generando y modificando arrays y matrices especiales"
   ]
  },
  {
   "cell_type": "code",
   "execution_count": 88,
   "metadata": {},
   "outputs": [
    {
     "data": {
      "text/plain": [
       "array([[1., 0., 0.],\n",
       "       [0., 1., 0.],\n",
       "       [0., 0., 1.]])"
      ]
     },
     "execution_count": 88,
     "metadata": {},
     "output_type": "execute_result"
    }
   ],
   "source": [
    "np.identity(3) # para generar la matriz identidad de orden n"
   ]
  },
  {
   "cell_type": "code",
   "execution_count": 89,
   "metadata": {},
   "outputs": [
    {
     "data": {
      "text/plain": [
       "array([[1., 0., 0.],\n",
       "       [0., 1., 0.],\n",
       "       [0., 0., 1.]])"
      ]
     },
     "execution_count": 89,
     "metadata": {},
     "output_type": "execute_result"
    }
   ],
   "source": [
    "np.eye(3)   # esta sería otra manera de obtenerla"
   ]
  },
  {
   "cell_type": "code",
   "execution_count": 90,
   "metadata": {},
   "outputs": [
    {
     "data": {
      "text/plain": [
       "array([[0., 0., 0.],\n",
       "       [0., 0., 0.]])"
      ]
     },
     "execution_count": 90,
     "metadata": {},
     "output_type": "execute_result"
    }
   ],
   "source": [
    "np.zeros([2,3])"
   ]
  },
  {
   "cell_type": "code",
   "execution_count": 91,
   "metadata": {},
   "outputs": [
    {
     "data": {
      "text/plain": [
       "array([[1., 1., 1.],\n",
       "       [1., 1., 1.]])"
      ]
     },
     "execution_count": 91,
     "metadata": {},
     "output_type": "execute_result"
    }
   ],
   "source": [
    "np.ones([2,3])  # generación de un array 2x3 formado sólo con 1's"
   ]
  },
  {
   "cell_type": "code",
   "execution_count": 92,
   "metadata": {},
   "outputs": [
    {
     "data": {
      "text/plain": [
       "array([[1., 1., 1.],\n",
       "       [1., 1., 1.]])"
      ]
     },
     "execution_count": 92,
     "metadata": {},
     "output_type": "execute_result"
    }
   ],
   "source": [
    "np.ones(6).reshape(2,3) # una forma equivalente de obtenerlo"
   ]
  },
  {
   "cell_type": "code",
   "execution_count": 93,
   "metadata": {},
   "outputs": [
    {
     "data": {
      "text/plain": [
       "array([[1, 0, 0, 0, 0],\n",
       "       [0, 3, 0, 0, 0],\n",
       "       [0, 0, 5, 0, 0],\n",
       "       [0, 0, 0, 7, 0],\n",
       "       [0, 0, 0, 0, 9]])"
      ]
     },
     "execution_count": 93,
     "metadata": {},
     "output_type": "execute_result"
    }
   ],
   "source": [
    "np.diag(range(1,10,2))  # así generamos un array con los elementos\n",
    "# indicados por la orden de Python range"
   ]
  },
  {
   "cell_type": "code",
   "execution_count": 94,
   "metadata": {},
   "outputs": [
    {
     "data": {
      "text/plain": [
       "array([1, 3, 5, 7, 9])"
      ]
     },
     "execution_count": 94,
     "metadata": {},
     "output_type": "execute_result"
    }
   ],
   "source": [
    "np.arange(1,10,2)  # esta orden de NumPy es una variante de range\n",
    "# que genera directamente un array"
   ]
  },
  {
   "cell_type": "code",
   "execution_count": 95,
   "metadata": {},
   "outputs": [
    {
     "data": {
      "text/plain": [
       "array([1, 3, 5, 7, 9])"
      ]
     },
     "execution_count": 95,
     "metadata": {},
     "output_type": "execute_result"
    }
   ],
   "source": [
    "np.array(range(1,10,2)) # esta sería una manera equivalente"
   ]
  },
  {
   "cell_type": "markdown",
   "metadata": {},
   "source": [
    "Generemos ahora por ejemplo una matriz con elementos racionales que contienen los valores $\\frac{1}{i+j}$, donde el índice $i$ varía entre 1 y 5 (de uno en uno), mientras que el índice $j$ variará de 0 a 4 (de dos en dos).\n",
    "\n",
    "**Nota**: Con otros lenguajes como Mathematica generaríamos esta matriz con la siguiente orden: \n",
    "        \n",
    "        Table[1/(i+j),{i,5},{j,0,4,2}]//MatrixForm\n",
    "        \n",
    "pero hay que recordar que en Python los rangos de índices comienzan por defecto en 0, en vez de en 1, y además el último valor indicado no se llega a alcanzar, independientemente del paso que se indique; así que el código eqivalente en Python sería el que aparece a continuación:"
   ]
  },
  {
   "cell_type": "code",
   "execution_count": 96,
   "metadata": {},
   "outputs": [
    {
     "data": {
      "text/plain": [
       "array([[1, 1/2, 1/3, 1/4, 1/5],\n",
       "       [1/3, 1/4, 1/5, 1/6, 1/7],\n",
       "       [1/5, 1/6, 1/7, 1/8, 1/9]], dtype=object)"
      ]
     },
     "execution_count": 96,
     "metadata": {},
     "output_type": "execute_result"
    }
   ],
   "source": [
    "mat = np.array([[sp.Rational(1,i+j) \n",
    "                 for i in range(1,6)] for j in range(0,6,2)])\n",
    "mat"
   ]
  },
  {
   "cell_type": "code",
   "execution_count": 97,
   "metadata": {},
   "outputs": [
    {
     "data": {
      "text/plain": [
       "array([[2, 1, 2/3, 1/2, 2/5],\n",
       "       [2/3, 1/2, 2/5, 1/3, 2/7],\n",
       "       [2/5, 1/3, 2/7, 1/4, 2/9]], dtype=object)"
      ]
     },
     "execution_count": 97,
     "metadata": {},
     "output_type": "execute_result"
    }
   ],
   "source": [
    "2*mat  # ya podemos multiplicar todos los elementos del array por un número"
   ]
  },
  {
   "cell_type": "code",
   "execution_count": 98,
   "metadata": {},
   "outputs": [
    {
     "data": {
      "text/plain": [
       "array([[a, a/2, a/3, a/4, a/5],\n",
       "       [a/3, a/4, a/5, a/6, a/7],\n",
       "       [a/5, a/6, a/7, a/8, a/9]], dtype=object)"
      ]
     },
     "execution_count": 98,
     "metadata": {},
     "output_type": "execute_result"
    }
   ],
   "source": [
    " # o incluso por cualquier valor\n",
    "a = symbols('a')  # que tengamos definido simbólicamente\n",
    "a*mat"
   ]
  },
  {
   "cell_type": "code",
   "execution_count": 99,
   "metadata": {},
   "outputs": [],
   "source": [
    "?np.ndarray"
   ]
  },
  {
   "cell_type": "code",
   "execution_count": 100,
   "metadata": {},
   "outputs": [
    {
     "data": {
      "text/plain": [
       "array([ 0.,  1.,  2.,  3.,  4.,  5.,  6.,  7.,  8.,  9., 10.])"
      ]
     },
     "execution_count": 100,
     "metadata": {},
     "output_type": "execute_result"
    }
   ],
   "source": [
    "np.linspace(0,10,11) # así generamos un array de puntos igualmente espaciados \n",
    "# (partición uniforme) con los extremos y número de nodos indicados"
   ]
  },
  {
   "cell_type": "markdown",
   "metadata": {},
   "source": [
    "## Operaciones vectoriales y matriciales"
   ]
  },
  {
   "cell_type": "markdown",
   "metadata": {},
   "source": [
    "Todas las matrices para las que el número de filas coincide con el de columnas se denominan matrices cuadradas. Veámos a continuación algunos ejemplos y cómo podemos operar con ellas."
   ]
  },
  {
   "cell_type": "code",
   "execution_count": 101,
   "metadata": {},
   "outputs": [],
   "source": [
    "matriz1 = np.random.randn(3,3) # así generamos matrices 3x3 con \n",
    "matriz2 = np.random.randn(3,3) # elementos aleatorios obtenidos a \n",
    "# partir de una distribución normal de media 0 y varianza 1"
   ]
  },
  {
   "cell_type": "code",
   "execution_count": 102,
   "metadata": {},
   "outputs": [],
   "source": [
    "matriz0 = np.zeros([3,3])    # matriz nula\n",
    "matrizI = np.identity(3)     # matriz identidad"
   ]
  },
  {
   "cell_type": "markdown",
   "metadata": {},
   "source": [
    "Las llamadas matrices *escalares* se pueden construir a partir de la matriz identidad de orden n, que se obtiene con la orden  `np.identity(n)` que define una matriz de orden n  con unos en la diagonal y ceros en el resto de posiciones."
   ]
  },
  {
   "cell_type": "code",
   "execution_count": 103,
   "metadata": {},
   "outputs": [
    {
     "data": {
      "text/latex": [
       "$\\displaystyle a$"
      ],
      "text/plain": [
       "a"
      ]
     },
     "execution_count": 103,
     "metadata": {},
     "output_type": "execute_result"
    }
   ],
   "source": [
    "a"
   ]
  },
  {
   "cell_type": "code",
   "execution_count": 104,
   "metadata": {},
   "outputs": [
    {
     "data": {
      "text/plain": [
       "array([[1.0*a, 0, 0],\n",
       "       [0, 1.0*a, 0],\n",
       "       [0, 0, 1.0*a]], dtype=object)"
      ]
     },
     "execution_count": 104,
     "metadata": {},
     "output_type": "execute_result"
    }
   ],
   "source": [
    "a*matrizI"
   ]
  },
  {
   "cell_type": "markdown",
   "metadata": {},
   "source": [
    "Como hemos visto en el último ejemplo, el producto de una matriz por un escalar se realiza de una forma inmediata, sin más que separar ambos por un `*` (como para el producto entre dos números cualesquiera). "
   ]
  },
  {
   "cell_type": "code",
   "execution_count": 105,
   "metadata": {},
   "outputs": [
    {
     "data": {
      "text/plain": [
       "(array([[-0.98177445,  0.96752798,  0.29957593],\n",
       "        [ 0.93618402, -0.34696359,  1.10039057],\n",
       "        [-0.55624758,  0.40423114, -0.35143563]]),\n",
       " array([[ 0.02097048,  1.83439534, -0.14799319],\n",
       "        [-0.28492758,  1.58549718, -1.44415278],\n",
       "        [ 0.99451182, -0.53189256,  0.19888235]]))"
      ]
     },
     "execution_count": 105,
     "metadata": {},
     "output_type": "execute_result"
    }
   ],
   "source": [
    "matriz1, matriz2"
   ]
  },
  {
   "cell_type": "markdown",
   "metadata": {},
   "source": [
    "En cuanto a la suma y resta de vectores (arrays unidimensionales) matrices (arrays bidimensionales) o bien arrays multidimensionales en general, es necesario de antemano que ambos tengan los mismos órdenes/dimensiones para poder realizar dicha operación; es decir, el mismo número de filas, de columnas, etc., ya que estas operaciones entre vectores, matrices o arrays en general se realizan componente a componente. No obstante, en el caso de matrices cuadradas y del mismo orden, no habrá ningún problema tanto para la suma, ni para el producto. Veamos algunos ejemplos:"
   ]
  },
  {
   "cell_type": "markdown",
   "metadata": {},
   "source": [
    "Nótese que `mat0` es el elemento neutro para  la suma de matrices. En cuanto a la matriz identidad, lo será para la multiplicación."
   ]
  },
  {
   "cell_type": "code",
   "execution_count": 106,
   "metadata": {},
   "outputs": [
    {
     "data": {
      "text/plain": [
       "array([[-0.98177445,  0.96752798,  0.29957593],\n",
       "       [ 0.93618402, -0.34696359,  1.10039057],\n",
       "       [-0.55624758,  0.40423114, -0.35143563]])"
      ]
     },
     "execution_count": 106,
     "metadata": {},
     "output_type": "execute_result"
    }
   ],
   "source": [
    "matriz0 + matriz1  # la matriz0 es el elemento neutro para la suma"
   ]
  },
  {
   "cell_type": "code",
   "execution_count": 107,
   "metadata": {},
   "outputs": [
    {
     "data": {
      "text/plain": [
       "array([[-0.96080397,  2.80192331,  0.15158274],\n",
       "       [ 0.65125644,  1.23853359, -0.34376221],\n",
       "       [ 0.43826424, -0.12766142, -0.15255328]])"
      ]
     },
     "execution_count": 107,
     "metadata": {},
     "output_type": "execute_result"
    }
   ],
   "source": [
    "matriz1 + matriz2"
   ]
  },
  {
   "cell_type": "markdown",
   "metadata": {},
   "source": [
    "La multiplicación matricial como tal (no elemento a elemento que proporciona `*`) se obtendrá a partir de la orden `np.dot()` o bien con el operador `@`"
   ]
  },
  {
   "cell_type": "code",
   "execution_count": 108,
   "metadata": {},
   "outputs": [
    {
     "data": {
      "text/plain": [
       "array([[-0.98177445,  0.96752798,  0.29957593],\n",
       "       [ 0.93618402, -0.34696359,  1.10039057],\n",
       "       [-0.55624758,  0.40423114, -0.35143563]])"
      ]
     },
     "execution_count": 108,
     "metadata": {},
     "output_type": "execute_result"
    }
   ],
   "source": [
    "np.dot(matrizI,matriz1) # y matrizI el elemento neutro para el producto "
   ]
  },
  {
   "cell_type": "code",
   "execution_count": 109,
   "metadata": {},
   "outputs": [
    {
     "data": {
      "text/plain": [
       "array([[ 0.00166812, -0.4262918 , -1.19238191],\n",
       "       [ 1.21284315,  0.58193224,  0.58136784],\n",
       "       [-0.47634827, -0.19254463, -0.57134502]])"
      ]
     },
     "execution_count": 109,
     "metadata": {},
     "output_type": "execute_result"
    }
   ],
   "source": [
    "np.dot(matriz1,matriz2) # así haríamos el producto matricial"
   ]
  },
  {
   "cell_type": "code",
   "execution_count": 110,
   "metadata": {},
   "outputs": [
    {
     "data": {
      "text/plain": [
       "array([[ 0.00166812, -0.4262918 , -1.19238191],\n",
       "       [ 1.21284315,  0.58193224,  0.58136784],\n",
       "       [-0.47634827, -0.19254463, -0.57134502]])"
      ]
     },
     "execution_count": 110,
     "metadata": {},
     "output_type": "execute_result"
    }
   ],
   "source": [
    "matriz1.dot(matriz2)  # esta sería otra forma equivalente de pedirlo"
   ]
  },
  {
   "cell_type": "code",
   "execution_count": 111,
   "metadata": {},
   "outputs": [
    {
     "data": {
      "text/plain": [
       "array([[ 0.00166812, -0.4262918 , -1.19238191],\n",
       "       [ 1.21284315,  0.58193224,  0.58136784],\n",
       "       [-0.47634827, -0.19254463, -0.57134502]])"
      ]
     },
     "execution_count": 111,
     "metadata": {},
     "output_type": "execute_result"
    }
   ],
   "source": [
    "matriz1 @ matriz2     # y aquí usando el operador @"
   ]
  },
  {
   "cell_type": "code",
   "execution_count": 112,
   "metadata": {},
   "outputs": [
    {
     "data": {
      "text/plain": [
       "array([[ 1.70302691, -1.16449331,  0.66526101],\n",
       "       [-1.85603292,  1.4709801 , -0.48805373],\n",
       "       [ 1.12002962, -0.82049981,  0.40168076]])"
      ]
     },
     "execution_count": 112,
     "metadata": {},
     "output_type": "execute_result"
    }
   ],
   "source": [
    "np.linalg.matrix_power(matriz1,2) # y así obtendríamos la potencia\n",
    "# entera de una matriz cuadrada"
   ]
  },
  {
   "cell_type": "code",
   "execution_count": 113,
   "metadata": {},
   "outputs": [
    {
     "data": {
      "text/plain": [
       "array([[ 19.56410765,  -8.02346782, -42.1506909 ],\n",
       "       [ 20.43554649,  -6.27136897, -41.46511142],\n",
       "       [-12.80872408,   9.56198296,  35.32134893]])"
      ]
     },
     "execution_count": 113,
     "metadata": {},
     "output_type": "execute_result"
    }
   ],
   "source": [
    "np.linalg.matrix_power(matriz1,-2) # aunque en algunas ocasiones\n",
    "# también podremos calcular ciertas raíces de estas matrices"
   ]
  },
  {
   "cell_type": "code",
   "execution_count": 114,
   "metadata": {},
   "outputs": [
    {
     "data": {
      "text/plain": [
       "array([[1., 0., 0.],\n",
       "       [0., 1., 0.],\n",
       "       [0., 0., 1.]])"
      ]
     },
     "execution_count": 114,
     "metadata": {},
     "output_type": "execute_result"
    }
   ],
   "source": [
    "np.linalg.matrix_power(matriz1,0) # vemos cómo al elevar a 0 una\n",
    "# matriz cuadrada obtenemos la matriz identidad correspondiente"
   ]
  },
  {
   "cell_type": "code",
   "execution_count": 115,
   "metadata": {},
   "outputs": [
    {
     "data": {
      "text/plain": [
       "array([[-3.27276359,  4.67405075, 11.84524217],\n",
       "       [-2.86938497,  5.18641028, 13.79336027],\n",
       "       [ 1.87963883, -1.43246962, -5.72845017]])"
      ]
     },
     "execution_count": 115,
     "metadata": {},
     "output_type": "execute_result"
    }
   ],
   "source": [
    "np.linalg.matrix_power(matriz1,-1) # y esta potencia -1 deberá ser\n",
    "# equivalente a la correspondiente matriz inversa de dicha matriz"
   ]
  },
  {
   "cell_type": "code",
   "execution_count": 116,
   "metadata": {},
   "outputs": [
    {
     "data": {
      "text/plain": [
       "array([[ 1.00000000e+00,  4.47265712e-16,  2.35496097e-16],\n",
       "       [ 1.50054526e-15,  1.00000000e+00,  1.28265152e-15],\n",
       "       [-5.26430126e-16,  5.63855963e-17,  1.00000000e+00]])"
      ]
     },
     "execution_count": 116,
     "metadata": {},
     "output_type": "execute_result"
    }
   ],
   "source": [
    "# aquí lo comprobamos sin problema\n",
    "np.dot(np.linalg.matrix_power(matriz1,-1),matriz1) # multiplicando\n",
    "# pues estas dos matrices obtenemos, salvo los inevitables errores \n",
    "# de redondeo, una matriz que se puede considerar la matriz identidad"
   ]
  },
  {
   "cell_type": "code",
   "execution_count": 117,
   "metadata": {},
   "outputs": [
    {
     "data": {
      "text/plain": [
       "array([[1.00000000e+00, 0.00000000e+00, 0.00000000e+00],\n",
       "       [1.50054526e-15, 1.00000000e+00, 1.28265152e-15],\n",
       "       [0.00000000e+00, 0.00000000e+00, 1.00000000e+00]])"
      ]
     },
     "execution_count": 117,
     "metadata": {},
     "output_type": "execute_result"
    }
   ],
   "source": [
    "# para este tipo de casos habíamos introducido la función 'chop_vec'\n",
    "chop_vec(_)  # que era la versión vectorizada de 'mychop'"
   ]
  },
  {
   "cell_type": "markdown",
   "metadata": {},
   "source": [
    "Pero no toda matriz cuadrada podrá tener un elemento inverso para la multiplicación; sólo aquellas que lo posean se denominarán inversibles. Python  dispone de una orden directa para su cálculo en caso de que ésta exista. Esta sentencia es `np.linalg.inv(matriz)`."
   ]
  },
  {
   "cell_type": "code",
   "execution_count": 118,
   "metadata": {},
   "outputs": [
    {
     "data": {
      "text/plain": [
       "array([[-3.27276359,  4.67405075, 11.84524217],\n",
       "       [-2.86938497,  5.18641028, 13.79336027],\n",
       "       [ 1.87963883, -1.43246962, -5.72845017]])"
      ]
     },
     "execution_count": 118,
     "metadata": {},
     "output_type": "execute_result"
    }
   ],
   "source": [
    "matriz1inv = np.linalg.inv(matriz1) # equivaldría a la inversa de la \n",
    "# matriz (siempre y cuando ésta sea regular)\n",
    "matriz1inv"
   ]
  },
  {
   "cell_type": "markdown",
   "metadata": {},
   "source": [
    "Se comprueba fácilmente que este conjunto de las matrices cuadradas de orden n, junto con las operaciones de suma y producto (cada una con su correspondiente elemento neutro) tiene estructura de anillo no conmutativo (satisfaciendo pues los correspondientes axiomas y propiedades) con divisores de cero (justo esto es lo que impide que no toda matriz cuadrada tenga inversa) como veremos a continuación:"
   ]
  },
  {
   "cell_type": "code",
   "execution_count": 119,
   "metadata": {},
   "outputs": [],
   "source": [
    "mat1 = np.array([[1,0],[4,0]])  # aquí tenemos dos matrices\n",
    "mat2 = np.array([[0,0],[4,5]])  # cuadradas de orden 2"
   ]
  },
  {
   "cell_type": "code",
   "execution_count": 120,
   "metadata": {},
   "outputs": [
    {
     "data": {
      "text/plain": [
       "array([[0, 0],\n",
       "       [0, 0]])"
      ]
     },
     "execution_count": 120,
     "metadata": {},
     "output_type": "execute_result"
    }
   ],
   "source": [
    "np.dot(mat1,mat2)  # cuyo producto matricial es la matriz nula"
   ]
  },
  {
   "cell_type": "code",
   "execution_count": 121,
   "metadata": {},
   "outputs": [
    {
     "data": {
      "text/plain": [
       "array([[ 0,  0],\n",
       "       [24,  0]])"
      ]
     },
     "execution_count": 121,
     "metadata": {},
     "output_type": "execute_result"
    }
   ],
   "source": [
    "np.dot(mat2,mat1)  # pero vemos que el producto no es conmutativo"
   ]
  },
  {
   "cell_type": "markdown",
   "metadata": {},
   "source": [
    "Trabajemos ahora con algunos ejemplos de matrices (arrays bidimensionales) rectangulares (no cuadradas), donde no coincida el número de filas y columnas."
   ]
  },
  {
   "cell_type": "code",
   "execution_count": 122,
   "metadata": {},
   "outputs": [
    {
     "data": {
      "text/plain": [
       "array([[-0.61083798, -0.84099153, -0.12511128],\n",
       "       [-0.80759465, -0.60118669,  0.5557704 ]])"
      ]
     },
     "execution_count": 122,
     "metadata": {},
     "output_type": "execute_result"
    }
   ],
   "source": [
    "matriz1bis = np.random.randn(2,3) # así generamos matrices 2x3 con \n",
    "matriz2bis = np.random.randn(2,3) # elementos aleatorios obtenidos a \n",
    "# partir de una distribución normal de media 0 y varianza 1\n",
    "matriz1bis"
   ]
  },
  {
   "cell_type": "code",
   "execution_count": 123,
   "metadata": {},
   "outputs": [
    {
     "data": {
      "text/plain": [
       "array([[-0.06439003, -0.21816218, -1.77219037],\n",
       "       [-0.04526294,  1.09953893, -0.24614132]])"
      ]
     },
     "execution_count": 123,
     "metadata": {},
     "output_type": "execute_result"
    }
   ],
   "source": [
    "matriz2bis"
   ]
  },
  {
   "cell_type": "code",
   "execution_count": 124,
   "metadata": {},
   "outputs": [
    {
     "data": {
      "text/plain": [
       "2"
      ]
     },
     "execution_count": 124,
     "metadata": {},
     "output_type": "execute_result"
    }
   ],
   "source": [
    "np.linalg.matrix_rank(matriz2bis) # para saber el rango de una matriz\n",
    "# osea número de filas o columnas linealmente independientes"
   ]
  },
  {
   "cell_type": "code",
   "execution_count": 125,
   "metadata": {},
   "outputs": [
    {
     "data": {
      "text/plain": [
       "array([[-0.61083798, -0.80759465],\n",
       "       [-0.84099153, -0.60118669],\n",
       "       [-0.12511128,  0.5557704 ]])"
      ]
     },
     "execution_count": 125,
     "metadata": {},
     "output_type": "execute_result"
    }
   ],
   "source": [
    "matriz1bisT = matriz1bis.T  # así obtenemos la matriz traspuesta\n",
    "matriz1bisT"
   ]
  },
  {
   "cell_type": "markdown",
   "metadata": {},
   "source": [
    "De manera que la matriz resultante tendrá un número de filas y columnas coincidentes con el número de columnas y filas de la primera."
   ]
  },
  {
   "cell_type": "code",
   "execution_count": 126,
   "metadata": {},
   "outputs": [
    {
     "data": {
      "text/plain": [
       "((2, 3), (3, 2))"
      ]
     },
     "execution_count": 126,
     "metadata": {},
     "output_type": "execute_result"
    }
   ],
   "source": [
    "matriz1bis.shape,matriz1bisT.shape # vemos cómo se intercambian el \n",
    "# número de filas y columnas al obtener la matriz traspuesta"
   ]
  },
  {
   "cell_type": "code",
   "execution_count": 127,
   "metadata": {},
   "outputs": [
    {
     "data": {
      "text/plain": [
       "array([[-0.61083798, -0.80759465],\n",
       "       [-0.84099153, -0.60118669],\n",
       "       [-0.12511128,  0.5557704 ]])"
      ]
     },
     "execution_count": 127,
     "metadata": {},
     "output_type": "execute_result"
    }
   ],
   "source": [
    "np.transpose(matriz1bis)  # otra forma de trasponer una matriz"
   ]
  },
  {
   "cell_type": "code",
   "execution_count": 128,
   "metadata": {},
   "outputs": [
    {
     "data": {
      "text/plain": [
       "array([[-0.12511128,  0.5557704 ],\n",
       "       [-0.84099153, -0.60118669],\n",
       "       [-0.61083798, -0.80759465]])"
      ]
     },
     "execution_count": 128,
     "metadata": {},
     "output_type": "execute_result"
    }
   ],
   "source": [
    "np.rot90(matriz1bis) # aquí se hace algo equivalente a 'rotar' \n",
    "# los elementos de las dos primeras dimensiones de la matriz o array "
   ]
  },
  {
   "cell_type": "code",
   "execution_count": 129,
   "metadata": {},
   "outputs": [
    {
     "data": {
      "text/plain": [
       "array([[-0.84099153, -0.61083798, -0.12511128],\n",
       "       [-0.80759465, -0.60118669,  0.5557704 ]])"
      ]
     },
     "execution_count": 129,
     "metadata": {},
     "output_type": "execute_result"
    }
   ],
   "source": [
    "np.sort(matriz1bis) # ordena los elementos de cada una de las filas\n",
    "# equivalente a la siguiente orden 'np.sort(matriz1,1)'"
   ]
  },
  {
   "cell_type": "code",
   "execution_count": 130,
   "metadata": {},
   "outputs": [
    {
     "data": {
      "text/plain": [
       "array([[-0.80759465, -0.84099153, -0.12511128],\n",
       "       [-0.61083798, -0.60118669,  0.5557704 ]])"
      ]
     },
     "execution_count": 130,
     "metadata": {},
     "output_type": "execute_result"
    }
   ],
   "source": [
    "np.sort(matriz1bis,0) # compare con la ordenación anterior"
   ]
  },
  {
   "cell_type": "code",
   "execution_count": 131,
   "metadata": {},
   "outputs": [
    {
     "data": {
      "text/plain": [
       "array([[-0.61083798, -0.84099153, -0.12511128],\n",
       "       [-0.80759465, -0.60118669,  0.5557704 ]])"
      ]
     },
     "execution_count": 131,
     "metadata": {},
     "output_type": "execute_result"
    }
   ],
   "source": [
    "matriz1bis"
   ]
  },
  {
   "cell_type": "code",
   "execution_count": 132,
   "metadata": {},
   "outputs": [],
   "source": [
    "np.ndarray.sort(matriz1bis) # con esta orden además de realizar dicha\n",
    "# ordenación por filas, finalmente se modifica la propia matriz "
   ]
  },
  {
   "cell_type": "code",
   "execution_count": 133,
   "metadata": {},
   "outputs": [
    {
     "data": {
      "text/plain": [
       "array([[-0.84099153, -0.61083798, -0.12511128],\n",
       "       [-0.80759465, -0.60118669,  0.5557704 ]])"
      ]
     },
     "execution_count": 133,
     "metadata": {},
     "output_type": "execute_result"
    }
   ],
   "source": [
    "matriz1bis # compárese con la matriz original más arriba"
   ]
  },
  {
   "cell_type": "code",
   "execution_count": 134,
   "metadata": {},
   "outputs": [],
   "source": [
    "?np.fliplr"
   ]
  },
  {
   "cell_type": "code",
   "execution_count": 135,
   "metadata": {},
   "outputs": [],
   "source": [
    "?np.flipud"
   ]
  },
  {
   "cell_type": "code",
   "execution_count": 136,
   "metadata": {},
   "outputs": [
    {
     "data": {
      "text/plain": [
       "array([[-0.12511128, -0.61083798, -0.84099153],\n",
       "       [ 0.5557704 , -0.60118669, -0.80759465]])"
      ]
     },
     "execution_count": 136,
     "metadata": {},
     "output_type": "execute_result"
    }
   ],
   "source": [
    "np.fliplr(matriz1bis)"
   ]
  },
  {
   "cell_type": "code",
   "execution_count": 137,
   "metadata": {},
   "outputs": [
    {
     "data": {
      "text/plain": [
       "array([[-0.80759465, -0.60118669,  0.5557704 ],\n",
       "       [-0.84099153, -0.61083798, -0.12511128]])"
      ]
     },
     "execution_count": 137,
     "metadata": {},
     "output_type": "execute_result"
    }
   ],
   "source": [
    "np.flipud(matriz1bis)"
   ]
  },
  {
   "cell_type": "code",
   "execution_count": 138,
   "metadata": {},
   "outputs": [
    {
     "data": {
      "text/plain": [
       "(array([1., 2., 3.]), array([4, 5, 6]))"
      ]
     },
     "execution_count": 138,
     "metadata": {},
     "output_type": "execute_result"
    }
   ],
   "source": [
    "v1,v2"
   ]
  },
  {
   "cell_type": "code",
   "execution_count": 139,
   "metadata": {},
   "outputs": [
    {
     "data": {
      "text/plain": [
       "32.0"
      ]
     },
     "execution_count": 139,
     "metadata": {},
     "output_type": "execute_result"
    }
   ],
   "source": [
    "np.dot(v1,v2)   # este sería el producto escalar de vectores"
   ]
  },
  {
   "cell_type": "code",
   "execution_count": 140,
   "metadata": {},
   "outputs": [
    {
     "data": {
      "text/plain": [
       "32.0"
      ]
     },
     "execution_count": 140,
     "metadata": {},
     "output_type": "execute_result"
    }
   ],
   "source": [
    "np.inner(v1,v2) # y esta sería una manera equivalente de hacerlo"
   ]
  },
  {
   "cell_type": "code",
   "execution_count": 141,
   "metadata": {},
   "outputs": [
    {
     "data": {
      "text/plain": [
       "array([[1.09604261, 0.97687477],\n",
       "       [0.97687477, 1.3225153 ]])"
      ]
     },
     "execution_count": 141,
     "metadata": {},
     "output_type": "execute_result"
    }
   ],
   "source": [
    "np.dot(matriz1bis,matriz1bisT)  # también sirve para multiplicar \n",
    "# matrices con las dimensiones adecuadas"
   ]
  },
  {
   "cell_type": "code",
   "execution_count": 142,
   "metadata": {},
   "outputs": [
    {
     "data": {
      "text/plain": [
       "array([-2.43800133, -0.34265685])"
      ]
     },
     "execution_count": 142,
     "metadata": {},
     "output_type": "execute_result"
    }
   ],
   "source": [
    "np.dot(matriz1bis,v1)  # y por supuesto matrices y vectores"
   ]
  },
  {
   "cell_type": "code",
   "execution_count": 143,
   "metadata": {},
   "outputs": [
    {
     "data": {
      "text/plain": [
       "array([-3.,  6., -3.])"
      ]
     },
     "execution_count": 143,
     "metadata": {},
     "output_type": "execute_result"
    }
   ],
   "source": [
    "np.cross(v1,v2)  # este sería el producto vectorial de vectores"
   ]
  },
  {
   "cell_type": "code",
   "execution_count": 144,
   "metadata": {},
   "outputs": [
    {
     "data": {
      "text/plain": [
       "array([[ 4.,  5.,  6.],\n",
       "       [ 8., 10., 12.],\n",
       "       [12., 15., 18.]])"
      ]
     },
     "execution_count": 144,
     "metadata": {},
     "output_type": "execute_result"
    }
   ],
   "source": [
    "np.outer(v1,v2)  # producto exterior de vectores"
   ]
  },
  {
   "cell_type": "code",
   "execution_count": 145,
   "metadata": {},
   "outputs": [
    {
     "data": {
      "text/plain": [
       "array([[[[ 0.70726675,  0.67918026],\n",
       "         [ 0.51370956,  0.50559292],\n",
       "         [ 0.10521753, -0.46739819]],\n",
       "\n",
       "        [[ 0.51370956,  0.49330948],\n",
       "         [ 0.37312303,  0.36722766],\n",
       "         [ 0.07642272, -0.33948566]],\n",
       "\n",
       "        [[ 0.10521753,  0.1010392 ],\n",
       "         [ 0.07642272,  0.07521524],\n",
       "         [ 0.01565283, -0.06953315]]],\n",
       "\n",
       "\n",
       "       [[[ 0.67918026,  0.65220912],\n",
       "         [ 0.49330948,  0.48551516],\n",
       "         [ 0.1010392 , -0.4488372 ]],\n",
       "\n",
       "        [[ 0.50559292,  0.48551516],\n",
       "         [ 0.36722766,  0.36142544],\n",
       "         [ 0.07521524, -0.33412177]],\n",
       "\n",
       "        [[-0.46739819, -0.4488372 ],\n",
       "         [-0.33948566, -0.33412177],\n",
       "         [-0.06953315,  0.30888073]]]])"
      ]
     },
     "execution_count": 145,
     "metadata": {},
     "output_type": "execute_result"
    }
   ],
   "source": [
    "np.tensordot(matriz1bis,matriz1bisT,0) # producto tensorial \n",
    "# de matrices según la dimensión indicada"
   ]
  },
  {
   "cell_type": "code",
   "execution_count": 146,
   "metadata": {},
   "outputs": [
    {
     "data": {
      "text/plain": [
       "array([[1.09604261, 0.97687477],\n",
       "       [0.97687477, 1.3225153 ]])"
      ]
     },
     "execution_count": 146,
     "metadata": {},
     "output_type": "execute_result"
    }
   ],
   "source": [
    "np.tensordot(matriz1bis,matriz1bisT,1) # nótese la diferencia cuando\n",
    "# cambiamos el índice '0' por el '1'"
   ]
  },
  {
   "cell_type": "code",
   "execution_count": 147,
   "metadata": {},
   "outputs": [
    {
     "data": {
      "text/plain": [
       "array([[ 0.05415147,  0.18347255,  1.49039708,  0.03933188,  0.13326175,\n",
       "         1.08252118,  0.00805592,  0.02729455,  0.22172101],\n",
       "       [ 0.03806575, -0.92470292,  0.20700276,  0.02764832, -0.67164013,\n",
       "         0.15035246,  0.0056629 , -0.13756473,  0.03079506],\n",
       "       [ 0.05200104,  0.17618661,  1.43121146,  0.03871043,  0.1311562 ,\n",
       "         1.06541727, -0.03578607, -0.12124808, -0.98493095],\n",
       "       [ 0.03655411, -0.88798176,  0.19878241,  0.02721148, -0.66102818,\n",
       "         0.14797689, -0.0251558 ,  0.61109119, -0.13679806]])"
      ]
     },
     "execution_count": 147,
     "metadata": {},
     "output_type": "execute_result"
    }
   ],
   "source": [
    "np.kron(matriz1bis,matriz2bis)"
   ]
  },
  {
   "cell_type": "code",
   "execution_count": 148,
   "metadata": {},
   "outputs": [],
   "source": [
    "?np.kron"
   ]
  },
  {
   "cell_type": "code",
   "execution_count": 149,
   "metadata": {},
   "outputs": [],
   "source": [
    "?np.einsum"
   ]
  },
  {
   "cell_type": "markdown",
   "metadata": {},
   "source": [
    "### Normas matriciales y vectoriales"
   ]
  },
  {
   "cell_type": "markdown",
   "metadata": {},
   "source": [
    "En el siguiente link podrá consultar información relevante acerca de las posibilidades de calcular con Python tanto [normas matriciales](https://docs.scipy.org/doc/numpy-1.10.4/reference/generated/numpy.linalg.norm.html) así como el [número de condición](https://docs.scipy.org/doc/numpy-1.10.1/reference/generated/numpy.linalg.cond.html) de una matriz cuadrada inversible."
   ]
  },
  {
   "cell_type": "code",
   "execution_count": 150,
   "metadata": {},
   "outputs": [
    {
     "data": {
      "text/plain": [
       "(2.1894615897226273, 2.1894615897226273)"
      ]
     },
     "execution_count": 150,
     "metadata": {},
     "output_type": "execute_result"
    }
   ],
   "source": [
    "np.linalg.norm(matriz1),np.linalg.norm(matriz1.T)"
   ]
  },
  {
   "cell_type": "code",
   "execution_count": 151,
   "metadata": {},
   "outputs": [
    {
     "data": {
      "text/plain": [
       "(2.3835381864230465, 1.3119143556884039)"
      ]
     },
     "execution_count": 151,
     "metadata": {},
     "output_type": "execute_result"
    }
   ],
   "source": [
    "np.linalg.norm(matriz1,np.inf),np.linalg.norm(matriz1,-np.inf)"
   ]
  },
  {
   "cell_type": "code",
   "execution_count": 152,
   "metadata": {},
   "outputs": [
    {
     "data": {
      "text/plain": [
       "(2.1894615897226273, 2.4742060504645336)"
      ]
     },
     "execution_count": 152,
     "metadata": {},
     "output_type": "execute_result"
    }
   ],
   "source": [
    "np.linalg.norm(matriz1,'fro'),np.linalg.norm(matriz1,1)"
   ]
  },
  {
   "cell_type": "code",
   "execution_count": 153,
   "metadata": {},
   "outputs": [
    {
     "data": {
      "text/plain": [
       "array([2.47420605, 1.71872271, 1.75140214])"
      ]
     },
     "execution_count": 153,
     "metadata": {},
     "output_type": "execute_result"
    }
   ],
   "source": [
    "np.linalg.norm(matriz1,1, axis = 0)"
   ]
  },
  {
   "cell_type": "code",
   "execution_count": 154,
   "metadata": {},
   "outputs": [
    {
     "data": {
      "text/plain": [
       "array([2.24887836, 2.38353819, 1.31191436])"
      ]
     },
     "execution_count": 154,
     "metadata": {},
     "output_type": "execute_result"
    }
   ],
   "source": [
    "np.linalg.norm(matriz1,1, axis = 1)"
   ]
  },
  {
   "cell_type": "code",
   "execution_count": 155,
   "metadata": {},
   "outputs": [
    {
     "data": {
      "text/plain": [
       "(array([-0.98177445,  0.96752798,  0.29957593]), 2.2488783583999084)"
      ]
     },
     "execution_count": 155,
     "metadata": {},
     "output_type": "execute_result"
    }
   ],
   "source": [
    "matriz1[0], np.linalg.norm(matriz1[0], 1)"
   ]
  },
  {
   "cell_type": "code",
   "execution_count": 156,
   "metadata": {},
   "outputs": [
    {
     "data": {
      "text/plain": [
       "(array([-0.98177445,  0.96752798,  0.29957593]), 2.3835381864230465)"
      ]
     },
     "execution_count": 156,
     "metadata": {},
     "output_type": "execute_result"
    }
   ],
   "source": [
    "matriz1[0], np.linalg.norm(matriz1[1], 1)"
   ]
  },
  {
   "cell_type": "code",
   "execution_count": 157,
   "metadata": {},
   "outputs": [
    {
     "data": {
      "text/plain": [
       "2.4742060504645336"
      ]
     },
     "execution_count": 157,
     "metadata": {},
     "output_type": "execute_result"
    }
   ],
   "source": [
    "np.linalg.norm(matriz1, 1, axis = (0,1))"
   ]
  },
  {
   "cell_type": "code",
   "execution_count": 158,
   "metadata": {},
   "outputs": [
    {
     "data": {
      "text/plain": [
       "2.3835381864230465"
      ]
     },
     "execution_count": 158,
     "metadata": {},
     "output_type": "execute_result"
    }
   ],
   "source": [
    "np.linalg.norm(matriz1, 1, axis = (1,0))"
   ]
  },
  {
   "cell_type": "code",
   "execution_count": 159,
   "metadata": {},
   "outputs": [
    {
     "data": {
      "text/plain": [
       "(52.078296525857134, 52.07829652585717)"
      ]
     },
     "execution_count": 159,
     "metadata": {},
     "output_type": "execute_result"
    }
   ],
   "source": [
    "np.linalg.cond(matriz1,np.inf),np.linalg.cond(matriz1inv,np.inf)\n",
    "# comprobamos cómo el número de condición (en este caso con la norma\n",
    "# del infinito) de una matriz coincide con el de su traspuesta"
   ]
  },
  {
   "cell_type": "code",
   "execution_count": 160,
   "metadata": {},
   "outputs": [
    {
     "data": {
      "text/plain": [
       "(2.3835381864230465, 21.849155521192024)"
      ]
     },
     "execution_count": 160,
     "metadata": {},
     "output_type": "execute_result"
    }
   ],
   "source": [
    "np.linalg.norm(matriz1,np.inf),np.linalg.norm(matriz1inv,np.inf)\n",
    "# he aquí las correspondientes normas de la matriz y de su inversa"
   ]
  },
  {
   "cell_type": "code",
   "execution_count": 161,
   "metadata": {},
   "outputs": [
    {
     "data": {
      "text/plain": [
       "52.078296525857134"
      ]
     },
     "execution_count": 161,
     "metadata": {},
     "output_type": "execute_result"
    }
   ],
   "source": [
    "np.linalg.norm(matriz1,np.inf)*np.linalg.norm(matriz1inv,np.inf)\n",
    "# de manera que su producto da lugar a su número de condición "
   ]
  },
  {
   "cell_type": "code",
   "execution_count": 162,
   "metadata": {},
   "outputs": [
    {
     "data": {
      "text/plain": [
       "(39.710251176212005, 77.60855136887731)"
      ]
     },
     "execution_count": 162,
     "metadata": {},
     "output_type": "execute_result"
    }
   ],
   "source": [
    "np.linalg.cond(matriz1,2),np.linalg.cond(matriz1,1)\n",
    "# He aquí los números de condición de la misma matriz\n",
    "# asociados a otras normas habituales  "
   ]
  },
  {
   "cell_type": "code",
   "execution_count": 163,
   "metadata": {},
   "outputs": [
    {
     "data": {
      "text/plain": [
       "3.2545347922139913"
      ]
     },
     "execution_count": 163,
     "metadata": {},
     "output_type": "execute_result"
    }
   ],
   "source": [
    "np.linalg.cond(matriz2) # a mayor número de condición, peor \n",
    "# condicionado estará el problema de resolución de cualquier \n",
    "# sistema lineal asociado con dicha matriz"
   ]
  },
  {
   "cell_type": "code",
   "execution_count": 164,
   "metadata": {},
   "outputs": [
    {
     "data": {
      "text/plain": [
       "(5.431228634178116, 5.526888725879853)"
      ]
     },
     "execution_count": 164,
     "metadata": {},
     "output_type": "execute_result"
    }
   ],
   "source": [
    "np.linalg.cond(matriz2,np.inf),np.linalg.cond(matriz2,1)"
   ]
  },
  {
   "cell_type": "markdown",
   "metadata": {},
   "source": [
    "## Ejercicios"
   ]
  },
  {
   "cell_type": "markdown",
   "metadata": {},
   "source": [
    "1.- Considere la siguiente matriz cuadrada\n",
    "\n",
    "$$\n",
    "A=\\left(\n",
    "\\begin{array}{cccc}\n",
    " 2 & 4 & 3 & 1 \\\\\n",
    " 5 & 6 & 4 & 3 \\\\\n",
    " 7 & 3 & 1 & 9 \\\\\n",
    " 2 & 3 & 2 & 1 \\\\\n",
    "\\end{array}\n",
    "\\right).$$\n",
    "\n",
    "Halle su traspuesta, su determinante y su rango. ¿Es invertible? En caso afirmativo, halle su inversa. Asimismo, determine las matrices $A^2$ y $A^3$. \n",
    "\n",
    "2.- Calcule las $p$-normas (con $p=1,2,\\infty$) de la matriz anterior con las órdenes directas de Python indicadas. \n",
    "\n",
    "3.- Calcule también el número de condicionamiento de dicha matriz a la hora de resolver sistemas lineales. Para ello emplee la orden directa de Python indicada.\n",
    "\n",
    "4.- Genere un notebook o fichero Markdown de RStudio que contenga e implemente, usando el lenguaje R, gran parte de órdenes equivalentes a las mostradas aquí con Python. "
   ]
  }
 ],
 "metadata": {
  "anaconda-cloud": {},
  "kernelspec": {
   "display_name": "Python 3 (ipykernel)",
   "language": "python",
   "name": "python3"
  },
  "language_info": {
   "codemirror_mode": {
    "name": "ipython",
    "version": 3
   },
   "file_extension": ".py",
   "mimetype": "text/x-python",
   "name": "python",
   "nbconvert_exporter": "python",
   "pygments_lexer": "ipython3",
   "version": "3.8.12"
  }
 },
 "nbformat": 4,
 "nbformat_minor": 1
}
