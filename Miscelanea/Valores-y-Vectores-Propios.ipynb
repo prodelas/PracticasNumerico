{
 "cells": [
  {
   "cell_type": "markdown",
   "metadata": {
    "button": false,
    "new_sheet": false,
    "run_control": {
     "read_only": false
    }
   },
   "source": [
    "# Álgebra Lineal Numérica: Valores y vectores propios de una matriz cuadrada\n",
    "\n",
    "*Este cuaderno contiene un extracto traducido y adaptado al español por [Pedro González Rodelas](https://www.ugr.es/~prodelas/) de un capítulo del libro [Python Programming and Numerical Methods - A Guide for Engineers and Scientists](https://www.elsevier.com/books/python-programming-and-numerical-methods/kong/978-0-12-819549-9), cuyo contenido (en su versión original en inglés) también está disponible online en el siguiente link [Berkeley Python Numerical Methods](https://pythonnumericalmethods.berkeley.edu/notebooks/Index.html).*\n",
    "\n",
    "*El copyright del libro pertenece a Elsevier, pero también se encuentra disponible online la versión interactiva del mismo para una mejor experiencia de aprendizaje. Todos los códigos se publican bajo la licencia [MIT](https://opensource.org/licenses/MIT). Así pues, si encuentra útil este contenido, puede considerar la posibilidad de apoyar este trabajo a través de [Elsevier](https://www.elsevier.com/books/python-programming-and-numerical-methods/kong/978-0-12-819549-9) o bien [Amazon](https://www.amazon.com/Python-Programming-Numerical-Methods-Scientists/dp/0128195495/ref=sr_1_1?dchild=1&keywords=Python+Programming+and+Numerical+Methods+-+A+Guide+for+Engineers+and+Scientists&qid=1604761352&sr=8-1)!*"
   ]
  },
  {
   "cell_type": "markdown",
   "metadata": {
    "button": false,
    "new_sheet": false,
    "run_control": {
     "read_only": false
    }
   },
   "source": [
    "<!--NAVIGATION-->\n",
    "< [Álgebra Lineal Numérica](Prac_AlgebraMatricialNumerica.ipynb) | [Planteamiento del problema y motivación](Planteamiento-del-problema-Motivacion.ipynb)| [Método de las potencias](Metodo-Potencias.ipynb) | [Valores y Vectores Propios con Python](Valores-y-Vectores-propios-con-Python.ipynb) | [Ejercicios](Ejercicios.ipynb) >"
   ]
  },
  {
   "cell_type": "markdown",
   "metadata": {
    "button": false,
    "new_sheet": false,
    "run_control": {
     "read_only": false
    }
   },
   "source": [
    "#### ESQUEMA DEL TEMA\n",
    "\n",
    "---\n",
    "* [**Álgebra Lineal Numérica con Python**](Prac_AlgebraMatricialNumerica.ipynb)\n",
    "* [**Planteamiento del Problema de Valores Propios y Autovectores**](Planteamiento-del-problema-Motivacion.ipynb)\n",
    "* [**El Método de las Potencias**](Metodo-Potencias.ipynb)   \n",
    "* [**Valores y Autovectores en Python**](Valores-y-Vectores-propios-con-Python.ipynb) \n",
    "* [**Ejercicios**](Ejercicios.ipynb)"
   ]
  },
  {
   "cell_type": "markdown",
   "metadata": {
    "button": false,
    "new_sheet": false,
    "run_control": {
     "read_only": false
    }
   },
   "source": [
    "--- \n",
    "\n",
    "## Motivación\n",
    "\n",
    "Vamos a presentar aquí los conceptos de valores y vectores propios, que juegan un papel muy importante en muchas aplicaciones en la Ciencia y la Ingeniería. El prefijo eigen- (en inglés) o propio (en español) se adopta de la palabra alemana \"eigen\" (que significa \"adecuado\" o \"característico\") y puede sonar realmente abstracto y aterrador al principio. Pero cuando comience a entenderlos, descubrirá que aportan ideas convenientes para muchos problemas científicos o de Ingeniería. \n",
    "\n",
    "Tienen muchas aplicaciones, y por nombrar solo algunas: encontrar las frecuencias naturales y las formas asociadas en sistemas dinámicos; para resolver ecuaciones diferenciales; para reducir la dimensionalidad utilizando el análisis en componentes principales; obtener las tensiones principales en problemas de mecánica, etc. Incluso el famoso algoritmo del motor de búsqueda de Google: [PageRank](https://es.wikipedia.org/wiki/PageRank), utiliza los valores propios y los vectores propios para asignar puntuaciones a las páginas y clasificarlas en la búsqueda.  \n",
    "\n",
    "Estos notebooks le enseñarán cómo usar algunas formas comunes de encontrar los valores propios y los vectores propios. Al final deberá comprender el método de las potencias, potencias inversas y desplazadas, así como saber usar Python para encontrarlos.\n",
    "\n",
    "---"
   ]
  }
 ],
 "metadata": {
  "kernelspec": {
   "display_name": "Python 3 (ipykernel)",
   "language": "python",
   "name": "python3"
  },
  "language_info": {
   "codemirror_mode": {
    "name": "ipython",
    "version": 3
   },
   "file_extension": ".py",
   "mimetype": "text/x-python",
   "name": "python",
   "nbconvert_exporter": "python",
   "pygments_lexer": "ipython3",
   "version": "3.8.12"
  }
 },
 "nbformat": 4,
 "nbformat_minor": 2
}
