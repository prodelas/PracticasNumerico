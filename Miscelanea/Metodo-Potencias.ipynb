{
 "cells": [
  {
   "cell_type": "markdown",
   "metadata": {
    "button": false,
    "new_sheet": false,
    "run_control": {
     "read_only": false
    }
   },
   "source": [
    "# Valores y vectores propios de una matriz cuadrada: método de las potencias\n",
    "\n",
    "\n",
    "*Este cuaderno contiene un extracto traducido y adaptado al español por [Pedro González Rodelas](https://www.ugr.es/~prodelas/) de un capítulo del libro [Python Programming and Numerical Methods - A Guide for Engineers and Scientists](https://www.elsevier.com/books/python-programming-and-numerical-methods/kong/978-0-12-819549-9), cuyo contenido (en su versión original en inglés) también está disponible online en el siguiente link [Berkeley Python Numerical Methods](https://pythonnumericalmethods.berkeley.edu/notebooks/Index.html).*\n",
    "\n",
    "*El copyright del libro pertenece a Elsevier, pero también se encuentra disponible online la versión interactiva del mismo para una mejor experiencia de aprendizaje. Todos los códigos se publican bajo la licencia [MIT](https://opensource.org/licenses/MIT). Así pues, si encuentra útil este contenido, puede considerar la posibilidad de apoyar este trabajo a través de [Elsevier](https://www.elsevier.com/books/python-programming-and-numerical-methods/kong/978-0-12-819549-9) o bien [Amazon](https://www.amazon.com/Python-Programming-Numerical-Methods-Scientists/dp/0128195495/ref=sr_1_1?dchild=1&keywords=Python+Programming+and+Numerical+Methods+-+A+Guide+for+Engineers+and+Scientists&qid=1604761352&sr=8-1)!*"
   ]
  },
  {
   "cell_type": "markdown",
   "metadata": {
    "button": false,
    "new_sheet": false,
    "run_control": {
     "read_only": false
    }
   },
   "source": [
    "<!--NAVIGATION-->\n",
    "< [Álgebra Lineal Numérica](Prac_AlgebraMatricialNumerica.ipynb) | [Planteamiento del problema y motivación](Planteamiento-del-problema-Motivacion.ipynb)| [Valores y Vectores Propios con Python](Valores-y-Vectores-propios-con-Python.ipynb)   >"
   ]
  },
  {
   "cell_type": "markdown",
   "metadata": {
    "button": false,
    "new_sheet": false,
    "run_control": {
     "read_only": false
    }
   },
   "source": [
    "# El Método de las Potencias"
   ]
  },
  {
   "cell_type": "markdown",
   "metadata": {
    "button": false,
    "new_sheet": false,
    "run_control": {
     "read_only": false
    }
   },
   "source": [
    "## Para aproximar el mayor valor propio (en valor absoluto)\n",
    "\n",
    "En algunos problemas, solo necesitamos encontrar el mayor valor propio dominante y su correspondiente vector propio. En este caso, podemos usar el método de las potencias: un método iterativo que convergerá al valor propio más grande (en valor absoluto). Veamos a continuación cómo funciona dicho método. \n",
    "\n",
    "Considere por ejemplo una matriz $n\\times{n}$,  $A$, que tenga $n$ vectores propios linealmente independientes $\\mathbf{v}_1, \\mathbf{v}_2, \\dots, \\mathbf{v}_n$, junto con sus valores propios asociados $\\lambda_1, \\lambda_2, \\dots, \\lambda_n$, todos reales. Ya que estos valores propios son escalares reales, los podremos ordenar según sus valores absolutos decrecientes $|\\lambda_1| > |\\lambda_2| > \\dots > |\\lambda_n| $ (realmente, solo se requeriría que  $|\\lambda_1| > |\\lambda_2|$, mientras que los demás valores propios podrían ser todos o en parte iguales en valor absoluto). \n",
    "\n",
    "Por otro lado, al ser los vectores propios linealmente independientes, constituirán una base de vectores del espacio euclídeo correspondiente; de hecho esta será la condición fundamental para poder continuar con el razonamiento siguiente:\n",
    "cualquier vector del espacio podrá ser reescrito como combinación lineal de la  base formada por vectores propios de la matriz. Esto es, cualquier vector $\\mathbf{X}_0\\in\\mathbb{R}^n$ podrá reescribirse de la siguiente forma:\n",
    "\n",
    "$$ \\mathbf{X}_0 = c_1 \\mathbf{v}_1+c_2 \\mathbf{v}_2+\\dots+c_n \\mathbf{v}_n$$\n",
    "\n",
    "donde $c_1 \\ne 0$ será la restricción que impondremos (si fuese cero este coeficiente, entonces necesitaríamos elegir otro vector inicial para que $c_1\\ne0$ y podamos continuar con el procedimiento). \n",
    "\n",
    "Ahora, multipliquemos ambos lados del signo igual por la matriz $A$:\n",
    "\n",
    "$$ A\\mathbf{X}_0 = c_1 A\\mathbf{v}_1+c_2 A\\mathbf{v}_2+\\dots+c_n A\\mathbf{v}_n$$\n",
    "\n",
    "y ya que $A\\mathbf{v}_i = \\lambda\\mathbf{v}_i$, tendremos:\n",
    "\n",
    "$$ A\\mathbf{X}_0 = c_1\\lambda_1 \\mathbf{v}_1+c_2\\lambda_2 \\mathbf{v}_2+\\dots+c_n\\lambda_n \\mathbf{v}_n$$\n",
    "\n",
    "Podemos cambiar la ecuación anterior a:\n",
    "\n",
    "$$ A\\mathbf{X}_0 = c_1\\lambda_1 (\\mathbf{v}_1+\\frac{c_2}{c_1}\\frac{\\lambda_2}{\\lambda_1}\\mathbf{v}_2+\\dots+\\frac{c_n}{c_1}\\frac{\\lambda_n}{\\lambda_1}\\mathbf{v}_n)= c_1\\lambda_1\\mathbf{X}_1$$ \n",
    "\n",
    "donde $\\mathbf{X}_1$ es un nuevo vector y $\\mathbf{X}_1 = \\mathbf{v}_1+\\frac{c_2}{c_1}\\frac{\\lambda_2}{\\lambda_1}\\mathbf{v}_2+\\dots+\\frac{c_n}{c_1}\\frac{\\lambda_n}{\\lambda_1}\\mathbf{v}_n$.\n",
    "\n",
    "Esto terminaría la primera iteración; pero podremos volver a  multiplicar $A$ por $\\mathbf{X}_1$ para comenzar con la segunda iteración:\n",
    "\n",
    "$$ A\\mathbf{X}_1 = \\lambda_1\\mathbf{v}_1+\\frac{c_2}{c_1}\\frac{\\lambda_2^2}{\\lambda_1}\\mathbf{v}_2+\\dots+\\frac{c_n}{c_1}\\frac{\\lambda_n^2}{\\lambda_1}\\mathbf{v}_n $$ \n",
    "\n",
    "De manera similar, podremos reorganizar la ecuación anterior de la siguiente manera:\n",
    "\n",
    "$$ A\\mathbf{X}_1 = \\lambda_1(\\mathbf{v}_1+\\frac{c_2}{c_1}\\frac{\\lambda_2^2}{\\lambda_1^2}\\mathbf{v}_2+\\dots+\\frac{c_n}{c_1}\\frac{\\lambda_n^2}{\\lambda_1^2}\\mathbf{v}_n) = \\lambda_1\\mathbf{X}_2$$ \n",
    "\n",
    "donde $\\mathbf{X}_2$ es otro nuevo vector y $\\mathbf{X}_2 = \\mathbf{v}_1+\\frac{c_2}{c_1}\\frac{\\lambda_2^2}{\\lambda_1^2}\\mathbf{v}_2+\\dots+\\frac{c_n}{c_1}\\frac{\\lambda_n^2}{\\lambda_1^2}\\mathbf{v}_n$.\n",
    "\n",
    "Podemos continuar multiplicando $A$ por cada nuevo vector que obtengamos de cada nueva iteración, hasta $k$ veces:\n",
    "\n",
    "$$ A\\mathbf{X}_{k-1} = \\lambda_1(\\mathbf{v}_1+\\frac{c_2}{c_1}\\frac{\\lambda_2^k}{\\lambda_1^k}\\mathbf{v}_2+\\dots+\\frac{c_n}{c_1}\\frac{\\lambda_n^k}{\\lambda_1^k}\\mathbf{v}_n) = \\lambda_1\\mathbf{X}_k$$ \n",
    "\n",
    "y ya que $\\lambda_1$ es el valor propio dominante, entonces el ratio $\\frac{\\lambda_i}{\\lambda_1}<1$ para todos los índices $i>1$. Bastará pues incrementar $k$ lo suficiente para que dicho ratio $(\\frac{\\lambda_n}{\\lambda_1})^{k}$ se acerque bastante a 0 como para que todos los términos que lo contengan puedan ser desechados a medida que crece $k$:\n",
    "\n",
    "$$ A\\mathbf{X}_{k-1} \\approx {\\lambda_1}\\mathbf{v}_1 $$\n",
    "\n",
    "Esencialmente, a medida que $k$ aumenta suficientemente, obtendremos aproximaciones del valor propio dominante junto con su correspondiente vector propio asociado. \n",
    "\n",
    "Al implementar este método de las potencias, generalmente normalizamos el vector resultante en cada iteración. Esto se puede hacer por ejemplo dividiendo todas las componentes por el elemento más grande (en valor absoluto) del vector, lo que hará que este elemento más grande se convierta en 1, y todas las demás componentes del vector tendrán valor absoluto inferior. Esta normalización nos dará el mayor valor propio y su correspondiente vector propio al mismo tiempo. Echemos un vistazo al ejemplo mostrado más abajo.\n",
    "\n",
    "Pero se podría preguntar ¿cuándo debemos detener la iteración? Los criterios básicos de detención deben ser uno de los tres siguientes, cuando en las iteraciones consecutivas:  \n",
    "* la diferencia en valor absoluto entre los valores propios es menor que alguna tolerancia especificada;\n",
    "* el ángulo entre vectores propios es menor que un cierto umbral; \n",
    "* o bien la norma del vector residual es lo suficientemente pequeña.  \n",
    "\n",
    "**¡PRUÉBELO!** Sabemos por la última sección que el mayor valor propio es 4 para la matrix \n",
    "$A = \\begin{bmatrix}\n",
    "0 & 2\\\\\n",
    "2 & 3\\\\\n",
    "\\end{bmatrix}$, ahora utilice el método de las potencias para buscar el valor propio más grande y el vector propio asociado. Puede utilizar el vector inicial ${1 \\choose 1}$ para iniciar la iteración. "
   ]
  },
  {
   "cell_type": "markdown",
   "metadata": {
    "button": false,
    "new_sheet": false,
    "run_control": {
     "read_only": false
    }
   },
   "source": [
    "* Primera iteración: \n",
    "$$\n",
    "\\begin{bmatrix}\n",
    "0 & 2\\\\\n",
    "2 & 3\\\\\n",
    "\\end{bmatrix}\n",
    "\\begin{bmatrix}\n",
    "1\\\\1\\\\\n",
    "\\end{bmatrix}\n",
    "=\\begin{bmatrix}\n",
    "2\\\\5\\\\\n",
    "\\end{bmatrix}\n",
    "=5\\begin{bmatrix}\n",
    "0.4\\\\1\\\\\n",
    "\\end{bmatrix}\n",
    "$$\n",
    "\n",
    "* Segunda iteración:\n",
    "$$\n",
    "\\begin{bmatrix}\n",
    "0 & 2\\\\\n",
    "2 & 3\\\\\n",
    "\\end{bmatrix}\n",
    "\\begin{bmatrix}\n",
    "0.4\\\\1\\\\\n",
    "\\end{bmatrix}\n",
    "=\\begin{bmatrix}\n",
    "2\\\\3.8\\\\\n",
    "\\end{bmatrix}\n",
    "=3.8\\begin{bmatrix}\n",
    "0.5263\\\\1\\\\\n",
    "\\end{bmatrix}\n",
    "$$\n",
    "\n",
    "* Tercera iteración:\n",
    "$$\n",
    "\\begin{bmatrix}\n",
    "0 & 2\\\\\n",
    "2 & 3\\\\\n",
    "\\end{bmatrix}\n",
    "\\begin{bmatrix}\n",
    "0.5263\\\\1\\\\\n",
    "\\end{bmatrix}\n",
    "=\\begin{bmatrix}\n",
    "2\\\\ 4.0526\\\\\n",
    "\\end{bmatrix}\n",
    "= 4.0526\\begin{bmatrix}\n",
    "0.4935\\\\1\\\\\n",
    "\\end{bmatrix}\n",
    "$$\n",
    "\n",
    "* Cuarta iteración:\n",
    "$$\n",
    "\\begin{bmatrix}\n",
    "0 & 2\\\\\n",
    "2 & 3\\\\\n",
    "\\end{bmatrix}\n",
    "\\begin{bmatrix}\n",
    "0.4935\\\\1\\\\\n",
    "\\end{bmatrix}\n",
    "=\\begin{bmatrix}\n",
    "2\\\\ 3.987\\\\\n",
    "\\end{bmatrix}\n",
    "= 3.987\\begin{bmatrix}\n",
    "0.5016\\\\1\\\\\n",
    "\\end{bmatrix}\n",
    "$$\n",
    "\n",
    "* Quinta iteración:\n",
    "$$\n",
    "\\begin{bmatrix}\n",
    "0 & 2\\\\\n",
    "2 & 3\\\\\n",
    "\\end{bmatrix}\n",
    "\\begin{bmatrix}\n",
    "0.5016\\\\1\\\\\n",
    "\\end{bmatrix}\n",
    "=\\begin{bmatrix}\n",
    "2\\\\ 4.0032\\\\\n",
    "\\end{bmatrix}\n",
    "= 4.0032\\begin{bmatrix}\n",
    "0.4996\\\\1\\\\\n",
    "\\end{bmatrix}\n",
    "$$\n",
    "\n",
    "* Sexta iteración:\n",
    "$$\n",
    "\\begin{bmatrix}\n",
    "0 & 2\\\\\n",
    "2 & 3\\\\\n",
    "\\end{bmatrix}\n",
    "\\begin{bmatrix}\n",
    "0.4996\\\\1\\\\\n",
    "\\end{bmatrix}\n",
    "=\\begin{bmatrix}\n",
    "2\\\\ 3.9992\\\\\n",
    "\\end{bmatrix}\n",
    "= 3.9992\\begin{bmatrix}\n",
    "0.5001\\\\1\\\\\n",
    "\\end{bmatrix}\n",
    "$$\n",
    "\n",
    "* Séptima iteración:\n",
    "$$\n",
    "\\begin{bmatrix}\n",
    "0 & 2\\\\\n",
    "2 & 3\\\\\n",
    "\\end{bmatrix}\n",
    "\\begin{bmatrix}\n",
    "0.5001\\\\1\\\\\n",
    "\\end{bmatrix}\n",
    "=\\begin{bmatrix}\n",
    "2\\\\ 4.0002\\\\\n",
    "\\end{bmatrix}\n",
    "= 4.0002\\begin{bmatrix}\n",
    "0.5000\\\\1\\\\\n",
    "\\end{bmatrix}\n",
    "$$\n",
    "\n",
    "Podeos ver pues que, después de 7 iteraciones, el valor propio converge hacia el escalar 4 con  ${ 0.5 \\choose 1}$ como el autovector correspondiente. \n",
    "\n",
    "**¡PRUÉBELO!** Implementamos ahora el método de las potencias normalizado en Python."
   ]
  },
  {
   "cell_type": "code",
   "execution_count": 1,
   "metadata": {
    "button": false,
    "new_sheet": false,
    "run_control": {
     "read_only": false
    }
   },
   "outputs": [],
   "source": [
    "import numpy as np"
   ]
  },
  {
   "cell_type": "code",
   "execution_count": 2,
   "metadata": {
    "button": false,
    "new_sheet": false,
    "run_control": {
     "read_only": false
    }
   },
   "outputs": [],
   "source": [
    "def normalize(X):\n",
    "    minimo = X.min()\n",
    "    maximo = X.max()\n",
    "    if abs(maximo) > abs(minimo):\n",
    "        fac = abs(maximo)  # factor de normalización positivo\n",
    "        X_n = X / fac   # vector normalizado\n",
    "        return fac, X_n\n",
    "    else:\n",
    "        fac = abs(minimo)  # factor de normalización negativo\n",
    "        X_n = - X / fac   # vector normalizado\n",
    "        return -fac, X_n        "
   ]
  },
  {
   "cell_type": "code",
   "execution_count": 9,
   "metadata": {
    "button": false,
    "new_sheet": false,
    "run_control": {
     "read_only": false
    }
   },
   "outputs": [
    {
     "name": "stdout",
     "output_type": "stream",
     "text": [
      "Valor propio: 4.0000000000000036\n",
      "Autovector: [0.5 1. ]\n"
     ]
    }
   ],
   "source": [
    "X = np.array([1, 1])\n",
    "A = np.array([[0, 2], \n",
    "              [2, 3]])\n",
    "\n",
    "for i in range(25):\n",
    "    X = np.dot(A, X)\n",
    "    lambda_1, X = normalize(X)\n",
    "    \n",
    "print('Valor propio:', lambda_1)\n",
    "print('Autovector:', X)"
   ]
  },
  {
   "cell_type": "markdown",
   "metadata": {
    "button": false,
    "new_sheet": false,
    "run_control": {
     "read_only": false
    }
   },
   "source": [
    "## El método de la potencia inversa\n",
    "\n",
    "Los autovalores de la matriz inversa $A^{-1}$ son los recíprocos de los de  $A$. Así pues, podemos aprovechar esta característica, así como el método de las potencias para obtener el valor propio de $A$ con valor absoluto más pequeño, y esta será la base del método de la potencia inversa. Los pasos son muy simples, en lugar de ir multiplicando por $A$, como se describió anteriormente, simplemente multiplicamos por $A^{-1}$ en cada iteración, para encontrar el valor más grande (en valor absoluto) de entre los $\\frac{1}{\\lambda_i}$ (con $i=1,2,\\ldots n$); es decir $\\frac{1}{\\lambda_n}$, cuyo recíproco será el valor más pequeño de los valores propios para $A$.\n",
    "\n",
    "En cuanto a la inversa de la matriz, en la práctica, podemos utilizar los métodos habituales para calcularla, o bien usar alguna orden directa de Python; aunque siempre se puede optar por cambiar ese paso en cada iteración por la resolución de un sistema lineal equivalente. \n",
    "\n",
    "**¡PROBÉMOSLO!** Encuentre el valor propio más pequeño, y su autovector asociado, para la siguiente matriz \n",
    "$A = \\begin{bmatrix}\n",
    "0 & 2\\\\\n",
    "2 & 3\\\\\n",
    "\\end{bmatrix}$. "
   ]
  },
  {
   "cell_type": "code",
   "execution_count": 4,
   "metadata": {
    "button": false,
    "new_sheet": false,
    "run_control": {
     "read_only": false
    }
   },
   "outputs": [],
   "source": [
    "from numpy.linalg import inv, solve"
   ]
  },
  {
   "cell_type": "code",
   "execution_count": 10,
   "metadata": {
    "button": false,
    "new_sheet": false,
    "run_control": {
     "read_only": false
    }
   },
   "outputs": [
    {
     "name": "stdout",
     "output_type": "stream",
     "text": [
      "Valor propio: 4.000000953674501\n",
      "Autovector: [0.50000048 1.        ]\n"
     ]
    }
   ],
   "source": [
    "x = np.array([1, 1])\n",
    "A_inv = inv(A)\n",
    "\n",
    "for i in range(15):\n",
    "    X = np.dot(A_inv, X)\n",
    "    lambda_1, X = normalize(X)\n",
    "    \n",
    "print('Valor propio:', 1/lambda_1)\n",
    "print('Autovector:', X)"
   ]
  },
  {
   "cell_type": "code",
   "execution_count": 6,
   "metadata": {},
   "outputs": [
    {
     "name": "stdout",
     "output_type": "stream",
     "text": [
      "Valor propio: -0.9999928474528588\n",
      "Autovector: [ 1.         -0.49999642]\n"
     ]
    }
   ],
   "source": [
    "X = np.array([1, 1])\n",
    "for i in range(10):\n",
    "    X = solve(A, X)  # aquí estaríamos resolviendo el correspondiente sistema lineal\n",
    "    lambda_1, X = normalize(X)\n",
    "    \n",
    "print('Valor propio:', 1/lambda_1)\n",
    "print('Autovector:', X)"
   ]
  },
  {
   "cell_type": "markdown",
   "metadata": {
    "button": false,
    "new_sheet": false,
    "run_control": {
     "read_only": false
    }
   },
   "source": [
    "## El método de las potencias desplazado\n",
    "\n",
    "En algunos casos necesitaremos encontrar todos los valores propios y vectores propios en lugar de solo los más grandes o los más pequeños. Una forma simple, pero algo ineficiente, es usar el método de potencias desplazado, que consiste en la siguiente idea: dado $A\\mathbf{X} = \\lambda\\mathbf{X}$, y $\\lambda_1$ el valor propio dominante (con mayor valor absoluto) obtenido por ejemplo mediante el método de las potencias, entonces podremos también escribir:\n",
    "\n",
    "$$(A - \\lambda_1 I)\\mathbf{X} = \\alpha\\mathbf{X}$$\n",
    "\n",
    "donde $\\alpha$ representa los valores propios de la matriz desplazada $A - \\lambda_1 I$, que serán $0, \\lambda_2-\\lambda_1, \\lambda_3-\\lambda_1, \\dots, \\lambda_n-\\lambda_1$. \n",
    "\n",
    "Ahora, si aplicamos el método de las potencias (o el de las potencias inversas) a la matriz desplazada, entonces podremos determinar el valor propio más grande (o el más pequeño) de la matriz desplazada. Y ya que cada $\\alpha_k\\equiv \\lambda_k - \\lambda_1$, podremos obtener el correspondiente valor propio $\\lambda_k$ fácilmente, sin más que despejar. Podemos repetir este proceso muchas veces para encontrar todos los demás valores propios, pero como se puede ver esto ¡implicaría mucho trabajo! Un mejor método para encontrar todos los valores propios sería usar otro método denominado QR que no vamos a ver de momento, o alguna que otra técnica denominada de *deflacción* (que implicaría ir obteniendo otras matrices relacionadas con la inicial, en las que algunos de los valores propios dominantes se van convirtiendo en ceros, de manera que podríamos seguir aplicándoles el método de las potencias a estas nuevas matrices para ir obteniendo aproximaciones del resto de valores propios de la matriz original). "
   ]
  },
  {
   "cell_type": "markdown",
   "metadata": {
    "button": false,
    "new_sheet": false,
    "run_control": {
     "read_only": false
    }
   },
   "source": [
    "<!--NAVIGATION-->\n",
    "< [Álgebra Lineal Numérica](Prac_AlgebraMatricialNumerica.ipynb) | [Planteamiento del problema y motivación](Planteamiento-del-problema-Motivacion.ipynb)| [Valores y Vectores Propios con Python](Valores-y-Vectores-propios-con-Python.ipynb)  | [Ejercicios](Ejercicios.ipynb) >"
   ]
  }
 ],
 "metadata": {
  "kernelspec": {
   "display_name": "Python 3 (ipykernel)",
   "language": "python",
   "name": "python3"
  },
  "language_info": {
   "codemirror_mode": {
    "name": "ipython",
    "version": 3
   },
   "file_extension": ".py",
   "mimetype": "text/x-python",
   "name": "python",
   "nbconvert_exporter": "python",
   "pygments_lexer": "ipython3",
   "version": "3.9.7"
  }
 },
 "nbformat": 4,
 "nbformat_minor": 2
}
