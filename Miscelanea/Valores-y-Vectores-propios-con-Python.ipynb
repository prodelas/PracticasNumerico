{
 "cells": [
  {
   "cell_type": "markdown",
   "metadata": {
    "button": false,
    "new_sheet": false,
    "run_control": {
     "read_only": false
    }
   },
   "source": [
    "<!--NAVIGATION-->\n",
    "< [Álgebra Lineal Numérica](Prac_AlgebraMatricialNumerica.ipynb) | [Planteamiento del problema y motivación](Planteamiento-del-problema-Motivacion.ipynb)| [Método de las potencias](Metodo-Potencias.ipynb) | [Ejercicios](Ejercicios.ipynb) >"
   ]
  },
  {
   "cell_type": "markdown",
   "metadata": {
    "button": false,
    "new_sheet": false,
    "run_control": {
     "read_only": false
    }
   },
   "source": [
    "*Este cuaderno contiene un extracto traducido y adaptado al español por [Pedro González Rodelas](https://www.ugr.es/~prodelas/) de un capítulo del libro [Python Programming and Numerical Methods - A Guide for Engineers and Scientists](https://www.elsevier.com/books/python-programming-and-numerical-methods/kong/978-0-12-819549-9), cuyo contenido (en su versión original en inglés) también está disponible online en el siguiente link [Berkeley Python Numerical Methods](https://pythonnumericalmethods.berkeley.edu/notebooks/Index.html).*\n",
    "\n",
    "*El copyright del libro pertenece a Elsevier, pero también se encuentra disponible online la versión interactiva del mismo para una mejor experiencia de aprendizaje. Todos los códigos se publican bajo la licencia [MIT](https://opensource.org/licenses/MIT). Así pues, si encuentra útil este contenido, puede considerar la posibilidad de apoyar este trabajo a través de [Elsevier](https://www.elsevier.com/books/python-programming-and-numerical-methods/kong/978-0-12-819549-9) o bien [Amazon](https://www.amazon.com/Python-Programming-Numerical-Methods-Scientists/dp/0128195495/ref=sr_1_1?dchild=1&keywords=Python+Programming+and+Numerical+Methods+-+A+Guide+for+Engineers+and+Scientists&qid=1604761352&sr=8-1)!*"
   ]
  },
  {
   "cell_type": "markdown",
   "metadata": {
    "button": false,
    "new_sheet": false,
    "run_control": {
     "read_only": false
    }
   },
   "source": [
    "# Valores y Vectores Propios con Python\n",
    "\n",
    "Aunque los métodos que introdujimos hasta ahora parecen complicados, el cálculo efectivo de los valores y los vectores propios en Python es bastante fácil. La principal función incorporada en Python para resolver el problema de valores/vectores propios para una matriz cuadrada es la función `eig` en `numpy.linalg`. Veamos cómo podemos usarla. \n",
    "\n",
    "**EJEMPLO:** Calcule los valores y vectores propiios de la matriz $A = \\begin{bmatrix}\n",
    "0 & 2\\\\\n",
    "2 & 3\\\\\n",
    "\\end{bmatrix}$. "
   ]
  },
  {
   "cell_type": "code",
   "execution_count": 2,
   "metadata": {
    "button": false,
    "new_sheet": false,
    "run_control": {
     "read_only": false
    }
   },
   "outputs": [],
   "source": [
    "import numpy as np\n",
    "from numpy.linalg import eig"
   ]
  },
  {
   "cell_type": "code",
   "execution_count": 37,
   "metadata": {},
   "outputs": [],
   "source": [
    "?eig"
   ]
  },
  {
   "cell_type": "code",
   "execution_count": 55,
   "metadata": {
    "button": false,
    "new_sheet": false,
    "run_control": {
     "read_only": false
    }
   },
   "outputs": [
    {
     "name": "stdout",
     "output_type": "stream",
     "text": [
      "valores propios:  [-1.  4.]\n",
      "vectores propios asociados:  [[-0.89442719 -0.4472136 ]\n",
      " [ 0.4472136  -0.89442719]]\n"
     ]
    }
   ],
   "source": [
    "A = np.array([[0, 2], \n",
    "              [2, 3]])\n",
    "λs,V=eig(A)\n",
    "print('valores propios: ', λs)\n",
    "print('vectores propios asociados: ', V)"
   ]
  },
  {
   "cell_type": "code",
   "execution_count": 56,
   "metadata": {},
   "outputs": [
    {
     "data": {
      "text/plain": [
       "array([0., 0.])"
      ]
     },
     "execution_count": 56,
     "metadata": {},
     "output_type": "execute_result"
    }
   ],
   "source": [
    "# comprobaciones\n",
    "i = 1;\n",
    "np.dot(A,V[:,i]) - λs[i]*V[:,i]"
   ]
  },
  {
   "cell_type": "code",
   "execution_count": 57,
   "metadata": {},
   "outputs": [
    {
     "data": {
      "text/plain": [
       "array([[-0.89442719, -0.4472136 ],\n",
       "       [ 0.4472136 , -0.89442719]])"
      ]
     },
     "execution_count": 57,
     "metadata": {},
     "output_type": "execute_result"
    }
   ],
   "source": [
    "V"
   ]
  },
  {
   "cell_type": "code",
   "execution_count": 58,
   "metadata": {},
   "outputs": [
    {
     "data": {
      "text/plain": [
       "array([-0.89442719,  0.4472136 ])"
      ]
     },
     "execution_count": 58,
     "metadata": {},
     "output_type": "execute_result"
    }
   ],
   "source": [
    "i = 0\n",
    "V[:,i]"
   ]
  },
  {
   "cell_type": "markdown",
   "metadata": {
    "button": false,
    "new_sheet": false,
    "run_control": {
     "read_only": false
    }
   },
   "source": [
    "**EJEMPLO** Calcule ahora los valores y vectores propios de la matriz 3$\\times$3, \n",
    "\n",
    "$A = \\begin{bmatrix}\n",
    "2 & 2 & 4\\\\\n",
    "1 & 3 & 5\\\\\n",
    "2 & 3 & 4\\\\\n",
    "\\end{bmatrix}$."
   ]
  },
  {
   "cell_type": "code",
   "execution_count": 59,
   "metadata": {
    "button": false,
    "new_sheet": false,
    "run_control": {
     "read_only": false
    },
    "scrolled": true
   },
   "outputs": [
    {
     "name": "stdout",
     "output_type": "stream",
     "text": [
      "valores propios:  [ 8.80916362  0.92620912 -0.73537273]\n",
      "vectores propios asociados:  [[-0.52799324 -0.77557092 -0.36272811]\n",
      " [-0.604391    0.62277013 -0.7103262 ]\n",
      " [-0.59660259 -0.10318482  0.60321224]]\n"
     ]
    }
   ],
   "source": [
    "A = np.array([[2, 2, 4], \n",
    "              [1, 3, 5],\n",
    "              [2, 3, 4]])\n",
    "λs,V=eig(A)\n",
    "print('valores propios: ', λs)\n",
    "print('vectores propios asociados: ', V)"
   ]
  },
  {
   "cell_type": "code",
   "execution_count": 60,
   "metadata": {},
   "outputs": [
    {
     "data": {
      "text/plain": [
       "array([3.55271368e-15, 0.00000000e+00, 1.77635684e-15])"
      ]
     },
     "execution_count": 60,
     "metadata": {},
     "output_type": "execute_result"
    }
   ],
   "source": [
    "# comprobaciones\n",
    "i = 0;\n",
    "np.dot(A,V[:,i]) - λs[i]*V[:,i]"
   ]
  },
  {
   "cell_type": "markdown",
   "metadata": {},
   "source": [
    "<!--NAVIGATION-->\n",
    "< [Álgebra Lineal Numérica](Prac_AlgebraMatricialNumerica.ipynb) | [Planteamiento del problema y motivación](Planteamiento-del-problema-Motivacion.ipynb)| [Método de las potencias](Metodo-Potencias.ipynb) | [Ejercicios](Ejercicios.ipynb) >"
   ]
  }
 ],
 "metadata": {
  "kernelspec": {
   "display_name": "Python 3 (ipykernel)",
   "language": "python",
   "name": "python3"
  },
  "language_info": {
   "codemirror_mode": {
    "name": "ipython",
    "version": 3
   },
   "file_extension": ".py",
   "mimetype": "text/x-python",
   "name": "python",
   "nbconvert_exporter": "python",
   "pygments_lexer": "ipython3",
   "version": "3.9.7"
  }
 },
 "nbformat": 4,
 "nbformat_minor": 2
}
