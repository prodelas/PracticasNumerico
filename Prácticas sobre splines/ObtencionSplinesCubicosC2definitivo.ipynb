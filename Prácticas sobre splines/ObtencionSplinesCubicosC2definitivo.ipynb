{
 "cells": [
  {
   "cell_type": "markdown",
   "metadata": {},
   "source": [
    "# Splines cúbicos de clase $\\mathcal{C}^2([a,b])$  Desarrollo teórico de las transparencias originales"
   ]
  },
  {
   "cell_type": "markdown",
   "metadata": {},
   "source": [
    "Autor: Pedro González Rodelas\n",
    "\n",
    "Fecha de la primera versión: 18/03/2022\n",
    "\n",
    "Sucesivas revisiones: 19-20/03/2022, 21 y 22/05/2024\n",
    "\n",
    "Fecha de la última revisión: 15/10/2024\n",
    "\n",
    "En esta primera versión se ha intentado en la medida de lo posible mantener la notación y numeración original de las transparencias que ya se tenían preparadas de este tema."
   ]
  },
  {
   "cell_type": "code",
   "execution_count": 3,
   "metadata": {},
   "outputs": [],
   "source": [
    "# Siempre tendremos la opción de importar el módulo entero como sigue\n",
    "from sympy import *"
   ]
  },
  {
   "cell_type": "code",
   "execution_count": 4,
   "metadata": {},
   "outputs": [],
   "source": [
    "# o bien ir importando solo lo que vayamos necesitando\n",
    "from sympy import symbols, simplify, expand, factor, collect, diff, solve, solveset, Eq, S"
   ]
  },
  {
   "cell_type": "code",
   "execution_count": 5,
   "metadata": {},
   "outputs": [],
   "source": [
    "from operator import mul, add"
   ]
  },
  {
   "cell_type": "code",
   "execution_count": 6,
   "metadata": {},
   "outputs": [
    {
     "data": {
      "text/plain": [
       "(x_0, x_1, x_2, x_3, x_4, x_5, x_6, x_7, x_8, x_9, x_10)"
      ]
     },
     "execution_count": 6,
     "metadata": {},
     "output_type": "execute_result"
    }
   ],
   "source": [
    "# Aquí vemos cómo generar una lista de símbolos con subíndices\n",
    "n = 11  # nótese que esta cota superior nunca llega a alcanzarse\n",
    "xx = symbols('x_:%d' % n)  # esta sería la manera de ir modificando el valor del dígito n\n",
    "# xx = symbols('x_1:%d' % n)  # y esta sería la manera de empezar con el valor 1 del subíndice\n",
    "xx    # compruébese que lo que se ha generado ha sido una tupla"
   ]
  },
  {
   "cell_type": "code",
   "execution_count": 7,
   "metadata": {},
   "outputs": [
    {
     "data": {
      "text/latex": [
       "$\\displaystyle x_{1}$"
      ],
      "text/plain": [
       "x_1"
      ]
     },
     "execution_count": 7,
     "metadata": {},
     "output_type": "execute_result"
    }
   ],
   "source": [
    "xx[1]   # comprobemos ahora cualquiera de los símbolos almacenados en dicha tupla"
   ]
  },
  {
   "cell_type": "markdown",
   "metadata": {},
   "source": [
    "## Primer planteamiento: a partir de los valores de la derivada primera $d_k \\equiv s'(x_k)$ en cada uno de los nodos de la partición $x_k,$ con $k = 0,1,\\ldots, n$."
   ]
  },
  {
   "cell_type": "code",
   "execution_count": 9,
   "metadata": {},
   "outputs": [],
   "source": [
    "x, x_k, x_kp, x_kpp = symbols('x, x_k, x_k+1, x_k+2')"
   ]
  },
  {
   "cell_type": "code",
   "execution_count": 10,
   "metadata": {},
   "outputs": [
    {
     "data": {
      "text/latex": [
       "$\\displaystyle x_{k+2}$"
      ],
      "text/plain": [
       "x_k+2"
      ]
     },
     "execution_count": 10,
     "metadata": {},
     "output_type": "execute_result"
    }
   ],
   "source": [
    "x_kpp"
   ]
  },
  {
   "cell_type": "code",
   "execution_count": 11,
   "metadata": {},
   "outputs": [],
   "source": [
    "y_k, y_kp, y_kpp = symbols('y_k, y_k+1, y_k+2')"
   ]
  },
  {
   "cell_type": "code",
   "execution_count": 12,
   "metadata": {},
   "outputs": [
    {
     "data": {
      "text/latex": [
       "$\\displaystyle y_{k+1}$"
      ],
      "text/plain": [
       "y_k+1"
      ]
     },
     "execution_count": 12,
     "metadata": {},
     "output_type": "execute_result"
    }
   ],
   "source": [
    "y_kp"
   ]
  },
  {
   "cell_type": "code",
   "execution_count": 13,
   "metadata": {},
   "outputs": [],
   "source": [
    "h_k, h_kp = symbols('h_k, h_k+1')"
   ]
  },
  {
   "cell_type": "code",
   "execution_count": 14,
   "metadata": {},
   "outputs": [],
   "source": [
    "Δ_k, Δ_kp = symbols('Δ_k, Δ_k+1')"
   ]
  },
  {
   "cell_type": "code",
   "execution_count": 15,
   "metadata": {},
   "outputs": [],
   "source": [
    "d_k, d_kp, d_kpp = symbols('d_k, d_k+1, d_k+2')"
   ]
  },
  {
   "cell_type": "code",
   "execution_count": 16,
   "metadata": {},
   "outputs": [],
   "source": [
    "baseH = (1, x-x_k, (x-x_k)**2, (x-x_k)**2*(x-x_kp))"
   ]
  },
  {
   "cell_type": "code",
   "execution_count": 17,
   "metadata": {},
   "outputs": [
    {
     "data": {
      "text/latex": [
       "$\\displaystyle \\left(x - x_{k}\\right)^{2} \\left(x - x_{k+1}\\right)$"
      ],
      "text/plain": [
       "(x - x_k)**2*(x - x_k+1)"
      ]
     },
     "execution_count": 17,
     "metadata": {},
     "output_type": "execute_result"
    }
   ],
   "source": [
    "baseH[3]"
   ]
  },
  {
   "cell_type": "code",
   "execution_count": 18,
   "metadata": {},
   "outputs": [
    {
     "data": {
      "text/plain": [
       "(c_0, c_1, c_2, c_3)"
      ]
     },
     "execution_count": 18,
     "metadata": {},
     "output_type": "execute_result"
    }
   ],
   "source": [
    "# cc = symbols('ck, dk, ek, fk')\n",
    "cc = symbols('c_:4')\n",
    "cc"
   ]
  },
  {
   "cell_type": "code",
   "execution_count": 19,
   "metadata": {},
   "outputs": [
    {
     "data": {
      "text/latex": [
       "$\\displaystyle c_{0}$"
      ],
      "text/plain": [
       "c_0"
      ]
     },
     "execution_count": 19,
     "metadata": {},
     "output_type": "execute_result"
    }
   ],
   "source": [
    "cc[0]"
   ]
  },
  {
   "cell_type": "code",
   "execution_count": 20,
   "metadata": {},
   "outputs": [
    {
     "data": {
      "text/plain": [
       "[(1, c_0),\n",
       " (x - x_k, c_1),\n",
       " ((x - x_k)**2, c_2),\n",
       " ((x - x_k)**2*(x - x_k+1), c_3)]"
      ]
     },
     "execution_count": 20,
     "metadata": {},
     "output_type": "execute_result"
    }
   ],
   "source": [
    "list(zip(baseH,cc)) \n",
    "# la orden 'zip' une un elemento de cada lista como si cerrara una cremallera"
   ]
  },
  {
   "cell_type": "code",
   "execution_count": 21,
   "metadata": {},
   "outputs": [
    {
     "data": {
      "text/latex": [
       "$\\displaystyle c_{0} + c_{1} \\left(x - x_{k}\\right) + c_{2} \\left(x - x_{k}\\right)^{2} + c_{3} \\left(x - x_{k}\\right)^{2} \\left(x - x_{k+1}\\right)$"
      ],
      "text/plain": [
       "c_0 + c_1*(x - x_k) + c_2*(x - x_k)**2 + c_3*(x - x_k)**2*(x - x_k+1)"
      ]
     },
     "execution_count": 21,
     "metadata": {},
     "output_type": "execute_result"
    }
   ],
   "source": [
    "# Veámos ahora cómo obtener la expresión de la cúbica a partir de la base de Hermite apropiada\n",
    "s_k = 0; # obteniendo cada término como producto del coeficiente por el elemento de la base corresp.\n",
    "for sumando in [termino[0]*termino[1] for termino in list(zip(baseH,cc))]: \n",
    "    s_k = s_k + sumando  # realizando la sumatoria de los términos uno a uno\n",
    "s_k"
   ]
  },
  {
   "cell_type": "code",
   "execution_count": 22,
   "metadata": {},
   "outputs": [
    {
     "data": {
      "text/latex": [
       "$\\displaystyle c_{0} + c_{1} \\left(x - x_{k}\\right) + c_{2} \\left(x - x_{k}\\right)^{2} + c_{3} \\left(x - x_{k}\\right)^{2} \\left(x - x_{k+1}\\right)$"
      ],
      "text/plain": [
       "c_0 + c_1*(x - x_k) + c_2*(x - x_k)**2 + c_3*(x - x_k)**2*(x - x_k+1)"
      ]
     },
     "execution_count": 22,
     "metadata": {},
     "output_type": "execute_result"
    }
   ],
   "source": [
    "sc_k = s_k.copy()   # hacemos una copia de esta expresión por si la necesitaramos más adelante\n",
    "sc_k                # que tendrá exactamente la misma expresión que la anterior"
   ]
  },
  {
   "cell_type": "code",
   "execution_count": 23,
   "metadata": {},
   "outputs": [
    {
     "data": {
      "text/latex": [
       "$\\displaystyle c_{0} = y_{k}$"
      ],
      "text/plain": [
       "Eq(c_0, y_k)"
      ]
     },
     "execution_count": 23,
     "metadata": {},
     "output_type": "execute_result"
    }
   ],
   "source": [
    "ec0 = Eq(s_k.subs({x:x_k}),y_k) # y empezamos a construir una a una, cada una de las ecuaciones\n",
    "ec0                             #  que deberá verificar este trozo de cúbica"
   ]
  },
  {
   "cell_type": "code",
   "execution_count": 24,
   "metadata": {},
   "outputs": [
    {
     "data": {
      "text/latex": [
       "$\\displaystyle y_{k}$"
      ],
      "text/plain": [
       "y_k"
      ]
     },
     "execution_count": 24,
     "metadata": {},
     "output_type": "execute_result"
    }
   ],
   "source": [
    "c0 = solve(ec0,cc[0])[0]   # y las iremos resolviendo también una a una a través de la orden solve\n",
    "c0"
   ]
  },
  {
   "cell_type": "code",
   "execution_count": 25,
   "metadata": {},
   "outputs": [
    {
     "data": {
      "text/plain": [
       "{c_0: y_k}"
      ]
     },
     "execution_count": 25,
     "metadata": {},
     "output_type": "execute_result"
    }
   ],
   "source": [
    "sols = {cc[0]: c0}    # una vez obtenida la solución la vamos incluyendo en un diccionario\n",
    "sols                  # que iremos poco a poco ampliando con las soluciones correspondientes"
   ]
  },
  {
   "cell_type": "code",
   "execution_count": 26,
   "metadata": {},
   "outputs": [
    {
     "data": {
      "text/latex": [
       "$\\displaystyle c_{1} + c_{2} \\cdot \\left(2 x - 2 x_{k}\\right) + c_{3} \\left(x - x_{k}\\right)^{2} + c_{3} \\left(x - x_{k+1}\\right) \\left(2 x - 2 x_{k}\\right)$"
      ],
      "text/plain": [
       "c_1 + c_2*(2*x - 2*x_k) + c_3*(x - x_k)**2 + c_3*(x - x_k+1)*(2*x - 2*x_k)"
      ]
     },
     "execution_count": 26,
     "metadata": {},
     "output_type": "execute_result"
    }
   ],
   "source": [
    "diff(s_k,x) # vemos ahora cómo realizar la derivada de esta expresión respecto de x"
   ]
  },
  {
   "cell_type": "code",
   "execution_count": 27,
   "metadata": {
    "scrolled": true
   },
   "outputs": [
    {
     "data": {
      "text/latex": [
       "$\\displaystyle c_{1} = d_{k}$"
      ],
      "text/plain": [
       "Eq(c_1, d_k)"
      ]
     },
     "execution_count": 27,
     "metadata": {},
     "output_type": "execute_result"
    }
   ],
   "source": [
    "ec1 = Eq(diff(s_k,x).simplify().subs({x:x_k}),d_k)\n",
    "ec1          # Esta sería la nueva ecuación"
   ]
  },
  {
   "cell_type": "code",
   "execution_count": 28,
   "metadata": {},
   "outputs": [
    {
     "data": {
      "text/latex": [
       "$\\displaystyle d_{k}$"
      ],
      "text/plain": [
       "d_k"
      ]
     },
     "execution_count": 28,
     "metadata": {},
     "output_type": "execute_result"
    }
   ],
   "source": [
    "c1 = solve(ec1,cc[1])[0]\n",
    "c1           # y esta la solución correspondiente"
   ]
  },
  {
   "cell_type": "code",
   "execution_count": 29,
   "metadata": {},
   "outputs": [],
   "source": [
    "sols[cc[1]] = c1  # que podemos segir añadiendo al diccionario de soluciones"
   ]
  },
  {
   "cell_type": "code",
   "execution_count": 30,
   "metadata": {},
   "outputs": [
    {
     "data": {
      "text/plain": [
       "{c_0: y_k, c_1: d_k}"
      ]
     },
     "execution_count": 30,
     "metadata": {},
     "output_type": "execute_result"
    }
   ],
   "source": [
    "sols"
   ]
  },
  {
   "cell_type": "code",
   "execution_count": 31,
   "metadata": {},
   "outputs": [
    {
     "data": {
      "text/latex": [
       "$\\displaystyle c_{2} \\left(x - x_{k}\\right)^{2} + c_{3} \\left(x - x_{k}\\right)^{2} \\left(x - x_{k+1}\\right) + d_{k} \\left(x - x_{k}\\right) + y_{k}$"
      ],
      "text/plain": [
       "c_2*(x - x_k)**2 + c_3*(x - x_k)**2*(x - x_k+1) + d_k*(x - x_k) + y_k"
      ]
     },
     "execution_count": 31,
     "metadata": {},
     "output_type": "execute_result"
    }
   ],
   "source": [
    "s_k = s_k.subs(sols)   # Así podríamos empezar ya a ir sustituyendo dichas soluciones\n",
    "s_k                    # en la expresión genérica inicial, donde vemos claramente\n",
    "# que aún quedaría por despejar los otros dos coeficientes de los términos de mayor grado."
   ]
  },
  {
   "cell_type": "code",
   "execution_count": 32,
   "metadata": {},
   "outputs": [
    {
     "data": {
      "text/latex": [
       "$\\displaystyle c_{2} h_{k}^{2} + d_{k} h_{k} + y_{k}$"
      ],
      "text/plain": [
       "c_2*h_k**2 + d_k*h_k + y_k"
      ]
     },
     "execution_count": 32,
     "metadata": {},
     "output_type": "execute_result"
    }
   ],
   "source": [
    "s_k.subs({x:x_kp}).subs({x_kp-x_k:h_k})"
   ]
  },
  {
   "cell_type": "code",
   "execution_count": 33,
   "metadata": {},
   "outputs": [
    {
     "data": {
      "text/latex": [
       "$\\displaystyle c_{2} h_{k}^{2} + d_{k} h_{k} + y_{k} = y_{k+1}$"
      ],
      "text/plain": [
       "Eq(c_2*h_k**2 + d_k*h_k + y_k, y_k+1)"
      ]
     },
     "execution_count": 33,
     "metadata": {},
     "output_type": "execute_result"
    }
   ],
   "source": [
    "ec2 = Eq(s_k.subs({x:x_kp}).subs({x_kp-x_k:h_k}),y_kp)\n",
    "# ec2 = ec2.subs('−𝑥𝑘+𝑥𝑘𝑝':'hk')\n",
    "ec2       # por lo que tendremos que seguir imponiendo los otros dos datos que faltan"
   ]
  },
  {
   "cell_type": "code",
   "execution_count": 34,
   "metadata": {},
   "outputs": [
    {
     "data": {
      "text/latex": [
       "$\\displaystyle \\frac{- d_{k} h_{k} - y_{k} + y_{k+1}}{h_{k}^{2}}$"
      ],
      "text/plain": [
       "(-d_k*h_k - y_k + y_k+1)/h_k**2"
      ]
     },
     "execution_count": 34,
     "metadata": {},
     "output_type": "execute_result"
    }
   ],
   "source": [
    "c2 = solve(ec2,cc[2])[0]  # e ir resolviendo estas ecuaciones paso a paso, pero sólo\n",
    "c2                        # porque el sistema lineal que obtenemos es triangular"
   ]
  },
  {
   "cell_type": "code",
   "execution_count": 35,
   "metadata": {},
   "outputs": [],
   "source": [
    "sols[cc[2]] = c2        # añadimos también esta solución al diccionario con el resto"
   ]
  },
  {
   "cell_type": "code",
   "execution_count": 36,
   "metadata": {},
   "outputs": [
    {
     "data": {
      "text/plain": [
       "{c_0: y_k, c_1: d_k, c_2: (-d_k*h_k - y_k + y_k+1)/h_k**2}"
      ]
     },
     "execution_count": 36,
     "metadata": {},
     "output_type": "execute_result"
    }
   ],
   "source": [
    "sols"
   ]
  },
  {
   "cell_type": "code",
   "execution_count": 37,
   "metadata": {},
   "outputs": [
    {
     "data": {
      "text/latex": [
       "$\\displaystyle c_{3} \\left(x - x_{k}\\right)^{2} \\left(x - x_{k+1}\\right) + d_{k} \\left(x - x_{k}\\right) + y_{k} + \\frac{\\left(x - x_{k}\\right)^{2} \\left(- d_{k} h_{k} - y_{k} + y_{k+1}\\right)}{h_{k}^{2}}$"
      ],
      "text/plain": [
       "c_3*(x - x_k)**2*(x - x_k+1) + d_k*(x - x_k) + y_k + (x - x_k)**2*(-d_k*h_k - y_k + y_k+1)/h_k**2"
      ]
     },
     "execution_count": 37,
     "metadata": {},
     "output_type": "execute_result"
    }
   ],
   "source": [
    "s_k = s_k.subs(sols)     # que podemos sustituir de nuevo en la expresión general\n",
    "s_k                      # de este trozo de cúbica en el intervalo [x_k, x_k+1]"
   ]
  },
  {
   "cell_type": "code",
   "execution_count": 38,
   "metadata": {},
   "outputs": [
    {
     "data": {
      "text/latex": [
       "$\\displaystyle \\frac{h_{k}^{2} \\left(c_{3} \\left(- x_{k} + x_{k+1}\\right)^{2} + d_{k}\\right) - 2 \\left(- x_{k} + x_{k+1}\\right) \\left(d_{k} h_{k} + y_{k} - y_{k+1}\\right)}{h_{k}^{2}} = d_{k+1}$"
      ],
      "text/plain": [
       "Eq((h_k**2*(c_3*(-x_k + x_k+1)**2 + d_k) - 2*(-x_k + x_k+1)*(d_k*h_k + y_k - y_k+1))/h_k**2, d_k+1)"
      ]
     },
     "execution_count": 38,
     "metadata": {},
     "output_type": "execute_result"
    }
   ],
   "source": [
    "ec3 = Eq(diff(s_k,x).simplify().subs({x:x_kp}),d_kp)\n",
    "ec3  # y ya sólo nos quedaría la última ecuación a considerar"
   ]
  },
  {
   "cell_type": "code",
   "execution_count": 39,
   "metadata": {},
   "outputs": [
    {
     "data": {
      "text/latex": [
       "$\\displaystyle \\frac{h_{k}^{2} \\left(c_{3} h_{k}^{2} + d_{k}\\right) - 2 h_{k} \\left(d_{k} h_{k} + y_{k} - y_{k+1}\\right)}{h_{k}^{2}} = d_{k+1}$"
      ],
      "text/plain": [
       "Eq((h_k**2*(c_3*h_k**2 + d_k) - 2*h_k*(d_k*h_k + y_k - y_k+1))/h_k**2, d_k+1)"
      ]
     },
     "execution_count": 39,
     "metadata": {},
     "output_type": "execute_result"
    }
   ],
   "source": [
    "ec3 = ec3.subs({x_kp-x_k:h_k})\n",
    "ec3"
   ]
  },
  {
   "cell_type": "code",
   "execution_count": 40,
   "metadata": {},
   "outputs": [
    {
     "data": {
      "text/latex": [
       "$\\displaystyle \\frac{h_{k} \\left(d_{k} + d_{k+1}\\right) + 2 y_{k} - 2 y_{k+1}}{h_{k}^{3}}$"
      ],
      "text/plain": [
       "(h_k*(d_k + d_k+1) + 2*y_k - 2*y_k+1)/h_k**3"
      ]
     },
     "execution_count": 40,
     "metadata": {},
     "output_type": "execute_result"
    }
   ],
   "source": [
    "c3 = solve(ec3,cc[3])[0]  # que volvemos a resolver con la orden 'solve' de Sympy\n",
    "c3    "
   ]
  },
  {
   "cell_type": "code",
   "execution_count": 41,
   "metadata": {},
   "outputs": [
    {
     "data": {
      "text/plain": [
       "{c_0: y_k,\n",
       " c_1: d_k,\n",
       " c_2: (-d_k*h_k - y_k + y_k+1)/h_k**2,\n",
       " c_3: (h_k*(d_k + d_k+1) + 2*y_k - 2*y_k+1)/h_k**3}"
      ]
     },
     "execution_count": 41,
     "metadata": {},
     "output_type": "execute_result"
    }
   ],
   "source": [
    "sols[cc[3]] = c3     # y terminamos de añadirla al correspondiente diccionario\n",
    "sols"
   ]
  },
  {
   "cell_type": "code",
   "execution_count": 42,
   "metadata": {},
   "outputs": [],
   "source": [
    "solsbis = sols.copy()  # esto sirve para hacer una copia de estas soluciones en otro diccionario\n",
    "# distinto del de partida y poder hacer allí tantas modificaciones creamos convenientes"
   ]
  },
  {
   "cell_type": "code",
   "execution_count": 43,
   "metadata": {},
   "outputs": [
    {
     "data": {
      "text/latex": [
       "$\\displaystyle c_{2}$"
      ],
      "text/plain": [
       "c_2"
      ]
     },
     "execution_count": 43,
     "metadata": {},
     "output_type": "execute_result"
    }
   ],
   "source": [
    "cc[2]"
   ]
  },
  {
   "cell_type": "code",
   "execution_count": 44,
   "metadata": {},
   "outputs": [
    {
     "data": {
      "text/latex": [
       "$\\displaystyle \\frac{- d_{k} h_{k} - y_{k} + y_{k+1}}{h_{k}^{2}}$"
      ],
      "text/plain": [
       "(-d_k*h_k - y_k + y_k+1)/h_k**2"
      ]
     },
     "execution_count": 44,
     "metadata": {},
     "output_type": "execute_result"
    }
   ],
   "source": [
    "# Vamos a ir operando poco a poco con cada término ya calculado\n",
    "sols[cc[2]]        "
   ]
  },
  {
   "cell_type": "code",
   "execution_count": 45,
   "metadata": {},
   "outputs": [
    {
     "data": {
      "text/latex": [
       "$\\displaystyle - \\frac{d_{k}}{h_{k}} - \\frac{y_{k}}{h_{k}^{2}} + \\frac{y_{k+1}}{h_{k}^{2}}$"
      ],
      "text/plain": [
       "-d_k/h_k - y_k/h_k**2 + y_k+1/h_k**2"
      ]
     },
     "execution_count": 45,
     "metadata": {},
     "output_type": "execute_result"
    }
   ],
   "source": [
    "sols[cc[2]].expand()  # este nos servirá de ejemplo para otros casos"
   ]
  },
  {
   "cell_type": "code",
   "execution_count": 46,
   "metadata": {},
   "outputs": [
    {
     "data": {
      "text/latex": [
       "$\\displaystyle - \\frac{d_{k}}{h_{k}} + \\frac{Δ_{k}}{h_{k}}$"
      ],
      "text/plain": [
       "-d_k/h_k + Δ_k/h_k"
      ]
     },
     "execution_count": 46,
     "metadata": {},
     "output_type": "execute_result"
    }
   ],
   "source": [
    "sols[cc[2]].expand().subs({y_kp/h_k**2-y_k/h_k**2:Δ_k/h_k})"
   ]
  },
  {
   "cell_type": "code",
   "execution_count": 47,
   "metadata": {},
   "outputs": [
    {
     "data": {
      "text/latex": [
       "$\\displaystyle \\frac{- d_{k} + Δ_{k}}{h_{k}}$"
      ],
      "text/plain": [
       "(-d_k + Δ_k)/h_k"
      ]
     },
     "execution_count": 47,
     "metadata": {},
     "output_type": "execute_result"
    }
   ],
   "source": [
    "# pero que pretendemos intentar normalizar y automatizar ahora\n",
    "solsbis[cc[2]] = collect(sols[cc[2]],d_k).subs({x_k-x_kp:-h_k}).expand().subs({y_kp/h_k**2-y_k/h_k**2:Δ_k/h_k})\n",
    "solsbis[cc[2]] = collect(solsbis[cc[2]],1/h_k)\n",
    "solsbis[cc[2]]     "
   ]
  },
  {
   "cell_type": "code",
   "execution_count": 48,
   "metadata": {},
   "outputs": [
    {
     "data": {
      "text/latex": [
       "$\\displaystyle \\frac{h_{k} \\left(d_{k} + d_{k+1}\\right) + 2 y_{k} - 2 y_{k+1}}{h_{k}^{3}}$"
      ],
      "text/plain": [
       "(h_k*(d_k + d_k+1) + 2*y_k - 2*y_k+1)/h_k**3"
      ]
     },
     "execution_count": 48,
     "metadata": {},
     "output_type": "execute_result"
    }
   ],
   "source": [
    "# este sería otro de los términos con los que seguir trabajando\n",
    "solsbis[cc[3]] "
   ]
  },
  {
   "cell_type": "code",
   "execution_count": 49,
   "metadata": {},
   "outputs": [
    {
     "data": {
      "text/latex": [
       "$\\displaystyle \\frac{d_{k}}{h_{k}^{2}} + \\frac{d_{k+1}}{h_{k}^{2}} + \\frac{2 y_{k}}{h_{k}^{3}} - \\frac{2 y_{k+1}}{h_{k}^{3}}$"
      ],
      "text/plain": [
       "d_k/h_k**2 + d_k+1/h_k**2 + 2*y_k/h_k**3 - 2*y_k+1/h_k**3"
      ]
     },
     "execution_count": 49,
     "metadata": {},
     "output_type": "execute_result"
    }
   ],
   "source": [
    "solsbis[cc[3]].expand()       # que ahora podemos expandir"
   ]
  },
  {
   "cell_type": "code",
   "execution_count": 50,
   "metadata": {},
   "outputs": [
    {
     "data": {
      "text/latex": [
       "$\\displaystyle \\frac{d_{k}}{h_{k}^{2}} + \\frac{d_{k+1}}{h_{k}^{2}} - \\frac{2 Δ_{k}}{h_{k}^{2}}$"
      ],
      "text/plain": [
       "d_k/h_k**2 + d_k+1/h_k**2 - 2*Δ_k/h_k**2"
      ]
     },
     "execution_count": 50,
     "metadata": {},
     "output_type": "execute_result"
    }
   ],
   "source": [
    "solsbis[cc[3]].expand().subs({2*y_kp/h_k**3-2*y_k/h_k**3:2*Δ_k/h_k**2})  \n",
    "# y transformar como antes"
   ]
  },
  {
   "cell_type": "code",
   "execution_count": 51,
   "metadata": {},
   "outputs": [
    {
     "data": {
      "text/latex": [
       "$\\displaystyle \\frac{d_{k} + d_{k+1} - 2 Δ_{k}}{h_{k}^{2}}$"
      ],
      "text/plain": [
       "(d_k + d_k+1 - 2*Δ_k)/h_k**2"
      ]
     },
     "execution_count": 51,
     "metadata": {},
     "output_type": "execute_result"
    }
   ],
   "source": [
    "# escribiéndolo ahora todo en una misma fracción, por ejemplo\n",
    "solsbis[cc[3]].expand().subs({2*y_kp/h_k**3-2*y_k/h_k**3:2*Δ_k/h_k**2}) .together()   "
   ]
  },
  {
   "cell_type": "code",
   "execution_count": 52,
   "metadata": {},
   "outputs": [
    {
     "name": "stdout",
     "output_type": "stream",
     "text": [
      "(d_k + d_k+1 - 2*Δ_k)/h_k**2\n"
     ]
    }
   ],
   "source": [
    "# que podemos ahora imprimir, para poder pegarlo más abajo\n",
    "print(solsbis[cc[3]].expand().subs({2*y_kp/h_k**3-2*y_k/h_k**3:2*Δ_k/h_k**2}) .together() )  "
   ]
  },
  {
   "cell_type": "code",
   "execution_count": 53,
   "metadata": {},
   "outputs": [],
   "source": [
    "solsbis[cc[3]] = (d_k + d_kp - 2*Δ_k)/h_k**2  \n",
    "# esta sería la expresión final buscada"
   ]
  },
  {
   "cell_type": "code",
   "execution_count": 54,
   "metadata": {},
   "outputs": [
    {
     "data": {
      "text/plain": [
       "{c_0: y_k, c_1: d_k, c_2: (-d_k + Δ_k)/h_k, c_3: (d_k + d_k+1 - 2*Δ_k)/h_k**2}"
      ]
     },
     "execution_count": 54,
     "metadata": {},
     "output_type": "execute_result"
    }
   ],
   "source": [
    "# los otros coeficientes no necesitarían tantas modificaciones\n",
    "solsbis  "
   ]
  },
  {
   "cell_type": "code",
   "execution_count": 55,
   "metadata": {},
   "outputs": [
    {
     "data": {
      "text/plain": [
       "{c_0: y_k,\n",
       " c_1: d_k,\n",
       " c_2: (-d_k*h_k - y_k + y_k+1)/h_k**2,\n",
       " c_3: (h_k*(d_k + d_k+1) + 2*y_k - 2*y_k+1)/h_k**3}"
      ]
     },
     "execution_count": 55,
     "metadata": {},
     "output_type": "execute_result"
    }
   ],
   "source": [
    "# recordamos por otro lado la expresión original de los mismos\n",
    "sols"
   ]
  },
  {
   "cell_type": "code",
   "execution_count": 56,
   "metadata": {},
   "outputs": [
    {
     "data": {
      "text/latex": [
       "$\\displaystyle d_{k} \\left(x - x_{k}\\right) + y_{k} + \\frac{\\left(- d_{k} + Δ_{k}\\right) \\left(x - x_{k}\\right)^{2}}{h_{k}} + \\frac{\\left(x - x_{k}\\right)^{2} \\left(x - x_{k+1}\\right) \\left(d_{k} + d_{k+1} - 2 Δ_{k}\\right)}{h_{k}^{2}}$"
      ],
      "text/plain": [
       "d_k*(x - x_k) + y_k + (-d_k + Δ_k)*(x - x_k)**2/h_k + (x - x_k)**2*(x - x_k+1)*(d_k + d_k+1 - 2*Δ_k)/h_k**2"
      ]
     },
     "execution_count": 56,
     "metadata": {},
     "output_type": "execute_result"
    }
   ],
   "source": [
    "# para obtener la expresión final de la cúbica que buscábamos\n",
    "sc_k.subs(solsbis)   # simplemente sustituimos estos valores\n",
    "# en la expresión general de la misma."
   ]
  },
  {
   "cell_type": "code",
   "execution_count": 57,
   "metadata": {},
   "outputs": [],
   "source": [
    "s_k = s_k.subs(sols)  \n",
    "# esta sería otra expresión equivalente de la misma cúbica\n",
    "sc_k = sc_k.subs(solsbis)"
   ]
  },
  {
   "cell_type": "code",
   "execution_count": 58,
   "metadata": {},
   "outputs": [
    {
     "data": {
      "text/plain": [
       "(y_k, y_k+1)"
      ]
     },
     "execution_count": 58,
     "metadata": {},
     "output_type": "execute_result"
    }
   ],
   "source": [
    "# comprobaciones sobre las condiciones de tipo Lagrange\n",
    "simplify(s_k.subs({x:x_k})), simplify(s_k.subs({x:x_kp}).subs({x_k-x_kp:-h_k}))"
   ]
  },
  {
   "cell_type": "code",
   "execution_count": 59,
   "metadata": {},
   "outputs": [
    {
     "data": {
      "text/plain": [
       "(y_k, y_k+1)"
      ]
     },
     "execution_count": 59,
     "metadata": {},
     "output_type": "execute_result"
    }
   ],
   "source": [
    "simplify(sc_k.subs({x:x_k})), simplify(sc_k.subs({x:x_kp}).subs({x_k-x_kp:-h_k}).subs({Δ_k:(y_kp-y_k)/h_k}))"
   ]
  },
  {
   "cell_type": "code",
   "execution_count": 60,
   "metadata": {},
   "outputs": [
    {
     "data": {
      "text/latex": [
       "$\\displaystyle d_{k}$"
      ],
      "text/plain": [
       "d_k"
      ]
     },
     "execution_count": 60,
     "metadata": {},
     "output_type": "execute_result"
    }
   ],
   "source": [
    "# comprobaciones sobre las condiciones de tipo Hermite\n",
    "simplify(diff(s_k,x).subs({x:x_k}))"
   ]
  },
  {
   "cell_type": "code",
   "execution_count": 61,
   "metadata": {},
   "outputs": [
    {
     "data": {
      "text/latex": [
       "$\\displaystyle d_{k+1}$"
      ],
      "text/plain": [
       "d_k+1"
      ]
     },
     "execution_count": 61,
     "metadata": {},
     "output_type": "execute_result"
    }
   ],
   "source": [
    "expand(simplify((diff(s_k,x).subs({x:x_kp}))).subs({x_k-x_kp:-h_k}))"
   ]
  },
  {
   "cell_type": "code",
   "execution_count": 62,
   "metadata": {},
   "outputs": [
    {
     "data": {
      "text/plain": [
       "(y_k, d_k)"
      ]
     },
     "execution_count": 62,
     "metadata": {},
     "output_type": "execute_result"
    }
   ],
   "source": [
    "# Realizamos ahora estas mismas comprobaciones para la otra expresión alternativa\n",
    "simplify(sc_k.subs({x:x_k})), simplify(diff(sc_k,x).subs({x:x_k}))"
   ]
  },
  {
   "cell_type": "code",
   "execution_count": 63,
   "metadata": {},
   "outputs": [
    {
     "data": {
      "text/latex": [
       "$\\displaystyle d_{k}$"
      ],
      "text/plain": [
       "d_k"
      ]
     },
     "execution_count": 63,
     "metadata": {},
     "output_type": "execute_result"
    }
   ],
   "source": [
    "simplify(diff(sc_k,x).subs({x:x_k}))"
   ]
  },
  {
   "cell_type": "code",
   "execution_count": 64,
   "metadata": {},
   "outputs": [
    {
     "data": {
      "text/latex": [
       "$\\displaystyle \\frac{h_{k} \\left(- d_{k} \\left(x_{k} - x_{k+1}\\right) + y_{k}\\right) + \\left(- d_{k} + Δ_{k}\\right) \\left(x_{k} - x_{k+1}\\right)^{2}}{h_{k}}$"
      ],
      "text/plain": [
       "(h_k*(-d_k*(x_k - x_k+1) + y_k) + (-d_k + Δ_k)*(x_k - x_k+1)**2)/h_k"
      ]
     },
     "execution_count": 64,
     "metadata": {},
     "output_type": "execute_result"
    }
   ],
   "source": [
    "simplify(sc_k.subs({x:x_kp}))   # vemos que en este caso se requiere algo más de esfuerzo"
   ]
  },
  {
   "cell_type": "code",
   "execution_count": 65,
   "metadata": {},
   "outputs": [
    {
     "data": {
      "text/latex": [
       "$\\displaystyle y_{k+1}$"
      ],
      "text/plain": [
       "y_k+1"
      ]
     },
     "execution_count": 65,
     "metadata": {},
     "output_type": "execute_result"
    }
   ],
   "source": [
    "simplify(factor(sc_k.subs({x:x_kp}).subs({x_k-x_kp:-h_k}))).subs({Δ_k:(y_kp-y_k)/h_k})"
   ]
  },
  {
   "cell_type": "code",
   "execution_count": 66,
   "metadata": {},
   "outputs": [
    {
     "data": {
      "text/latex": [
       "$\\displaystyle d_{k+1}$"
      ],
      "text/plain": [
       "d_k+1"
      ]
     },
     "execution_count": 66,
     "metadata": {},
     "output_type": "execute_result"
    }
   ],
   "source": [
    "diff(sc_k,x).subs({x:x_kp}).subs({h_k:x_kp-x_k}).subs({Δ_k:(y_kp-y_k)/(x_kp-x_k)}).factor()"
   ]
  },
  {
   "cell_type": "code",
   "execution_count": 67,
   "metadata": {},
   "outputs": [
    {
     "data": {
      "text/latex": [
       "$\\displaystyle d_{k+1}$"
      ],
      "text/plain": [
       "d_k+1"
      ]
     },
     "execution_count": 67,
     "metadata": {},
     "output_type": "execute_result"
    }
   ],
   "source": [
    "# esta sería otra manera de obtener lo mismo\n",
    "expand(simplify((diff(sc_k,x).subs({x:x_kp}))).subs({x_k-x_kp:-h_k}))"
   ]
  },
  {
   "cell_type": "code",
   "execution_count": 68,
   "metadata": {},
   "outputs": [
    {
     "data": {
      "text/latex": [
       "$\\displaystyle d_{k} \\left(x - x_{k}\\right) + y_{k} + \\frac{\\left(- d_{k} + Δ_{k}\\right) \\left(x - x_{k}\\right)^{2}}{h_{k}} + \\frac{\\left(x - x_{k}\\right)^{2} \\left(x - x_{k+1}\\right) \\left(d_{k} + d_{k+1} - 2 Δ_{k}\\right)}{h_{k}^{2}}$"
      ],
      "text/plain": [
       "d_k*(x - x_k) + y_k + (-d_k + Δ_k)*(x - x_k)**2/h_k + (x - x_k)**2*(x - x_k+1)*(d_k + d_k+1 - 2*Δ_k)/h_k**2"
      ]
     },
     "execution_count": 68,
     "metadata": {},
     "output_type": "execute_result"
    }
   ],
   "source": [
    "sc_k"
   ]
  },
  {
   "cell_type": "code",
   "execution_count": 69,
   "metadata": {},
   "outputs": [
    {
     "name": "stdout",
     "output_type": "stream",
     "text": [
      "d_{k} \\left(x - x_{k}\\right) + y_{k} + \\frac{\\left(- d_{k} + Δ_{k}\\right) \\left(x - x_{k}\\right)^{2}}{h_{k}} + \\frac{\\left(x - x_{k}\\right)^{2} \\left(x - x_{k+1}\\right) \\left(d_{k} + d_{k+1} - 2 Δ_{k}\\right)}{h_{k}^{2}}\n"
     ]
    }
   ],
   "source": [
    "# cuya expresión en LaTeX podemos imprimir ahora\n",
    "print(latex(sc_k)) # y usarla justo a continuación"
   ]
  },
  {
   "cell_type": "markdown",
   "metadata": {},
   "source": [
    "$$s_k(x) = d_{k} \\left(x - x_{k}\\right) + y_{k} + \\frac{\\left(- d_{k} + Δ_{k}\\right) \\left(x - x_{k}\\right)^{2}}{h_{k}} + \\frac{\\left(x - x_{k}\\right)^{2} \\left(x - x_{k+1}\\right) \\left(d_{k} + d_{k+1} - 2 Δ_{k}\\right)}{h_{k}^{2}}, \\quad \\forall k = 0, \\ldots, n-1$$"
   ]
  },
  {
   "cell_type": "code",
   "execution_count": 71,
   "metadata": {},
   "outputs": [
    {
     "data": {
      "text/latex": [
       "$\\displaystyle d_{k+1} \\left(x - x_{k+1}\\right) + y_{k+1} + \\frac{\\left(- d_{k+1} + Δ_{k+1}\\right) \\left(x - x_{k+1}\\right)^{2}}{h_{k+1}} + \\frac{\\left(x - x_{k+1}\\right)^{2} \\left(x - x_{k+2}\\right) \\left(d_{k+1} + d_{k+2} - 2 Δ_{k+1}\\right)}{h_{k+1}^{2}}$"
      ],
      "text/plain": [
       "d_k+1*(x - x_k+1) + y_k+1 + (-d_k+1 + Δ_k+1)*(x - x_k+1)**2/h_k+1 + (x - x_k+1)**2*(x - x_k+2)*(d_k+1 + d_k+2 - 2*Δ_k+1)/h_k+1**2"
      ]
     },
     "execution_count": 71,
     "metadata": {},
     "output_type": "execute_result"
    }
   ],
   "source": [
    "# A continuación buscamos la expresión correspondiente al\n",
    "# siguiente trozo de cúbica en el subintervalo [x_k+1, x_k+2]\n",
    "sc_kp = sc_k.subs({x_kp:x_kpp,d_kp:d_kpp}).subs({d_k:d_kp, y_k:y_kp, h_k:h_kp, x_k:x_kp,Δ_k:Δ_kp})\n",
    "sc_kp  # y vemos que basta con aumentar una unidad el índice k"
   ]
  },
  {
   "cell_type": "markdown",
   "metadata": {},
   "source": [
    "Y a continuación es cuando vamos a imponer la igualdad de las correspondientes derivadas segundas en el nodo común de ambos trozos de cúbica adyacentes; es decir, impondremos la condición:\n",
    "\n",
    "$$s_k''(x_{k+1}) = s_{k+1}''(x_{k+1}), \\quad \\forall k = 0, \\ldots, n-2$$"
   ]
  },
  {
   "cell_type": "code",
   "execution_count": 73,
   "metadata": {},
   "outputs": [
    {
     "data": {
      "text/latex": [
       "$\\displaystyle \\frac{2 \\left(d_{k} + 2 d_{k+1} - 3 Δ_{k}\\right)}{h_{k}}$"
      ],
      "text/plain": [
       "2*(d_k + 2*d_k+1 - 3*Δ_k)/h_k"
      ]
     },
     "execution_count": 73,
     "metadata": {},
     "output_type": "execute_result"
    }
   ],
   "source": [
    "expr1 = diff(sc_k,x,2).subs({x:x_kp}).subs({x_k-x_kp:-h_k}).simplify()\n",
    "expr1"
   ]
  },
  {
   "cell_type": "code",
   "execution_count": 74,
   "metadata": {},
   "outputs": [
    {
     "data": {
      "text/latex": [
       "$\\displaystyle \\frac{2 \\left(- 2 d_{k+1} - d_{k+2} + 3 Δ_{k+1}\\right)}{h_{k+1}}$"
      ],
      "text/plain": [
       "2*(-2*d_k+1 - d_k+2 + 3*Δ_k+1)/h_k+1"
      ]
     },
     "execution_count": 74,
     "metadata": {},
     "output_type": "execute_result"
    }
   ],
   "source": [
    "expr2 = diff(sc_kp,x,2).subs({x:x_kp}).subs({x_kp-x_kpp:-h_kp}).simplify()\n",
    "expr2"
   ]
  },
  {
   "cell_type": "code",
   "execution_count": 75,
   "metadata": {},
   "outputs": [
    {
     "data": {
      "text/latex": [
       "$\\displaystyle \\frac{2 d_{k}}{h_{k}} + d_{k+1} \\cdot \\left(\\frac{4}{h_{k+1}} + \\frac{4}{h_{k}}\\right) + \\frac{2 d_{k+2}}{h_{k+1}} - \\frac{6 Δ_{k+1}}{h_{k+1}} - \\frac{6 Δ_{k}}{h_{k}}$"
      ],
      "text/plain": [
       "2*d_k/h_k + d_k+1*(4/h_k+1 + 4/h_k) + 2*d_k+2/h_k+1 - 6*Δ_k+1/h_k+1 - 6*Δ_k/h_k"
      ]
     },
     "execution_count": 75,
     "metadata": {},
     "output_type": "execute_result"
    }
   ],
   "source": [
    "# veámos pues qué obtenemos restando ambas expresiones\n",
    "collect(expand(expr1-expr2),[d_k,d_kp,d_kpp])"
   ]
  },
  {
   "cell_type": "code",
   "execution_count": 76,
   "metadata": {},
   "outputs": [
    {
     "data": {
      "text/latex": [
       "$\\displaystyle \\frac{d_{k}}{h_{k}} + \\frac{d_{k+1} \\cdot \\left(\\frac{4}{h_{k+1}} + \\frac{4}{h_{k}}\\right)}{2} + \\frac{d_{k+2}}{h_{k+1}} - \\frac{3 Δ_{k+1}}{h_{k+1}} - \\frac{3 Δ_{k}}{h_{k}}$"
      ],
      "text/plain": [
       "d_k/h_k + d_k+1*(4/h_k+1 + 4/h_k)/2 + d_k+2/h_k+1 - 3*Δ_k+1/h_k+1 - 3*Δ_k/h_k"
      ]
     },
     "execution_count": 76,
     "metadata": {},
     "output_type": "execute_result"
    }
   ],
   "source": [
    "# que podemos perfectamente dividir entre 2, al estar supuestamente igualado a cero todo\n",
    "collect(expand(expr1-expr2),[d_k,d_kp,d_kpp])/2"
   ]
  },
  {
   "cell_type": "code",
   "execution_count": 77,
   "metadata": {},
   "outputs": [
    {
     "data": {
      "text/plain": [
       "{d_k: 1/h_k,\n",
       " d_k+2: 1/h_k+1,\n",
       " d_k+1: 2/h_k+1 + 2/h_k,\n",
       " 1: -3*Δ_k+1/h_k+1 - 3*Δ_k/h_k}"
      ]
     },
     "execution_count": 77,
     "metadata": {},
     "output_type": "execute_result"
    }
   ],
   "source": [
    "terminos = collect(expand(expr1-expr2)/2,[d_k,d_kp,d_kpp], evaluate=False)\n",
    "terminos  # estos sería término a término los factores a tener en cuenta"
   ]
  },
  {
   "cell_type": "markdown",
   "metadata": {},
   "source": [
    "Y de aquí sería ahora de donde podríamos ir sacando los coeficientes que deberán aparecer tanto en la matriz como en el vector de términos independientes del correspondiente sistema lineal que habrá que resolver. Veámos cómo hacerlo, paso a paso."
   ]
  },
  {
   "cell_type": "code",
   "execution_count": 79,
   "metadata": {},
   "outputs": [
    {
     "data": {
      "text/latex": [
       "$\\displaystyle \\frac{1}{h_{k}}$"
      ],
      "text/plain": [
       "1/h_k"
      ]
     },
     "execution_count": 79,
     "metadata": {},
     "output_type": "execute_result"
    }
   ],
   "source": [
    "terminos[d_k]  # factor multiplicativo del término d_k\n"
   ]
  },
  {
   "cell_type": "code",
   "execution_count": 80,
   "metadata": {},
   "outputs": [
    {
     "data": {
      "text/latex": [
       "$\\displaystyle \\frac{2}{h_{k+1}} + \\frac{2}{h_{k}}$"
      ],
      "text/plain": [
       "2/h_k+1 + 2/h_k"
      ]
     },
     "execution_count": 80,
     "metadata": {},
     "output_type": "execute_result"
    }
   ],
   "source": [
    "terminos[d_kp]  # factor multiplicativo del término d_k+1"
   ]
  },
  {
   "cell_type": "code",
   "execution_count": 81,
   "metadata": {},
   "outputs": [
    {
     "data": {
      "text/latex": [
       "$\\displaystyle \\frac{1}{h_{k+1}}$"
      ],
      "text/plain": [
       "1/h_k+1"
      ]
     },
     "execution_count": 81,
     "metadata": {},
     "output_type": "execute_result"
    }
   ],
   "source": [
    "terminos[d_kpp] # factor multiplicativo del término d_k+2"
   ]
  },
  {
   "cell_type": "code",
   "execution_count": 82,
   "metadata": {},
   "outputs": [
    {
     "data": {
      "text/latex": [
       "$\\displaystyle - \\frac{3 Δ_{k+1}}{h_{k+1}} - \\frac{3 Δ_{k}}{h_{k}}$"
      ],
      "text/plain": [
       "-3*Δ_k+1/h_k+1 - 3*Δ_k/h_k"
      ]
     },
     "execution_count": 82,
     "metadata": {},
     "output_type": "execute_result"
    }
   ],
   "source": [
    "terminos[1]    # y estos cambiados de signo serían los valores\n",
    "# del vector de términos independientes correspondientes a esa\n",
    "# ecuación"
   ]
  },
  {
   "cell_type": "code",
   "execution_count": 83,
   "metadata": {},
   "outputs": [
    {
     "data": {
      "text/latex": [
       "$\\displaystyle \\frac{d_{k}}{h_{k}} + d_{k+1} \\cdot \\left(\\frac{2}{h_{k+1}} + \\frac{2}{h_{k}}\\right) + \\frac{d_{k+2}}{h_{k+1}} = \\frac{3 Δ_{k+1}}{h_{k+1}} + \\frac{3 Δ_{k}}{h_{k}}$"
      ],
      "text/plain": [
       "Eq(d_k/h_k + d_k+1*(2/h_k+1 + 2/h_k) + d_k+2/h_k+1, 3*Δ_k+1/h_k+1 + 3*Δ_k/h_k)"
      ]
     },
     "execution_count": 83,
     "metadata": {},
     "output_type": "execute_result"
    }
   ],
   "source": [
    "# Veámos escrita completa dicha ecuación\n",
    "ecsplinescubicosC2 = Eq(terminos[d_k]*d_k+terminos[d_kp]*d_kp+terminos[d_kpp]*d_kpp,-terminos[1])\n",
    "ecsplinescubicosC2"
   ]
  },
  {
   "cell_type": "code",
   "execution_count": 84,
   "metadata": {},
   "outputs": [
    {
     "data": {
      "text/latex": [
       "$\\displaystyle \\frac{d_{k}}{h} + \\frac{4 d_{k+1}}{h} + \\frac{d_{k+2}}{h} = \\frac{3 Δ_{k}}{h} + \\frac{3 Δ_{k+1}}{h}$"
      ],
      "text/plain": [
       "Eq(d_k/h + 4*d_k+1/h + d_k+2/h, 3*Δ_k/h + 3*Δ_k+1/h)"
      ]
     },
     "execution_count": 84,
     "metadata": {},
     "output_type": "execute_result"
    }
   ],
   "source": [
    "# que en el caso de particiones uniformes se simplificaría aún más\n",
    "h = Symbol('h')\n",
    "ecsplinescubicosC2.subs({h_k:h, h_kp:h})"
   ]
  },
  {
   "cell_type": "markdown",
   "metadata": {},
   "source": [
    "Aún nos faltaría por añadir y considerar las correspondientes ecuaciones que involucran las dos condiciones adicionales, según el tipo de spline cúbico que queramos obtener, ya sea:\n",
    "\n",
    "- cúbico natural\n",
    "- cúbico periódico\n",
    "- cúbico sujeto"
   ]
  },
  {
   "cell_type": "markdown",
   "metadata": {},
   "source": [
    "### Caso del spline cúbico natural:  $s''(x_0) = 0 = s''(x_n)$"
   ]
  },
  {
   "cell_type": "markdown",
   "metadata": {},
   "source": [
    "Recuperamos pues la expresión que teníamos calculada poco más arriba de la derivada segunda del spline en un subintervalo determinado $[x_k,x_{k+1}]$ cuando lo evaluábamos en el extremo de la izquierda."
   ]
  },
  {
   "cell_type": "code",
   "execution_count": 88,
   "metadata": {},
   "outputs": [
    {
     "data": {
      "text/latex": [
       "$\\displaystyle \\frac{2 \\left(- 2 d_{k} - d_{k+1} + 3 Δ_{k}\\right)}{h_{k}}$"
      ],
      "text/plain": [
       "2*(-2*d_k - d_k+1 + 3*Δ_k)/h_k"
      ]
     },
     "execution_count": 88,
     "metadata": {},
     "output_type": "execute_result"
    }
   ],
   "source": [
    "expr1 = diff(sc_k,x,2).subs({x:x_k}).subs({x_k-x_kp:-h_k}).simplify()\n",
    "expr1"
   ]
  },
  {
   "cell_type": "markdown",
   "metadata": {},
   "source": [
    "y lo terminamos particularizándolo para el primer subintervalo $[x_0,x_{1}]$, al imponer la primera de las condiciones adicionales del spline cúbico natural de clase $\\mathcal{C}^2$:  $s''(x_0) = 0 $."
   ]
  },
  {
   "cell_type": "code",
   "execution_count": 90,
   "metadata": {},
   "outputs": [
    {
     "data": {
      "text/plain": [
       "{d_k+1: 1/h_k, d_k: 2/h_k, 1: -3*Δ_k/h_k}"
      ]
     },
     "execution_count": 90,
     "metadata": {},
     "output_type": "execute_result"
    }
   ],
   "source": [
    "terminos = collect(expand(-expr1/2),[d_k,d_kp], evaluate = False)\n",
    "terminos"
   ]
  },
  {
   "cell_type": "code",
   "execution_count": 91,
   "metadata": {},
   "outputs": [
    {
     "data": {
      "text/latex": [
       "$\\displaystyle \\frac{2}{h_{0}}$"
      ],
      "text/plain": [
       "2/h_0"
      ]
     },
     "execution_count": 91,
     "metadata": {},
     "output_type": "execute_result"
    }
   ],
   "source": [
    "# Así es cómo podríamos ir obteniendo el coeficiente de cada una de la incógnitas d_0\n",
    "h_0, Δ_0 = symbols('h_0, Δ_0')\n",
    "terminos[d_k].subs({h_k:h_0})"
   ]
  },
  {
   "cell_type": "code",
   "execution_count": 92,
   "metadata": {},
   "outputs": [
    {
     "data": {
      "text/latex": [
       "$\\displaystyle \\frac{2 d_{0}}{h_{0}} + \\frac{d_{1}}{h_{0}} = \\frac{3 Δ_{0}}{h_{0}}$"
      ],
      "text/plain": [
       "Eq(2*d_0/h_0 + d_1/h_0, 3*Δ_0/h_0)"
      ]
     },
     "execution_count": 92,
     "metadata": {},
     "output_type": "execute_result"
    }
   ],
   "source": [
    "# Este sería el caso de si empezamos a numerar los nodos \n",
    "d_0, d_1 = symbols('d_0, d_1')    #  con k = 0\n",
    "ec0 = Eq(terminos[d_k]*d_0+terminos[d_kp]*d_1,-terminos[1]).subs({h_k:h_0,Δ_k:Δ_0})\n",
    "ec0"
   ]
  },
  {
   "cell_type": "code",
   "execution_count": 93,
   "metadata": {},
   "outputs": [
    {
     "data": {
      "text/latex": [
       "$\\displaystyle 2 d_{0} + d_{1} = 3 Δ_{0}$"
      ],
      "text/plain": [
       "Eq(2*d_0 + d_1, 3*Δ_0)"
      ]
     },
     "execution_count": 93,
     "metadata": {},
     "output_type": "execute_result"
    }
   ],
   "source": [
    "# que vemos que podemos simplificar, \n",
    "# sin más que multiplicar ambos miembros por h_0\n",
    "ec0 = Eq(expand((ec0.lhs)*h_0),(ec0.rhs)*h_0)\n",
    "ec0"
   ]
  },
  {
   "cell_type": "code",
   "execution_count": 94,
   "metadata": {},
   "outputs": [
    {
     "data": {
      "text/latex": [
       "$\\displaystyle \\frac{2 d_{1}}{h_{1}} + \\frac{d_{2}}{h_{1}} = \\frac{3 Δ_{1}}{h_{1}}$"
      ],
      "text/plain": [
       "Eq(2*d_1/h_1 + d_2/h_1, 3*Δ_1/h_1)"
      ]
     },
     "execution_count": 94,
     "metadata": {},
     "output_type": "execute_result"
    }
   ],
   "source": [
    "# y si empezásemos a numerar los nodos con k=1 en vez de k=0\n",
    "d_1, d_2 = symbols('d_1, d_2')\n",
    "h_1, Δ_1 = symbols('h_1, Δ_1')\n",
    "ec1 = Eq(terminos[d_k]*d_1+terminos[d_kp]*d_2,-terminos[1]).subs({h_k:h_1,Δ_k:Δ_1})\n",
    "ec1"
   ]
  },
  {
   "cell_type": "code",
   "execution_count": 95,
   "metadata": {},
   "outputs": [
    {
     "data": {
      "text/latex": [
       "$\\displaystyle 2 d_{1} + d_{2} = 3 Δ_{1}$"
      ],
      "text/plain": [
       "Eq(2*d_1 + d_2, 3*Δ_1)"
      ]
     },
     "execution_count": 95,
     "metadata": {},
     "output_type": "execute_result"
    }
   ],
   "source": [
    "# que vemos que podemos simplificar, sin más que multiplicar ambos miembros por h_0\n",
    "ec1 = Eq(expand((ec1.lhs)*h_1),(ec1.rhs)*h_1)\n",
    "ec1"
   ]
  },
  {
   "cell_type": "markdown",
   "metadata": {},
   "source": [
    " Y de manera totalmente análoga, cuando evaluábamos la derivada segunda en el extremo de la derecha"
   ]
  },
  {
   "cell_type": "code",
   "execution_count": 97,
   "metadata": {},
   "outputs": [
    {
     "data": {
      "text/latex": [
       "$\\displaystyle \\frac{2 \\left(d_{k} + 2 d_{k+1} - 3 Δ_{k}\\right)}{h_{k}}$"
      ],
      "text/plain": [
       "2*(d_k + 2*d_k+1 - 3*Δ_k)/h_k"
      ]
     },
     "execution_count": 97,
     "metadata": {},
     "output_type": "execute_result"
    }
   ],
   "source": [
    "expr2 = diff(sc_k,x,2).subs({x:x_kp}).subs({x_k-x_kp:-h_k}).simplify()\n",
    "expr2"
   ]
  },
  {
   "cell_type": "markdown",
   "metadata": {},
   "source": [
    "que ahora particularizaremos para el caso $k=n-1$ antes de igualar a 0"
   ]
  },
  {
   "cell_type": "code",
   "execution_count": 99,
   "metadata": {},
   "outputs": [
    {
     "data": {
      "text/latex": [
       "$\\displaystyle d_{k} + 2 d_{k+1} - 3 Δ_{k}$"
      ],
      "text/plain": [
       "d_k + 2*d_k+1 - 3*Δ_k"
      ]
     },
     "execution_count": 99,
     "metadata": {},
     "output_type": "execute_result"
    }
   ],
   "source": [
    "expr2/2*h_k   # vamos a simplificarlo antes de igualar a 0"
   ]
  },
  {
   "cell_type": "code",
   "execution_count": 100,
   "metadata": {},
   "outputs": [
    {
     "data": {
      "text/plain": [
       "{d_k: 1, d_k+1: 2, 1: -3*Δ_k}"
      ]
     },
     "execution_count": 100,
     "metadata": {},
     "output_type": "execute_result"
    }
   ],
   "source": [
    "terminos = collect(expr2/2*h_k,[d_k,d_kp],evaluate=False)\n",
    "terminos"
   ]
  },
  {
   "cell_type": "code",
   "execution_count": 101,
   "metadata": {},
   "outputs": [
    {
     "data": {
      "text/latex": [
       "$\\displaystyle 2 d_{n} + d_{n-1} = 3 Δ_{n-1}$"
      ],
      "text/plain": [
       "Eq(2*d_n + d_n-1, 3*Δ_n-1)"
      ]
     },
     "execution_count": 101,
     "metadata": {},
     "output_type": "execute_result"
    }
   ],
   "source": [
    "# y este si empezamos a numerar los nodos con k = 1\n",
    "d_n, d_nm = symbols('d_n, d_n-1')\n",
    "h_nm, Δ_nm = symbols('h_n-1, Δ_n-1')\n",
    "ecncubiconatural = Eq(terminos[d_k]*d_nm+terminos[d_kp]*d_n,-terminos[1]).subs({Δ_k:Δ_nm})\n",
    "ecncubiconatural"
   ]
  },
  {
   "cell_type": "markdown",
   "metadata": {},
   "source": [
    "### Caso del spline cúbico periódico: $s'(x_0) = s'(x_n)$ y $s''(x_0) = s''(x_n)$"
   ]
  },
  {
   "cell_type": "code",
   "execution_count": 103,
   "metadata": {},
   "outputs": [
    {
     "data": {
      "text/latex": [
       "$\\displaystyle d_{k} \\left(x - x_{k}\\right) + y_{k} + \\frac{\\left(- d_{k} + Δ_{k}\\right) \\left(x - x_{k}\\right)^{2}}{h_{k}} + \\frac{\\left(x - x_{k}\\right)^{2} \\left(x - x_{k+1}\\right) \\left(d_{k} + d_{k+1} - 2 Δ_{k}\\right)}{h_{k}^{2}}$"
      ],
      "text/plain": [
       "d_k*(x - x_k) + y_k + (-d_k + Δ_k)*(x - x_k)**2/h_k + (x - x_k)**2*(x - x_k+1)*(d_k + d_k+1 - 2*Δ_k)/h_k**2"
      ]
     },
     "execution_count": 103,
     "metadata": {},
     "output_type": "execute_result"
    }
   ],
   "source": [
    "# recuperamos la expresión general de la cúbica\n",
    "sc_k     # en un subintervalo genérico [x_k, x_k+1]"
   ]
  },
  {
   "cell_type": "code",
   "execution_count": 104,
   "metadata": {},
   "outputs": [
    {
     "data": {
      "text/latex": [
       "$\\displaystyle d_{k} + \\frac{\\left(- d_{k} + Δ_{k}\\right) \\left(2 x - 2 x_{k}\\right)}{h_{k}} + \\frac{\\left(x - x_{k}\\right)^{2} \\left(d_{k} + d_{k+1} - 2 Δ_{k}\\right)}{h_{k}^{2}} + \\frac{\\left(x - x_{k+1}\\right) \\left(2 x - 2 x_{k}\\right) \\left(d_{k} + d_{k+1} - 2 Δ_{k}\\right)}{h_{k}^{2}}$"
      ],
      "text/plain": [
       "d_k + (-d_k + Δ_k)*(2*x - 2*x_k)/h_k + (x - x_k)**2*(d_k + d_k+1 - 2*Δ_k)/h_k**2 + (x - x_k+1)*(2*x - 2*x_k)*(d_k + d_k+1 - 2*Δ_k)/h_k**2"
      ]
     },
     "execution_count": 104,
     "metadata": {},
     "output_type": "execute_result"
    }
   ],
   "source": [
    "diff(sc_k,x)   # esta sería su primera derivada"
   ]
  },
  {
   "cell_type": "code",
   "execution_count": 105,
   "metadata": {},
   "outputs": [
    {
     "data": {
      "text/latex": [
       "$\\displaystyle d_{0}$"
      ],
      "text/plain": [
       "d_0"
      ]
     },
     "execution_count": 105,
     "metadata": {},
     "output_type": "execute_result"
    }
   ],
   "source": [
    "# que ahora vamos a particularizar para el caso k = 0\n",
    "x_0, x_1 = symbols('x_0, x_1')\n",
    "diff(sc_k,x).subs({x:x_0,d_k:d_0,Δ_k:Δ_0,h_k:h_0,x_k:x_0,x_kp:x_1})"
   ]
  },
  {
   "cell_type": "code",
   "execution_count": 106,
   "metadata": {},
   "outputs": [
    {
     "data": {
      "text/latex": [
       "$\\displaystyle d_{n}$"
      ],
      "text/plain": [
       "d_n"
      ]
     },
     "execution_count": 106,
     "metadata": {},
     "output_type": "execute_result"
    }
   ],
   "source": [
    "# que ahora vamos a particularizar para el caso k = n-1\n",
    "x_nm, x_n = symbols('x_n-1, x_n')\n",
    "diff(sc_k,x).subs({x:x_n,d_k:d_nm,d_kp:d_n,Δ_k:Δ_nm,h_k:h_nm,x_k:x_nm,x_kp:x_n}).subs({h_nm:x_n-x_nm}).simplify()"
   ]
  },
  {
   "cell_type": "markdown",
   "metadata": {},
   "source": [
    "Vemos pues que la primera condición,  $s'(x_0) = s'(x_n)$, del spline cúbico de clase $\\mathcal{C}^2$ periódico se traduciría en la siguiente ecuación a satisfacer: "
   ]
  },
  {
   "cell_type": "code",
   "execution_count": 108,
   "metadata": {},
   "outputs": [
    {
     "data": {
      "text/latex": [
       "$\\displaystyle d_{0} = d_{n}$"
      ],
      "text/plain": [
       "Eq(d_0, d_n)"
      ]
     },
     "execution_count": 108,
     "metadata": {},
     "output_type": "execute_result"
    }
   ],
   "source": [
    "ec1cubicoperiodico = Eq(d_0,d_n)\n",
    "ec1cubicoperiodico   # bastaría cambiar d_0 por d_1 en caso de \n",
    "# que los nodos se empezaran a numerar a partir de 1 y no de 0"
   ]
  },
  {
   "cell_type": "markdown",
   "metadata": {},
   "source": [
    "En cuanto a la segunda condición $s''(x_0) = s''(x_n)$, procederemos como más arriba, para llegar a:"
   ]
  },
  {
   "cell_type": "code",
   "execution_count": 110,
   "metadata": {},
   "outputs": [
    {
     "data": {
      "text/latex": [
       "$\\displaystyle \\frac{2 \\left(- 2 d_{0} - d_{1} + 3 Δ_{0}\\right)}{h_{0}}$"
      ],
      "text/plain": [
       "2*(-2*d_0 - d_1 + 3*Δ_0)/h_0"
      ]
     },
     "execution_count": 110,
     "metadata": {},
     "output_type": "execute_result"
    }
   ],
   "source": [
    "expr1 = diff(sc_k,x,2).subs({x:x_k}).subs({x_k-x_kp:-h_k}).subs({h_k:h_0, d_k:d_0, d_kp:d_1, Δ_k:Δ_0}).simplify()\n",
    "expr1"
   ]
  },
  {
   "cell_type": "code",
   "execution_count": 111,
   "metadata": {},
   "outputs": [
    {
     "data": {
      "text/latex": [
       "$\\displaystyle \\frac{2 \\cdot \\left(2 d_{n} + d_{n-1} - 3 Δ_{n-1}\\right)}{h_{n-1}}$"
      ],
      "text/plain": [
       "2*(2*d_n + d_n-1 - 3*Δ_n-1)/h_n-1"
      ]
     },
     "execution_count": 111,
     "metadata": {},
     "output_type": "execute_result"
    }
   ],
   "source": [
    "# h_n = symbols('h_n')\n",
    "expr2 = diff(sc_k,x,2).subs({x:x_kp}).subs({x_k-x_kp:-h_k}).simplify().subs({h_k:h_nm,d_k:d_nm, d_kp:d_n, Δ_k:Δ_nm})\n",
    "expr2"
   ]
  },
  {
   "cell_type": "code",
   "execution_count": 112,
   "metadata": {},
   "outputs": [
    {
     "data": {
      "text/latex": [
       "$\\displaystyle \\frac{- 2 d_{0} - d_{1} + 3 Δ_{0}}{h_{0}} = \\frac{2 d_{n} + d_{n-1} - 3 Δ_{n-1}}{h_{n-1}}$"
      ],
      "text/plain": [
       "Eq((-2*d_0 - d_1 + 3*Δ_0)/h_0, (2*d_n + d_n-1 - 3*Δ_n-1)/h_n-1)"
      ]
     },
     "execution_count": 112,
     "metadata": {},
     "output_type": "execute_result"
    }
   ],
   "source": [
    "ecncubicoperiodico = Eq(expr1/2,expr2/2)\n",
    "ecncubicoperiodico"
   ]
  },
  {
   "cell_type": "code",
   "execution_count": 113,
   "metadata": {},
   "outputs": [
    {
     "data": {
      "text/latex": [
       "$\\displaystyle \\frac{- 2 d_{0} - d_{1} + 3 Δ_{0}}{h_{0}}$"
      ],
      "text/plain": [
       "(-2*d_0 - d_1 + 3*Δ_0)/h_0"
      ]
     },
     "execution_count": 113,
     "metadata": {},
     "output_type": "execute_result"
    }
   ],
   "source": [
    "ecncubicoperiodico.lhs"
   ]
  },
  {
   "cell_type": "code",
   "execution_count": 114,
   "metadata": {},
   "outputs": [
    {
     "data": {
      "text/plain": [
       "{d_1: -1/h_0, d_0: -2/h_0, 1: 3*Δ_0/h_0}"
      ]
     },
     "execution_count": 114,
     "metadata": {},
     "output_type": "execute_result"
    }
   ],
   "source": [
    "terminos_lhs = collect(ecncubicoperiodico.lhs.expand(),[d_0,d_1],evaluate=False)\n",
    "terminos_lhs"
   ]
  },
  {
   "cell_type": "code",
   "execution_count": 115,
   "metadata": {},
   "outputs": [
    {
     "data": {
      "text/plain": [
       "(-2/h_0, -1/h_0, 3*Δ_0/h_0)"
      ]
     },
     "execution_count": 115,
     "metadata": {},
     "output_type": "execute_result"
    }
   ],
   "source": [
    "terminos_lhs[d_0],terminos_lhs[d_1],terminos_lhs[1]"
   ]
  },
  {
   "cell_type": "code",
   "execution_count": 116,
   "metadata": {},
   "outputs": [
    {
     "data": {
      "text/plain": [
       "{d_n-1: 1/h_n-1, d_n: 2/h_n-1, 1: -3*Δ_n-1/h_n-1}"
      ]
     },
     "execution_count": 116,
     "metadata": {},
     "output_type": "execute_result"
    }
   ],
   "source": [
    "terminos_rhs = collect(ecncubicoperiodico.rhs.expand(),[d_nm,d_n],evaluate=False)\n",
    "terminos_rhs"
   ]
  },
  {
   "cell_type": "code",
   "execution_count": 117,
   "metadata": {},
   "outputs": [
    {
     "data": {
      "text/plain": [
       "(1/h_n-1, 2/h_n-1, -3*Δ_n-1/h_n-1)"
      ]
     },
     "execution_count": 117,
     "metadata": {},
     "output_type": "execute_result"
    }
   ],
   "source": [
    "terminos_rhs[d_nm],terminos_rhs[d_n],terminos_rhs[1]"
   ]
  },
  {
   "cell_type": "code",
   "execution_count": 118,
   "metadata": {},
   "outputs": [
    {
     "data": {
      "text/latex": [
       "$\\displaystyle \\frac{2 d_{0}}{h_{0}} + \\frac{d_{1}}{h_{0}} + \\frac{2 d_{n}}{h_{n-1}} + \\frac{d_{n-1}}{h_{n-1}} = \\frac{3 Δ_{n-1}}{h_{n-1}} + \\frac{3 Δ_{0}}{h_{0}}$"
      ],
      "text/plain": [
       "Eq(2*d_0/h_0 + d_1/h_0 + 2*d_n/h_n-1 + d_n-1/h_n-1, 3*Δ_n-1/h_n-1 + 3*Δ_0/h_0)"
      ]
     },
     "execution_count": 118,
     "metadata": {},
     "output_type": "execute_result"
    }
   ],
   "source": [
    "ecncubicoperiodico = Eq(-terminos_lhs[d_0]*d_0-terminos_lhs[d_1]*d_1+terminos_rhs[d_nm]*d_nm+terminos_rhs[d_n]*d_n,terminos_lhs[1]-terminos_rhs[1])\n",
    "ecncubicoperiodico"
   ]
  },
  {
   "cell_type": "markdown",
   "metadata": {},
   "source": [
    "### Caso del spline cúbico sujeto: con $s'(x_0) = d_0$ y $s'(x_n)= d_n$ prefijados."
   ]
  },
  {
   "cell_type": "markdown",
   "metadata": {},
   "source": [
    "En este caso particular, simplemente las incógnitas $d_0$ y $d_n$ del sistema dejarían de ser incógnitas para pasar a ser datos conocidos del problema, quedando por resolver las incógnitas restantes: $d_1,\\ldots, d_{n-1}$."
   ]
  },
  {
   "cell_type": "markdown",
   "metadata": {},
   "source": [
    "# Segundo planteamiento: tomando como incógnitas los valores de la derivada segunda $M_k\\equiv s''(x_k)$ con $k=0,1,\\ldots,n$, y conociendo los valores de Lagrange $s(x_k)= y_k$ en los nodos de la partición del intervalo $[a,b]$."
   ]
  },
  {
   "cell_type": "markdown",
   "metadata": {},
   "source": [
    "Empecemos definiendo las variables simbólicas que vamos a necesitar para el desarrollo algebraico y obtención de las ecuaciones correspondientes a este nuevo planteamiento."
   ]
  },
  {
   "cell_type": "code",
   "execution_count": 123,
   "metadata": {},
   "outputs": [],
   "source": [
    "x, x_k, x_kp, x_km = symbols('x, x_k, x_k+1, x_k-1')"
   ]
  },
  {
   "cell_type": "code",
   "execution_count": 124,
   "metadata": {},
   "outputs": [],
   "source": [
    "y_k, y_kp, y_km = symbols('y_k, y_k+1, y_k-1')"
   ]
  },
  {
   "cell_type": "code",
   "execution_count": 125,
   "metadata": {},
   "outputs": [],
   "source": [
    "h_k, h_km = symbols('h_k, h_k-1')"
   ]
  },
  {
   "cell_type": "code",
   "execution_count": 126,
   "metadata": {},
   "outputs": [],
   "source": [
    "Δ_k, Δ_km = symbols('Δ_k, Δ_k-1')"
   ]
  },
  {
   "cell_type": "code",
   "execution_count": 127,
   "metadata": {},
   "outputs": [],
   "source": [
    "d_k, d_kp, d_km = symbols('d_k, d_k+1, d_k-1')"
   ]
  },
  {
   "cell_type": "code",
   "execution_count": 128,
   "metadata": {},
   "outputs": [],
   "source": [
    "M_k, M_kp, M_km = symbols('M_k, M_k+1, M_k-1')"
   ]
  },
  {
   "cell_type": "markdown",
   "metadata": {},
   "source": [
    "Por propia construcción, sabemos pues que la derivada segunda de la cúbica   $s_{|[x_k,x_{k+1}]}(x)\\equiv s_k(x)$ que define al spline en un cierto intervalo $[x_k,x_{k+1}]$ deberá ser una recta que pasa por los puntos del plano $(x_k,M_k)$ y $(x_{k+1},M_{k+1})$. A partir de aquí, lo que tendremos que hacer ahora es integrar dos veces dicha expresión, para poder obtener la expresión general de la cúbica correspondiente."
   ]
  },
  {
   "cell_type": "code",
   "execution_count": 130,
   "metadata": {},
   "outputs": [
    {
     "data": {
      "text/latex": [
       "$\\displaystyle \\frac{M_{k} \\left(- x + x_{k+1}\\right) + M_{k+1} \\left(x - x_{k}\\right)}{h_{k}}$"
      ],
      "text/plain": [
       "(M_k*(-x + x_k+1) + M_k+1*(x - x_k))/h_k"
      ]
     },
     "execution_count": 130,
     "metadata": {},
     "output_type": "execute_result"
    }
   ],
   "source": [
    "d2s_k = (M_k*(x_kp-x) + M_kp*(x-x_k))/h_k\n",
    "d2s_k"
   ]
  },
  {
   "cell_type": "code",
   "execution_count": 131,
   "metadata": {},
   "outputs": [
    {
     "data": {
      "text/plain": [
       "(M_k, M_k+1)"
      ]
     },
     "execution_count": 131,
     "metadata": {},
     "output_type": "execute_result"
    }
   ],
   "source": [
    "d2s_k.subs({x:x_k}).subs({x_k-x_kp:-h_k}), d2s_k.subs({x:x_kp}).subs({x_k-x_kp:-h_k})"
   ]
  },
  {
   "cell_type": "code",
   "execution_count": 132,
   "metadata": {},
   "outputs": [],
   "source": [
    "from sympy import integrate, Symbol"
   ]
  },
  {
   "cell_type": "code",
   "execution_count": 133,
   "metadata": {},
   "outputs": [],
   "source": [
    "# ?integrate"
   ]
  },
  {
   "cell_type": "code",
   "execution_count": 134,
   "metadata": {},
   "outputs": [
    {
     "data": {
      "text/latex": [
       "$\\displaystyle \\frac{x^{3} \\left(- M_{k} + M_{k+1}\\right)}{6 h_{k}} + \\frac{x^{2} \\left(M_{k} x_{k+1} - M_{k+1} x_{k}\\right)}{2 h_{k}}$"
      ],
      "text/plain": [
       "x**3*(-M_k + M_k+1)/(6*h_k) + x**2*(M_k*x_k+1 - M_k+1*x_k)/(2*h_k)"
      ]
     },
     "execution_count": 134,
     "metadata": {},
     "output_type": "execute_result"
    }
   ],
   "source": [
    "integrate(integrate(d2s_k,x),x) # pero vemos que así no se incluirían\n",
    "# las constantes de integración, que nos hará falta tener\n",
    "# en cuenta para poder imponer las otras condiciones de tipo\n",
    "# Lagrange"
   ]
  },
  {
   "cell_type": "code",
   "execution_count": 135,
   "metadata": {},
   "outputs": [],
   "source": [
    "# Así que optaremos por otra estrategia de ir construyendo expresiones adecuadas para nuestro propósito\n",
    "expr1 = (x_kp-x)**3*M_k + (x-x_k)**3*M_kp"
   ]
  },
  {
   "cell_type": "code",
   "execution_count": 136,
   "metadata": {},
   "outputs": [
    {
     "data": {
      "text/latex": [
       "$\\displaystyle \\frac{1}{6 h_{k}}$"
      ],
      "text/plain": [
       "1/(6*h_k)"
      ]
     },
     "execution_count": 136,
     "metadata": {},
     "output_type": "execute_result"
    }
   ],
   "source": [
    "C = Symbol('C')\n",
    "solve (Eq(diff(expr1,x,2)*C,d2s_k),C)[0]"
   ]
  },
  {
   "cell_type": "code",
   "execution_count": 137,
   "metadata": {},
   "outputs": [
    {
     "data": {
      "text/latex": [
       "$\\displaystyle \\frac{M_{k} \\left(- x + x_{k+1}\\right)^{3} + M_{k+1} \\left(x - x_{k}\\right)^{3}}{6 h_{k}}$"
      ],
      "text/plain": [
       "(M_k*(-x + x_k+1)**3 + M_k+1*(x - x_k)**3)/(6*h_k)"
      ]
     },
     "execution_count": 137,
     "metadata": {},
     "output_type": "execute_result"
    }
   ],
   "source": [
    "expr1 = expr1*solve (Eq(diff(expr1,x,2)*C,d2s_k),C)[0]\n",
    "expr1"
   ]
  },
  {
   "cell_type": "code",
   "execution_count": 138,
   "metadata": {},
   "outputs": [
    {
     "data": {
      "text/latex": [
       "$\\displaystyle \\frac{M_{k} h_{k}^{2}}{6}$"
      ],
      "text/plain": [
       "M_k*h_k**2/6"
      ]
     },
     "execution_count": 138,
     "metadata": {},
     "output_type": "execute_result"
    }
   ],
   "source": [
    "expr1.subs({x:x_k}).subs({x_kp-x_k:h_k})"
   ]
  },
  {
   "cell_type": "code",
   "execution_count": 139,
   "metadata": {},
   "outputs": [
    {
     "data": {
      "text/latex": [
       "$\\displaystyle \\frac{M_{k+1} h_{k}^{2}}{6}$"
      ],
      "text/plain": [
       "M_k+1*h_k**2/6"
      ]
     },
     "execution_count": 139,
     "metadata": {},
     "output_type": "execute_result"
    }
   ],
   "source": [
    "expr1.subs({x:x_kp}).subs({x_kp-x_k:h_k})"
   ]
  },
  {
   "cell_type": "code",
   "execution_count": 140,
   "metadata": {},
   "outputs": [],
   "source": [
    "expr2 = (x_kp-x)*y_k + (x-x_k)*y_kp"
   ]
  },
  {
   "cell_type": "code",
   "execution_count": 141,
   "metadata": {},
   "outputs": [
    {
     "data": {
      "text/latex": [
       "$\\displaystyle h_{k} y_{k}$"
      ],
      "text/plain": [
       "h_k*y_k"
      ]
     },
     "execution_count": 141,
     "metadata": {},
     "output_type": "execute_result"
    }
   ],
   "source": [
    "expr2.subs({x:x_k}).subs({x_kp-x_k:h_k})"
   ]
  },
  {
   "cell_type": "code",
   "execution_count": 142,
   "metadata": {},
   "outputs": [
    {
     "data": {
      "text/latex": [
       "$\\displaystyle h_{k} y_{k+1}$"
      ],
      "text/plain": [
       "h_k*y_k+1"
      ]
     },
     "execution_count": 142,
     "metadata": {},
     "output_type": "execute_result"
    }
   ],
   "source": [
    "expr2.subs({x:x_kp}).subs({x_kp-x_k:h_k})"
   ]
  },
  {
   "cell_type": "code",
   "execution_count": 143,
   "metadata": {},
   "outputs": [],
   "source": [
    "expr2 = expr2/h_k"
   ]
  },
  {
   "cell_type": "code",
   "execution_count": 144,
   "metadata": {},
   "outputs": [
    {
     "data": {
      "text/latex": [
       "$\\displaystyle \\frac{M_{k+1} h_{k}^{2}}{6} + y_{k+1}$"
      ],
      "text/plain": [
       "M_k+1*h_k**2/6 + y_k+1"
      ]
     },
     "execution_count": 144,
     "metadata": {},
     "output_type": "execute_result"
    }
   ],
   "source": [
    "(expr1 + expr2).subs({x:x_kp}).subs({x_kp-x_k:h_k})"
   ]
  },
  {
   "cell_type": "code",
   "execution_count": 145,
   "metadata": {},
   "outputs": [
    {
     "data": {
      "text/latex": [
       "$\\displaystyle \\frac{M_{k} h_{k}^{2}}{6} + y_{k}$"
      ],
      "text/plain": [
       "M_k*h_k**2/6 + y_k"
      ]
     },
     "execution_count": 145,
     "metadata": {},
     "output_type": "execute_result"
    }
   ],
   "source": [
    "(expr1 + expr2).subs({x:x_k}).subs({x_kp-x_k:h_k})"
   ]
  },
  {
   "cell_type": "code",
   "execution_count": 146,
   "metadata": {},
   "outputs": [
    {
     "data": {
      "text/latex": [
       "$\\displaystyle - \\frac{h_{k} \\left(M_{k} \\left(- x + x_{k+1}\\right) + M_{k+1} \\left(x - x_{k}\\right)\\right)}{6}$"
      ],
      "text/plain": [
       "-h_k*(M_k*(-x + x_k+1) + M_k+1*(x - x_k))/6"
      ]
     },
     "execution_count": 146,
     "metadata": {},
     "output_type": "execute_result"
    }
   ],
   "source": [
    "expr3 = -h_k/6*(M_k*(x_kp-x)+M_kp*(x-x_k))\n",
    "expr3"
   ]
  },
  {
   "cell_type": "code",
   "execution_count": 147,
   "metadata": {},
   "outputs": [
    {
     "data": {
      "text/latex": [
       "$\\displaystyle y_{k}$"
      ],
      "text/plain": [
       "y_k"
      ]
     },
     "execution_count": 147,
     "metadata": {},
     "output_type": "execute_result"
    }
   ],
   "source": [
    "(expr1+expr2+expr3).subs({x:x_k}).subs({x_kp-x_k:h_k})"
   ]
  },
  {
   "cell_type": "code",
   "execution_count": 148,
   "metadata": {},
   "outputs": [
    {
     "data": {
      "text/latex": [
       "$\\displaystyle y_{k+1}$"
      ],
      "text/plain": [
       "y_k+1"
      ]
     },
     "execution_count": 148,
     "metadata": {},
     "output_type": "execute_result"
    }
   ],
   "source": [
    "(expr1+expr2+expr3).subs({x:x_kp}).subs({x_kp-x_k:h_k})"
   ]
  },
  {
   "cell_type": "code",
   "execution_count": 149,
   "metadata": {},
   "outputs": [
    {
     "data": {
      "text/latex": [
       "$\\displaystyle M_{k}$"
      ],
      "text/plain": [
       "M_k"
      ]
     },
     "execution_count": 149,
     "metadata": {},
     "output_type": "execute_result"
    }
   ],
   "source": [
    "(diff(expr1+expr2+expr3,x,2)).subs({x:x_k}).subs({x_kp-x_k:h_k})"
   ]
  },
  {
   "cell_type": "code",
   "execution_count": 150,
   "metadata": {},
   "outputs": [
    {
     "data": {
      "text/latex": [
       "$\\displaystyle M_{k+1}$"
      ],
      "text/plain": [
       "M_k+1"
      ]
     },
     "execution_count": 150,
     "metadata": {},
     "output_type": "execute_result"
    }
   ],
   "source": [
    "(diff(expr1+expr2+expr3,x,2)).subs({x:x_kp}).subs({x_kp-x_k:h_k})"
   ]
  },
  {
   "cell_type": "markdown",
   "metadata": {},
   "source": [
    "Finalmente, teniendo en cuenta todo lo desarrollado anteriormente, podremos ya escribir la expresión definitiva de cada trozo de spline cúbico en el subintervalo $[x_k, x_{k+1}]$."
   ]
  },
  {
   "cell_type": "code",
   "execution_count": 152,
   "metadata": {},
   "outputs": [
    {
     "data": {
      "text/latex": [
       "$\\displaystyle - \\frac{h_{k} \\left(M_{k} \\left(- x + x_{k+1}\\right) + M_{k+1} \\left(x - x_{k}\\right)\\right)}{6} + \\frac{M_{k} \\left(- x + x_{k+1}\\right)^{3} + M_{k+1} \\left(x - x_{k}\\right)^{3}}{6 h_{k}} + \\frac{y_{k} \\left(- x + x_{k+1}\\right) + y_{k+1} \\left(x - x_{k}\\right)}{h_{k}}$"
      ],
      "text/plain": [
       "-h_k*(M_k*(-x + x_k+1) + M_k+1*(x - x_k))/6 + (M_k*(-x + x_k+1)**3 + M_k+1*(x - x_k)**3)/(6*h_k) + (y_k*(-x + x_k+1) + y_k+1*(x - x_k))/h_k"
      ]
     },
     "execution_count": 152,
     "metadata": {},
     "output_type": "execute_result"
    }
   ],
   "source": [
    "s_k = expr1+expr2+expr3\n",
    "s_k"
   ]
  },
  {
   "cell_type": "markdown",
   "metadata": {},
   "source": [
    "Pero no debemos engañarnos, con esta construción todavía no nos hemos asegurado de que estos trozos de cúbica resultan ser de clase $\\mathcal{C}^1([a,b])$ en todo el intervalo $[a,b]$. Para que esto se cumpla tendríamos que terminar de imponer las correspondientes condiciones sobre la derivada primera, tanto a la izquierda como a la derecha de cada uno de los nodos interiores:  $x_k, k = 1,\\ldots, n-1$, de manera que se cumpla\n",
    "\n",
    "$$s_{k-1}'(x_{k}) = s_{k}'(x_{k}), \\quad \\forall k = 1,\\ldots, n-1 $$"
   ]
  },
  {
   "cell_type": "code",
   "execution_count": 154,
   "metadata": {},
   "outputs": [
    {
     "data": {
      "text/latex": [
       "$\\displaystyle - \\frac{h_{k} \\left(M_{k} \\left(- x + x_{k+1}\\right) + M_{k+1} \\left(x - x_{k}\\right)\\right)}{6} + \\frac{M_{k} \\left(- x + x_{k+1}\\right)^{3} + M_{k+1} \\left(x - x_{k}\\right)^{3}}{6 h_{k}} + \\frac{y_{k} \\left(- x + x_{k+1}\\right) + y_{k+1} \\left(x - x_{k}\\right)}{h_{k}}$"
      ],
      "text/plain": [
       "-h_k*(M_k*(-x + x_k+1) + M_k+1*(x - x_k))/6 + (M_k*(-x + x_k+1)**3 + M_k+1*(x - x_k)**3)/(6*h_k) + (y_k*(-x + x_k+1) + y_k+1*(x - x_k))/h_k"
      ]
     },
     "execution_count": 154,
     "metadata": {},
     "output_type": "execute_result"
    }
   ],
   "source": [
    "s_k"
   ]
  },
  {
   "cell_type": "code",
   "execution_count": 155,
   "metadata": {},
   "outputs": [
    {
     "data": {
      "text/latex": [
       "$\\displaystyle - \\frac{h_{k-1} \\left(M_{k} \\left(x - x_{k-1}\\right) + M_{k-1} \\left(- x + x_{k}\\right)\\right)}{6} + \\frac{M_{k} \\left(x - x_{k-1}\\right)^{3} + M_{k-1} \\left(- x + x_{k}\\right)^{3}}{6 h_{k-1}} + \\frac{y_{k} \\left(x - x_{k-1}\\right) + y_{k-1} \\left(- x + x_{k}\\right)}{h_{k-1}}$"
      ],
      "text/plain": [
       "-h_k-1*(M_k*(x - x_k-1) + M_k-1*(-x + x_k))/6 + (M_k*(x - x_k-1)**3 + M_k-1*(-x + x_k)**3)/(6*h_k-1) + (y_k*(x - x_k-1) + y_k-1*(-x + x_k))/h_k-1"
      ]
     },
     "execution_count": 155,
     "metadata": {},
     "output_type": "execute_result"
    }
   ],
   "source": [
    "s_km = s_k.subs({x_k:x_km,y_k:y_km,h_k:h_km,M_k:M_km}).subs({x_kp:x_k,y_kp:y_k,M_kp:M_k})\n",
    "s_km "
   ]
  },
  {
   "cell_type": "code",
   "execution_count": 156,
   "metadata": {},
   "outputs": [
    {
     "data": {
      "text/latex": [
       "$\\displaystyle \\frac{M_{k} h_{k-1}}{2} - \\frac{h_{k-1} \\left(M_{k} - M_{k-1}\\right)}{6} + \\frac{y_{k} - y_{k-1}}{h_{k-1}}$"
      ],
      "text/plain": [
       "M_k*h_k-1/2 - h_k-1*(M_k - M_k-1)/6 + (y_k - y_k-1)/h_k-1"
      ]
     },
     "execution_count": 156,
     "metadata": {},
     "output_type": "execute_result"
    }
   ],
   "source": [
    "diff(s_km,x).subs({x:x_k}).subs({x_k-x_km:h_km})"
   ]
  },
  {
   "cell_type": "code",
   "execution_count": 157,
   "metadata": {},
   "outputs": [
    {
     "data": {
      "text/latex": [
       "$\\displaystyle - \\frac{M_{k} h_{k}}{2} - \\frac{h_{k} \\left(- M_{k} + M_{k+1}\\right)}{6} + \\frac{- y_{k} + y_{k+1}}{h_{k}}$"
      ],
      "text/plain": [
       "-M_k*h_k/2 - h_k*(-M_k + M_k+1)/6 + (-y_k + y_k+1)/h_k"
      ]
     },
     "execution_count": 157,
     "metadata": {},
     "output_type": "execute_result"
    }
   ],
   "source": [
    "diff(s_k,x).subs({x:x_k}).subs({x_kp-x_k:h_k})"
   ]
  },
  {
   "cell_type": "code",
   "execution_count": 158,
   "metadata": {},
   "outputs": [
    {
     "data": {
      "text/latex": [
       "$\\displaystyle \\frac{M_{k} h_{k}}{2} + \\frac{M_{k} h_{k-1}}{2} + \\frac{h_{k} \\left(- M_{k} + M_{k+1}\\right)}{6} - \\frac{h_{k-1} \\left(M_{k} - M_{k-1}\\right)}{6} + \\frac{y_{k} - y_{k-1}}{h_{k-1}} - \\frac{- y_{k} + y_{k+1}}{h_{k}}$"
      ],
      "text/plain": [
       "M_k*h_k/2 + M_k*h_k-1/2 + h_k*(-M_k + M_k+1)/6 - h_k-1*(M_k - M_k-1)/6 + (y_k - y_k-1)/h_k-1 - (-y_k + y_k+1)/h_k"
      ]
     },
     "execution_count": 158,
     "metadata": {},
     "output_type": "execute_result"
    }
   ],
   "source": [
    "condderprimera = diff(s_km,x).subs({x:x_k}).subs({x_k-x_km:h_km})-diff(s_k,x).subs({x:x_k}).subs({x_kp-x_k:h_k})\n",
    "condderprimera"
   ]
  },
  {
   "cell_type": "code",
   "execution_count": 159,
   "metadata": {},
   "outputs": [],
   "source": [
    "terminos = collect(condderprimera.expand() , [M_km, M_k, M_kp, 1/h_k, 1/h_km], evaluate=False)"
   ]
  },
  {
   "cell_type": "code",
   "execution_count": 160,
   "metadata": {},
   "outputs": [
    {
     "data": {
      "text/latex": [
       "$\\displaystyle \\frac{h_{k-1}}{6}$"
      ],
      "text/plain": [
       "h_k-1/6"
      ]
     },
     "execution_count": 160,
     "metadata": {},
     "output_type": "execute_result"
    }
   ],
   "source": [
    "terminos[M_km]"
   ]
  },
  {
   "cell_type": "code",
   "execution_count": 161,
   "metadata": {},
   "outputs": [
    {
     "data": {
      "text/latex": [
       "$\\displaystyle \\frac{h_{k}}{3} + \\frac{h_{k-1}}{3}$"
      ],
      "text/plain": [
       "h_k/3 + h_k-1/3"
      ]
     },
     "execution_count": 161,
     "metadata": {},
     "output_type": "execute_result"
    }
   ],
   "source": [
    "terminos[M_k]"
   ]
  },
  {
   "cell_type": "code",
   "execution_count": 162,
   "metadata": {},
   "outputs": [
    {
     "data": {
      "text/latex": [
       "$\\displaystyle \\frac{h_{k}}{6}$"
      ],
      "text/plain": [
       "h_k/6"
      ]
     },
     "execution_count": 162,
     "metadata": {},
     "output_type": "execute_result"
    }
   ],
   "source": [
    "terminos[M_kp]"
   ]
  },
  {
   "cell_type": "code",
   "execution_count": 163,
   "metadata": {},
   "outputs": [
    {
     "data": {
      "text/latex": [
       "$\\displaystyle \\frac{y_{k} - y_{k+1}}{h_{k}}$"
      ],
      "text/plain": [
       "(y_k - y_k+1)/h_k"
      ]
     },
     "execution_count": 163,
     "metadata": {},
     "output_type": "execute_result"
    }
   ],
   "source": [
    "terminos[1/h_k]/h_k"
   ]
  },
  {
   "cell_type": "code",
   "execution_count": 164,
   "metadata": {},
   "outputs": [
    {
     "data": {
      "text/latex": [
       "$\\displaystyle \\frac{y_{k} - y_{k-1}}{h_{k-1}}$"
      ],
      "text/plain": [
       "(y_k - y_k-1)/h_k-1"
      ]
     },
     "execution_count": 164,
     "metadata": {},
     "output_type": "execute_result"
    }
   ],
   "source": [
    "terminos[1/h_km]/h_km"
   ]
  },
  {
   "cell_type": "markdown",
   "metadata": {},
   "source": [
    "Obteniéndose así un sistema de $n − 1$ ecuaciones lineales\n",
    "que, junto con las dos condiciones adicionales referidas anteriormente, constituirán un sistema de $n + 1$ ecuaciones lineales con $n + 1$ incógnitas $M_0, \\ldots , M_n$"
   ]
  },
  {
   "cell_type": "markdown",
   "metadata": {},
   "source": [
    "### Caso del spline cúbico natural (con $s''(x_0) = 0 = s''(x_n)$)"
   ]
  },
  {
   "cell_type": "markdown",
   "metadata": {},
   "source": [
    "Este caso sería el más simple con esta formulación, ya que bastaría con tomar nulos los valores $M_0$ y $M_n$ para tener asegurado lo que queremos. Los demás valores $M_1,\\ldots,M_{n-1}$ seguirían siendo incógnitas, que tendremos que resolver a partir de las ecuaciones ya obtenidas previamente."
   ]
  },
  {
   "cell_type": "markdown",
   "metadata": {},
   "source": [
    "### Caso del spline cúbico periódico: con $s'(x_0) = s'(x_n)$ y $s''(x_0) = s''(x_n)$"
   ]
  },
  {
   "cell_type": "markdown",
   "metadata": {},
   "source": [
    "Este caso empezaríamos tomando $M_0 = M_n$, con lo cuál ya una de esas dos incógnitas podríamos eliminarla de las ecuaciones a considerar; pero aún tendríamos que añadir otra ecuación correspondiente a la otra condición $s'(x_0) = s'(x_n)$, que veremos en qué expresión se traduce exactamente."
   ]
  },
  {
   "cell_type": "code",
   "execution_count": 170,
   "metadata": {},
   "outputs": [
    {
     "data": {
      "text/latex": [
       "$\\displaystyle - \\frac{h_{k} \\left(M_{k} \\left(- x + x_{k+1}\\right) + M_{k+1} \\left(x - x_{k}\\right)\\right)}{6} + \\frac{M_{k} \\left(- x + x_{k+1}\\right)^{3} + M_{k+1} \\left(x - x_{k}\\right)^{3}}{6 h_{k}} + \\frac{y_{k} \\left(- x + x_{k+1}\\right) + y_{k+1} \\left(x - x_{k}\\right)}{h_{k}}$"
      ],
      "text/plain": [
       "-h_k*(M_k*(-x + x_k+1) + M_k+1*(x - x_k))/6 + (M_k*(-x + x_k+1)**3 + M_k+1*(x - x_k)**3)/(6*h_k) + (y_k*(-x + x_k+1) + y_k+1*(x - x_k))/h_k"
      ]
     },
     "execution_count": 170,
     "metadata": {},
     "output_type": "execute_result"
    }
   ],
   "source": [
    "s_k"
   ]
  },
  {
   "cell_type": "code",
   "execution_count": 171,
   "metadata": {},
   "outputs": [
    {
     "data": {
      "text/latex": [
       "$\\displaystyle - \\frac{M_{k} \\left(- x_{k} + x_{k+1}\\right)^{2}}{2 h_{k}} - \\frac{h_{k} \\left(- M_{k} + M_{k+1}\\right)}{6} + \\frac{- y_{k} + y_{k+1}}{h_{k}}$"
      ],
      "text/plain": [
       "-M_k*(-x_k + x_k+1)**2/(2*h_k) - h_k*(-M_k + M_k+1)/6 + (-y_k + y_k+1)/h_k"
      ]
     },
     "execution_count": 171,
     "metadata": {},
     "output_type": "execute_result"
    }
   ],
   "source": [
    "diff(s_k,x).subs({x:x_k})"
   ]
  },
  {
   "cell_type": "code",
   "execution_count": 172,
   "metadata": {},
   "outputs": [
    {
     "data": {
      "text/latex": [
       "$\\displaystyle - \\frac{M_{k} h_{k}}{3} - \\frac{M_{k+1} h_{k}}{6} - \\frac{y_{k}}{h_{k}} + \\frac{y_{k+1}}{h_{k}}$"
      ],
      "text/plain": [
       "-M_k*h_k/3 - M_k+1*h_k/6 - y_k/h_k + y_k+1/h_k"
      ]
     },
     "execution_count": 172,
     "metadata": {},
     "output_type": "execute_result"
    }
   ],
   "source": [
    "expr0 = diff(s_k,x).subs({x:x_k}).simplify().subs({x_k-x_kp:-h_k}).expand()\n",
    "expr0"
   ]
  },
  {
   "cell_type": "markdown",
   "metadata": {},
   "source": [
    "Y ya tan solo tendríamos que terminar de particularizar para el índice $k=0$ para poder obtener la parte de la ecuación correspondiente a $s'(x_0)$."
   ]
  },
  {
   "cell_type": "code",
   "execution_count": 174,
   "metadata": {},
   "outputs": [
    {
     "data": {
      "text/latex": [
       "$\\displaystyle - \\frac{M_{0} h_{0}}{3} - \\frac{M_{1} h_{0}}{6} - \\frac{y_{0}}{h_{0}} + \\frac{y_{1}}{h_{0}}$"
      ],
      "text/plain": [
       "-M_0*h_0/3 - M_1*h_0/6 - y_0/h_0 + y_1/h_0"
      ]
     },
     "execution_count": 174,
     "metadata": {},
     "output_type": "execute_result"
    }
   ],
   "source": [
    "M_0, M_1 = symbols('M_0,M_1')\n",
    "y_0, y_1 = symbols('y_0,y_1')\n",
    "h_0, h_1 = symbols('h_0,h_1')\n",
    "expr0 = expr0.subs({M_k:M_0, M_kp:M_1, h_k:h_0, y_k:y_0, y_kp:y_1})\n",
    "expr0"
   ]
  },
  {
   "cell_type": "markdown",
   "metadata": {},
   "source": [
    "Ahora tendríamos que terminar de particularizar para el índice $k=n-1$ para poder obtener la parte de la ecuación correspondiente a $s'(x_n)$."
   ]
  },
  {
   "cell_type": "code",
   "execution_count": 176,
   "metadata": {},
   "outputs": [
    {
     "data": {
      "text/latex": [
       "$\\displaystyle - \\frac{M_{k} \\left(- x_{k} + x_{k+1}\\right)^{2}}{2 h_{k}} - \\frac{h_{k} \\left(- M_{k} + M_{k+1}\\right)}{6} + \\frac{- y_{k} + y_{k+1}}{h_{k}}$"
      ],
      "text/plain": [
       "-M_k*(-x_k + x_k+1)**2/(2*h_k) - h_k*(-M_k + M_k+1)/6 + (-y_k + y_k+1)/h_k"
      ]
     },
     "execution_count": 176,
     "metadata": {},
     "output_type": "execute_result"
    }
   ],
   "source": [
    "diff(s_k,x).subs({x:x_k})"
   ]
  },
  {
   "cell_type": "code",
   "execution_count": 177,
   "metadata": {},
   "outputs": [
    {
     "data": {
      "text/latex": [
       "$\\displaystyle \\frac{M_{k} h_{k}}{6} + \\frac{M_{k+1} h_{k}}{3} - \\frac{y_{k}}{h_{k}} + \\frac{y_{k+1}}{h_{k}}$"
      ],
      "text/plain": [
       "M_k*h_k/6 + M_k+1*h_k/3 - y_k/h_k + y_k+1/h_k"
      ]
     },
     "execution_count": 177,
     "metadata": {},
     "output_type": "execute_result"
    }
   ],
   "source": [
    "exprn = diff(s_k,x).subs({x:x_kp}).simplify().subs({x_k-x_kp:-h_k}).expand()\n",
    "exprn"
   ]
  },
  {
   "cell_type": "code",
   "execution_count": 178,
   "metadata": {},
   "outputs": [
    {
     "data": {
      "text/latex": [
       "$\\displaystyle \\frac{M_{n} h_{n-1}}{3} + \\frac{M_{n-1} h_{n-1}}{6} + \\frac{y_{n}}{h_{n-1}} - \\frac{y_{n-1}}{h_{n-1}}$"
      ],
      "text/plain": [
       "M_n*h_n-1/3 + M_n-1*h_n-1/6 + y_n/h_n-1 - y_n-1/h_n-1"
      ]
     },
     "execution_count": 178,
     "metadata": {},
     "output_type": "execute_result"
    }
   ],
   "source": [
    "M_n, M_nm = symbols('M_n,M_n-1')\n",
    "y_n, y_nm = symbols('y_n,y_n-1')\n",
    "h_n, h_nm = symbols('h_n,h_n-1')\n",
    "exprn = exprn.subs({M_k:M_nm, M_kp:M_n, h_k:h_nm, y_k:y_nm, y_kp:y_n})\n",
    "exprn"
   ]
  },
  {
   "cell_type": "markdown",
   "metadata": {},
   "source": [
    "Uniendo todo esto llegaríamos a las siguientes ecuaciones adicionales a tener en cuenta en este caso del spline cúbico periódico: $s'(x_0) = s'(x_n)$ y $s''(x_0) = s''(x_n)$."
   ]
  },
  {
   "cell_type": "code",
   "execution_count": 180,
   "metadata": {},
   "outputs": [],
   "source": [
    "ec1 = Eq(M_0,M_n)\n",
    "ec2 = Eq(expr0, exprn)"
   ]
  },
  {
   "cell_type": "code",
   "execution_count": 181,
   "metadata": {},
   "outputs": [
    {
     "data": {
      "text/latex": [
       "$\\displaystyle M_{0} = M_{n}$"
      ],
      "text/plain": [
       "Eq(M_0, M_n)"
      ]
     },
     "execution_count": 181,
     "metadata": {},
     "output_type": "execute_result"
    }
   ],
   "source": [
    "ec1"
   ]
  },
  {
   "cell_type": "code",
   "execution_count": 182,
   "metadata": {},
   "outputs": [
    {
     "data": {
      "text/latex": [
       "$\\displaystyle - \\frac{M_{0} h_{0}}{3} - \\frac{M_{1} h_{0}}{6} - \\frac{y_{0}}{h_{0}} + \\frac{y_{1}}{h_{0}} = \\frac{M_{n} h_{n-1}}{3} + \\frac{M_{n-1} h_{n-1}}{6} + \\frac{y_{n}}{h_{n-1}} - \\frac{y_{n-1}}{h_{n-1}}$"
      ],
      "text/plain": [
       "Eq(-M_0*h_0/3 - M_1*h_0/6 - y_0/h_0 + y_1/h_0, M_n*h_n-1/3 + M_n-1*h_n-1/6 + y_n/h_n-1 - y_n-1/h_n-1)"
      ]
     },
     "execution_count": 182,
     "metadata": {},
     "output_type": "execute_result"
    }
   ],
   "source": [
    "ec2"
   ]
  },
  {
   "cell_type": "markdown",
   "metadata": {},
   "source": [
    "### Caso del spline cúbico sujeto: con $s'(x_0) = d_0$ y $s'(x_n) = d_n$"
   ]
  },
  {
   "cell_type": "code",
   "execution_count": 184,
   "metadata": {},
   "outputs": [
    {
     "data": {
      "text/latex": [
       "$\\displaystyle - \\frac{h_{k} \\left(M_{k} \\left(- x + x_{k+1}\\right) + M_{k+1} \\left(x - x_{k}\\right)\\right)}{6} + \\frac{M_{k} \\left(- x + x_{k+1}\\right)^{3} + M_{k+1} \\left(x - x_{k}\\right)^{3}}{6 h_{k}} + \\frac{y_{k} \\left(- x + x_{k+1}\\right) + y_{k+1} \\left(x - x_{k}\\right)}{h_{k}}$"
      ],
      "text/plain": [
       "-h_k*(M_k*(-x + x_k+1) + M_k+1*(x - x_k))/6 + (M_k*(-x + x_k+1)**3 + M_k+1*(x - x_k)**3)/(6*h_k) + (y_k*(-x + x_k+1) + y_k+1*(x - x_k))/h_k"
      ]
     },
     "execution_count": 184,
     "metadata": {},
     "output_type": "execute_result"
    }
   ],
   "source": [
    "s_k"
   ]
  },
  {
   "cell_type": "code",
   "execution_count": 185,
   "metadata": {},
   "outputs": [
    {
     "data": {
      "text/latex": [
       "$\\displaystyle - \\frac{M_{k} \\left(- x_{k} + x_{k+1}\\right)^{2}}{2 h_{k}} - \\frac{h_{k} \\left(- M_{k} + M_{k+1}\\right)}{6} + \\frac{- y_{k} + y_{k+1}}{h_{k}}$"
      ],
      "text/plain": [
       "-M_k*(-x_k + x_k+1)**2/(2*h_k) - h_k*(-M_k + M_k+1)/6 + (-y_k + y_k+1)/h_k"
      ]
     },
     "execution_count": 185,
     "metadata": {},
     "output_type": "execute_result"
    }
   ],
   "source": [
    "diff(s_k,x).subs({x:x_k})"
   ]
  },
  {
   "cell_type": "code",
   "execution_count": 186,
   "metadata": {},
   "outputs": [
    {
     "data": {
      "text/latex": [
       "$\\displaystyle - \\frac{M_{k} h_{k}}{3} - \\frac{M_{k+1} h_{k}}{6} - \\frac{y_{k}}{h_{k}} + \\frac{y_{k+1}}{h_{k}}$"
      ],
      "text/plain": [
       "-M_k*h_k/3 - M_k+1*h_k/6 - y_k/h_k + y_k+1/h_k"
      ]
     },
     "execution_count": 186,
     "metadata": {},
     "output_type": "execute_result"
    }
   ],
   "source": [
    "diff(s_k,x).subs({x:x_k}).simplify().subs({x_k-x_kp:-h_k}).expand()"
   ]
  },
  {
   "cell_type": "code",
   "execution_count": 187,
   "metadata": {},
   "outputs": [
    {
     "data": {
      "text/latex": [
       "$\\displaystyle - \\frac{M_{0} h_{k}}{3} - \\frac{M_{1} h_{k}}{6} - \\frac{y_{0}}{h_{k}} + \\frac{y_{1}}{h_{k}}$"
      ],
      "text/plain": [
       "-M_0*h_k/3 - M_1*h_k/6 - y_0/h_k + y_1/h_k"
      ]
     },
     "execution_count": 187,
     "metadata": {},
     "output_type": "execute_result"
    }
   ],
   "source": [
    "diff(s_k,x).subs({x:x_k}).simplify().subs({x_k-x_kp:-h_k}).expand().subs({M_k:M_0, M_kp:M_1, y_k:y_0, y_kp:y_1})"
   ]
  },
  {
   "cell_type": "markdown",
   "metadata": {},
   "source": [
    "En cuanto a la derivada en el otro extremo derecho del intervalo:"
   ]
  },
  {
   "cell_type": "code",
   "execution_count": 189,
   "metadata": {},
   "outputs": [
    {
     "data": {
      "text/latex": [
       "$\\displaystyle \\frac{M_{k} h_{k}}{6} + \\frac{M_{k+1} h_{k}}{3} - \\frac{y_{k}}{h_{k}} + \\frac{y_{k+1}}{h_{k}}$"
      ],
      "text/plain": [
       "M_k*h_k/6 + M_k+1*h_k/3 - y_k/h_k + y_k+1/h_k"
      ]
     },
     "execution_count": 189,
     "metadata": {},
     "output_type": "execute_result"
    }
   ],
   "source": [
    "diff(s_k,x).subs({x:x_kp}).subs({x_k-x_kp:-h_k}).expand()"
   ]
  },
  {
   "cell_type": "code",
   "execution_count": 190,
   "metadata": {},
   "outputs": [
    {
     "data": {
      "text/latex": [
       "$\\displaystyle \\frac{M_{n} h_{n-1}}{3} + \\frac{M_{n-1} h_{n-1}}{6} + \\frac{y_{n}}{h_{n-1}} - \\frac{y_{n-1}}{h_{n-1}}$"
      ],
      "text/plain": [
       "M_n*h_n-1/3 + M_n-1*h_n-1/6 + y_n/h_n-1 - y_n-1/h_n-1"
      ]
     },
     "execution_count": 190,
     "metadata": {},
     "output_type": "execute_result"
    }
   ],
   "source": [
    " diff(s_k,x).subs({x:x_kp}).subs({x_k-x_kp:-h_k}).expand().subs({M_k:M_nm, M_kp:M_n, y_k:y_nm, y_kp:y_n, h_k:h_nm})"
   ]
  },
  {
   "cell_type": "markdown",
   "metadata": {},
   "source": [
    "El sistema que resulta es, de nuevo, tridiagonal, diagonalmente dominante y, por tanto, el problema resulta unisolvente."
   ]
  },
  {
   "cell_type": "code",
   "execution_count": 192,
   "metadata": {},
   "outputs": [
    {
     "data": {
      "text/plain": [
       "'C:\\\\Users\\\\prode\\\\Downloads'"
      ]
     },
     "execution_count": 192,
     "metadata": {},
     "output_type": "execute_result"
    }
   ],
   "source": [
    "%pwd"
   ]
  }
 ],
 "metadata": {
  "kernelspec": {
   "display_name": "Python 3 (ipykernel)",
   "language": "python",
   "name": "python3"
  },
  "language_info": {
   "codemirror_mode": {
    "name": "ipython",
    "version": 3
   },
   "file_extension": ".py",
   "mimetype": "text/x-python",
   "name": "python",
   "nbconvert_exporter": "python",
   "pygments_lexer": "ipython3",
   "version": "3.12.4"
  }
 },
 "nbformat": 4,
 "nbformat_minor": 4
}
